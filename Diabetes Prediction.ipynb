{
 "cells": [
  {
   "cell_type": "code",
   "execution_count": 417,
   "metadata": {},
   "outputs": [],
   "source": [
    "import pandas as pd\n",
    "import matplotlib.pyplot as plt\n",
    "import seaborn as sns\n",
    "import numpy as np"
   ]
  },
  {
   "cell_type": "code",
   "execution_count": 418,
   "metadata": {},
   "outputs": [],
   "source": [
    "df=pd.read_csv(r'C:\\Users\\Rahul Airan\\Desktop\\Skill Development\\Project\\Diabetes-Prediction-using-ML-AND-DL-main\\diabetes.csv')"
   ]
  },
  {
   "cell_type": "code",
   "execution_count": 419,
   "metadata": {},
   "outputs": [
    {
     "data": {
      "text/html": [
       "<div>\n",
       "<style scoped>\n",
       "    .dataframe tbody tr th:only-of-type {\n",
       "        vertical-align: middle;\n",
       "    }\n",
       "\n",
       "    .dataframe tbody tr th {\n",
       "        vertical-align: top;\n",
       "    }\n",
       "\n",
       "    .dataframe thead th {\n",
       "        text-align: right;\n",
       "    }\n",
       "</style>\n",
       "<table border=\"1\" class=\"dataframe\">\n",
       "  <thead>\n",
       "    <tr style=\"text-align: right;\">\n",
       "      <th></th>\n",
       "      <th>Pregnancies</th>\n",
       "      <th>Glucose</th>\n",
       "      <th>BloodPressure</th>\n",
       "      <th>SkinThickness</th>\n",
       "      <th>Insulin</th>\n",
       "      <th>BMI</th>\n",
       "      <th>DiabetesPedigreeFunction</th>\n",
       "      <th>Age</th>\n",
       "      <th>Outcome</th>\n",
       "    </tr>\n",
       "  </thead>\n",
       "  <tbody>\n",
       "    <tr>\n",
       "      <th>0</th>\n",
       "      <td>6</td>\n",
       "      <td>148</td>\n",
       "      <td>72</td>\n",
       "      <td>35</td>\n",
       "      <td>0</td>\n",
       "      <td>33.6</td>\n",
       "      <td>0.627</td>\n",
       "      <td>50</td>\n",
       "      <td>1</td>\n",
       "    </tr>\n",
       "    <tr>\n",
       "      <th>1</th>\n",
       "      <td>1</td>\n",
       "      <td>85</td>\n",
       "      <td>66</td>\n",
       "      <td>29</td>\n",
       "      <td>0</td>\n",
       "      <td>26.6</td>\n",
       "      <td>0.351</td>\n",
       "      <td>31</td>\n",
       "      <td>0</td>\n",
       "    </tr>\n",
       "    <tr>\n",
       "      <th>2</th>\n",
       "      <td>8</td>\n",
       "      <td>183</td>\n",
       "      <td>64</td>\n",
       "      <td>0</td>\n",
       "      <td>0</td>\n",
       "      <td>23.3</td>\n",
       "      <td>0.672</td>\n",
       "      <td>32</td>\n",
       "      <td>1</td>\n",
       "    </tr>\n",
       "    <tr>\n",
       "      <th>3</th>\n",
       "      <td>1</td>\n",
       "      <td>89</td>\n",
       "      <td>66</td>\n",
       "      <td>23</td>\n",
       "      <td>94</td>\n",
       "      <td>28.1</td>\n",
       "      <td>0.167</td>\n",
       "      <td>21</td>\n",
       "      <td>0</td>\n",
       "    </tr>\n",
       "    <tr>\n",
       "      <th>4</th>\n",
       "      <td>0</td>\n",
       "      <td>137</td>\n",
       "      <td>40</td>\n",
       "      <td>35</td>\n",
       "      <td>168</td>\n",
       "      <td>43.1</td>\n",
       "      <td>2.288</td>\n",
       "      <td>33</td>\n",
       "      <td>1</td>\n",
       "    </tr>\n",
       "  </tbody>\n",
       "</table>\n",
       "</div>"
      ],
      "text/plain": [
       "   Pregnancies  Glucose  BloodPressure  SkinThickness  Insulin   BMI  \\\n",
       "0            6      148             72             35        0  33.6   \n",
       "1            1       85             66             29        0  26.6   \n",
       "2            8      183             64              0        0  23.3   \n",
       "3            1       89             66             23       94  28.1   \n",
       "4            0      137             40             35      168  43.1   \n",
       "\n",
       "   DiabetesPedigreeFunction  Age  Outcome  \n",
       "0                     0.627   50        1  \n",
       "1                     0.351   31        0  \n",
       "2                     0.672   32        1  \n",
       "3                     0.167   21        0  \n",
       "4                     2.288   33        1  "
      ]
     },
     "execution_count": 419,
     "metadata": {},
     "output_type": "execute_result"
    }
   ],
   "source": [
    "# Show first five observations\n",
    "df.head()"
   ]
  },
  {
   "cell_type": "markdown",
   "metadata": {},
   "source": [
    "# Exploratory Data Analysis"
   ]
  },
  {
   "cell_type": "code",
   "execution_count": 420,
   "metadata": {},
   "outputs": [
    {
     "data": {
      "text/plain": [
       "(768, 9)"
      ]
     },
     "execution_count": 420,
     "metadata": {},
     "output_type": "execute_result"
    }
   ],
   "source": [
    "# Returning dimensions of dataframe\n",
    "df.shape"
   ]
  },
  {
   "cell_type": "code",
   "execution_count": 421,
   "metadata": {},
   "outputs": [
    {
     "name": "stdout",
     "output_type": "stream",
     "text": [
      "<class 'pandas.core.frame.DataFrame'>\n",
      "RangeIndex: 768 entries, 0 to 767\n",
      "Data columns (total 9 columns):\n",
      " #   Column                    Non-Null Count  Dtype  \n",
      "---  ------                    --------------  -----  \n",
      " 0   Pregnancies               768 non-null    int64  \n",
      " 1   Glucose                   768 non-null    int64  \n",
      " 2   BloodPressure             768 non-null    int64  \n",
      " 3   SkinThickness             768 non-null    int64  \n",
      " 4   Insulin                   768 non-null    int64  \n",
      " 5   BMI                       768 non-null    float64\n",
      " 6   DiabetesPedigreeFunction  768 non-null    float64\n",
      " 7   Age                       768 non-null    int64  \n",
      " 8   Outcome                   768 non-null    int64  \n",
      "dtypes: float64(2), int64(7)\n",
      "memory usage: 54.1 KB\n"
     ]
    }
   ],
   "source": [
    "# Get Summary of Dataframe \n",
    "df.info()"
   ]
  },
  {
   "cell_type": "code",
   "execution_count": 422,
   "metadata": {},
   "outputs": [
    {
     "data": {
      "text/plain": [
       "Pregnancies                 0\n",
       "Glucose                     0\n",
       "BloodPressure               0\n",
       "SkinThickness               0\n",
       "Insulin                     0\n",
       "BMI                         0\n",
       "DiabetesPedigreeFunction    0\n",
       "Age                         0\n",
       "Outcome                     0\n",
       "dtype: int64"
      ]
     },
     "execution_count": 422,
     "metadata": {},
     "output_type": "execute_result"
    }
   ],
   "source": [
    "# Returning no. of missing values in each column\n",
    "df.isnull().sum()"
   ]
  },
  {
   "cell_type": "code",
   "execution_count": 423,
   "metadata": {},
   "outputs": [
    {
     "data": {
      "text/html": [
       "<div>\n",
       "<style scoped>\n",
       "    .dataframe tbody tr th:only-of-type {\n",
       "        vertical-align: middle;\n",
       "    }\n",
       "\n",
       "    .dataframe tbody tr th {\n",
       "        vertical-align: top;\n",
       "    }\n",
       "\n",
       "    .dataframe thead th {\n",
       "        text-align: right;\n",
       "    }\n",
       "</style>\n",
       "<table border=\"1\" class=\"dataframe\">\n",
       "  <thead>\n",
       "    <tr style=\"text-align: right;\">\n",
       "      <th></th>\n",
       "      <th>Pregnancies</th>\n",
       "      <th>Glucose</th>\n",
       "      <th>BloodPressure</th>\n",
       "      <th>SkinThickness</th>\n",
       "      <th>Insulin</th>\n",
       "      <th>BMI</th>\n",
       "      <th>DiabetesPedigreeFunction</th>\n",
       "      <th>Age</th>\n",
       "      <th>Outcome</th>\n",
       "    </tr>\n",
       "  </thead>\n",
       "  <tbody>\n",
       "    <tr>\n",
       "      <th>count</th>\n",
       "      <td>768.000000</td>\n",
       "      <td>768.000000</td>\n",
       "      <td>768.000000</td>\n",
       "      <td>768.000000</td>\n",
       "      <td>768.000000</td>\n",
       "      <td>768.000000</td>\n",
       "      <td>768.000000</td>\n",
       "      <td>768.000000</td>\n",
       "      <td>768.000000</td>\n",
       "    </tr>\n",
       "    <tr>\n",
       "      <th>mean</th>\n",
       "      <td>3.845052</td>\n",
       "      <td>120.894531</td>\n",
       "      <td>69.105469</td>\n",
       "      <td>20.536458</td>\n",
       "      <td>79.799479</td>\n",
       "      <td>31.992578</td>\n",
       "      <td>0.471876</td>\n",
       "      <td>33.240885</td>\n",
       "      <td>0.348958</td>\n",
       "    </tr>\n",
       "    <tr>\n",
       "      <th>std</th>\n",
       "      <td>3.369578</td>\n",
       "      <td>31.972618</td>\n",
       "      <td>19.355807</td>\n",
       "      <td>15.952218</td>\n",
       "      <td>115.244002</td>\n",
       "      <td>7.884160</td>\n",
       "      <td>0.331329</td>\n",
       "      <td>11.760232</td>\n",
       "      <td>0.476951</td>\n",
       "    </tr>\n",
       "    <tr>\n",
       "      <th>min</th>\n",
       "      <td>0.000000</td>\n",
       "      <td>0.000000</td>\n",
       "      <td>0.000000</td>\n",
       "      <td>0.000000</td>\n",
       "      <td>0.000000</td>\n",
       "      <td>0.000000</td>\n",
       "      <td>0.078000</td>\n",
       "      <td>21.000000</td>\n",
       "      <td>0.000000</td>\n",
       "    </tr>\n",
       "    <tr>\n",
       "      <th>25%</th>\n",
       "      <td>1.000000</td>\n",
       "      <td>99.000000</td>\n",
       "      <td>62.000000</td>\n",
       "      <td>0.000000</td>\n",
       "      <td>0.000000</td>\n",
       "      <td>27.300000</td>\n",
       "      <td>0.243750</td>\n",
       "      <td>24.000000</td>\n",
       "      <td>0.000000</td>\n",
       "    </tr>\n",
       "    <tr>\n",
       "      <th>50%</th>\n",
       "      <td>3.000000</td>\n",
       "      <td>117.000000</td>\n",
       "      <td>72.000000</td>\n",
       "      <td>23.000000</td>\n",
       "      <td>30.500000</td>\n",
       "      <td>32.000000</td>\n",
       "      <td>0.372500</td>\n",
       "      <td>29.000000</td>\n",
       "      <td>0.000000</td>\n",
       "    </tr>\n",
       "    <tr>\n",
       "      <th>75%</th>\n",
       "      <td>6.000000</td>\n",
       "      <td>140.250000</td>\n",
       "      <td>80.000000</td>\n",
       "      <td>32.000000</td>\n",
       "      <td>127.250000</td>\n",
       "      <td>36.600000</td>\n",
       "      <td>0.626250</td>\n",
       "      <td>41.000000</td>\n",
       "      <td>1.000000</td>\n",
       "    </tr>\n",
       "    <tr>\n",
       "      <th>max</th>\n",
       "      <td>17.000000</td>\n",
       "      <td>199.000000</td>\n",
       "      <td>122.000000</td>\n",
       "      <td>99.000000</td>\n",
       "      <td>846.000000</td>\n",
       "      <td>67.100000</td>\n",
       "      <td>2.420000</td>\n",
       "      <td>81.000000</td>\n",
       "      <td>1.000000</td>\n",
       "    </tr>\n",
       "  </tbody>\n",
       "</table>\n",
       "</div>"
      ],
      "text/plain": [
       "       Pregnancies     Glucose  BloodPressure  SkinThickness     Insulin  \\\n",
       "count   768.000000  768.000000     768.000000     768.000000  768.000000   \n",
       "mean      3.845052  120.894531      69.105469      20.536458   79.799479   \n",
       "std       3.369578   31.972618      19.355807      15.952218  115.244002   \n",
       "min       0.000000    0.000000       0.000000       0.000000    0.000000   \n",
       "25%       1.000000   99.000000      62.000000       0.000000    0.000000   \n",
       "50%       3.000000  117.000000      72.000000      23.000000   30.500000   \n",
       "75%       6.000000  140.250000      80.000000      32.000000  127.250000   \n",
       "max      17.000000  199.000000     122.000000      99.000000  846.000000   \n",
       "\n",
       "              BMI  DiabetesPedigreeFunction         Age     Outcome  \n",
       "count  768.000000                768.000000  768.000000  768.000000  \n",
       "mean    31.992578                  0.471876   33.240885    0.348958  \n",
       "std      7.884160                  0.331329   11.760232    0.476951  \n",
       "min      0.000000                  0.078000   21.000000    0.000000  \n",
       "25%     27.300000                  0.243750   24.000000    0.000000  \n",
       "50%     32.000000                  0.372500   29.000000    0.000000  \n",
       "75%     36.600000                  0.626250   41.000000    1.000000  \n",
       "max     67.100000                  2.420000   81.000000    1.000000  "
      ]
     },
     "execution_count": 423,
     "metadata": {},
     "output_type": "execute_result"
    }
   ],
   "source": [
    "# Get Statistics of Data\n",
    "df.describe()"
   ]
  },
  {
   "cell_type": "code",
   "execution_count": 424,
   "metadata": {},
   "outputs": [
    {
     "data": {
      "text/plain": [
       "0    500\n",
       "1    268\n",
       "Name: Outcome, dtype: int64"
      ]
     },
     "execution_count": 424,
     "metadata": {},
     "output_type": "execute_result"
    }
   ],
   "source": [
    "df['Outcome'].value_counts()"
   ]
  },
  {
   "cell_type": "code",
   "execution_count": 425,
   "metadata": {},
   "outputs": [
    {
     "data": {
      "text/plain": [
       "<AxesSubplot:xlabel='Outcome', ylabel='count'>"
      ]
     },
     "execution_count": 425,
     "metadata": {},
     "output_type": "execute_result"
    },
    {
     "data": {
      "image/png": "[encoded data removed]",
      "text/plain": [
       "<Figure size 432x288 with 1 Axes>"
      ]
     },
     "metadata": {
      "needs_background": "light"
     },
     "output_type": "display_data"
    }
   ],
   "source": [
    "sns.countplot(x='Outcome',data=df)"
   ]
  },
  {
   "cell_type": "code",
   "execution_count": 520,
   "metadata": {},
   "outputs": [
    {
     "data": {
      "text/plain": [
       "<AxesSubplot:>"
      ]
     },
     "execution_count": 520,
     "metadata": {},
     "output_type": "execute_result"
    },
    {
     "data": {
      "image/png": "[encoded data removed]",
      "text/plain": [
       "<Figure size 432x288 with 2 Axes>"
      ]
     },
     "metadata": {
      "needs_background": "light"
     },
     "output_type": "display_data"
    }
   ],
   "source": [
    "plt.figure(figsize=(6,4))\n",
    "sns.heatmap(df.corr(),cmap='Blues')"
   ]
  },
  {
   "cell_type": "code",
   "execution_count": 517,
   "metadata": {},
   "outputs": [
    {
     "data": {
      "text/plain": [
       "<AxesSubplot:>"
      ]
     },
     "execution_count": 517,
     "metadata": {},
     "output_type": "execute_result"
    },
    {
     "data": {
      "image/png": "[encoded data removed]",
      "text/plain": [
       "<Figure size 720x432 with 2 Axes>"
      ]
     },
     "metadata": {
      "needs_background": "light"
     },
     "output_type": "display_data"
    }
   ],
   "source": [
    "#Outcome Correlation Matrix\n",
    "k = 9 #number of variables for heatmap\n",
    "cols = df.corr().nlargest(k, 'Outcome')['Outcome'].index\n",
    "cm = df[cols].corr()\n",
    "plt.figure(figsize=(10,6))\n",
    "sns.heatmap(cm, annot=True, cmap = 'viridis')"
   ]
  },
  {
   "cell_type": "code",
   "execution_count": 426,
   "metadata": {},
   "outputs": [
    {
     "data": {
      "image/png": "[encoded data removed]",
      "text/plain": [
       "<Figure size 936x360 with 1 Axes>"
      ]
     },
     "metadata": {
      "needs_background": "light"
     },
     "output_type": "display_data"
    }
   ],
   "source": [
    "plt.figure(figsize=(13,5))\n",
    "sns.boxplot(data=df,orient='h')\n",
    "plt.show()"
   ]
  },
  {
   "cell_type": "code",
   "execution_count": 427,
   "metadata": {
    "scrolled": true
   },
   "outputs": [
    {
     "data": {
      "image/png": "[encoded data removed]",
      "text/plain": [
       "<Figure size 432x288 with 1 Axes>"
      ]
     },
     "metadata": {
      "needs_background": "light"
     },
     "output_type": "display_data"
    }
   ],
   "source": [
    "sns.scatterplot(x=df['Insulin'],y=df['Outcome']) #Valid Outlier\n",
    "plt.show()"
   ]
  },
  {
   "cell_type": "code",
   "execution_count": 515,
   "metadata": {
    "scrolled": false
   },
   "outputs": [
    {
     "name": "stderr",
     "output_type": "stream",
     "text": [
      "C:\\Users\\Rahul Airan\\anaconda3\\lib\\site-packages\\seaborn\\_decorators.py:36: FutureWarning: Pass the following variables as keyword args: x, y. From version 0.12, the only valid positional argument will be `data`, and passing other arguments without an explicit keyword will result in an error or misinterpretation.\n",
      "  warnings.warn(\n",
      "C:\\Users\\Rahul Airan\\anaconda3\\lib\\site-packages\\seaborn\\_decorators.py:36: FutureWarning: Pass the following variables as keyword args: x, y. From version 0.12, the only valid positional argument will be `data`, and passing other arguments without an explicit keyword will result in an error or misinterpretation.\n",
      "  warnings.warn(\n",
      "C:\\Users\\Rahul Airan\\anaconda3\\lib\\site-packages\\seaborn\\_decorators.py:36: FutureWarning: Pass the following variables as keyword args: x, y. From version 0.12, the only valid positional argument will be `data`, and passing other arguments without an explicit keyword will result in an error or misinterpretation.\n",
      "  warnings.warn(\n",
      "C:\\Users\\Rahul Airan\\anaconda3\\lib\\site-packages\\seaborn\\_decorators.py:36: FutureWarning: Pass the following variables as keyword args: x, y. From version 0.12, the only valid positional argument will be `data`, and passing other arguments without an explicit keyword will result in an error or misinterpretation.\n",
      "  warnings.warn(\n",
      "C:\\Users\\Rahul Airan\\anaconda3\\lib\\site-packages\\seaborn\\_decorators.py:36: FutureWarning: Pass the following variables as keyword args: x, y. From version 0.12, the only valid positional argument will be `data`, and passing other arguments without an explicit keyword will result in an error or misinterpretation.\n",
      "  warnings.warn(\n",
      "C:\\Users\\Rahul Airan\\anaconda3\\lib\\site-packages\\seaborn\\_decorators.py:36: FutureWarning: Pass the following variables as keyword args: x, y. From version 0.12, the only valid positional argument will be `data`, and passing other arguments without an explicit keyword will result in an error or misinterpretation.\n",
      "  warnings.warn(\n",
      "C:\\Users\\Rahul Airan\\anaconda3\\lib\\site-packages\\seaborn\\_decorators.py:36: FutureWarning: Pass the following variables as keyword args: x, y. From version 0.12, the only valid positional argument will be `data`, and passing other arguments without an explicit keyword will result in an error or misinterpretation.\n",
      "  warnings.warn(\n",
      "C:\\Users\\Rahul Airan\\anaconda3\\lib\\site-packages\\seaborn\\_decorators.py:36: FutureWarning: Pass the following variables as keyword args: x, y. From version 0.12, the only valid positional argument will be `data`, and passing other arguments without an explicit keyword will result in an error or misinterpretation.\n",
      "  warnings.warn(\n"
     ]
    },
    {
     "data": {
      "image/png": "[encoded data removed]",
      "text/plain": [
       "<Figure size 360x360 with 1 Axes>"
      ]
     },
     "metadata": {
      "needs_background": "light"
     },
     "output_type": "display_data"
    },
    {
     "data": {
      "image/png": "[encoded data removed]",
      "text/plain": [
       "<Figure size 360x360 with 1 Axes>"
      ]
     },
     "metadata": {
      "needs_background": "light"
     },
     "output_type": "display_data"
    },
    {
     "data": {
      "image/png": "[encoded data removed]",
      "text/plain": [
       "<Figure size 360x360 with 1 Axes>"
      ]
     },
     "metadata": {
      "needs_background": "light"
     },
     "output_type": "display_data"
    },
    {
     "data": {
      "image/png": "[encoded data removed]",
      "text/plain": [
       "<Figure size 360x360 with 1 Axes>"
      ]
     },
     "metadata": {
      "needs_background": "light"
     },
     "output_type": "display_data"
    },
    {
     "data": {
      "image/png": "[encoded data removed]",
      "text/plain": [
       "<Figure size 360x360 with 1 Axes>"
      ]
     },
     "metadata": {
      "needs_background": "light"
     },
     "output_type": "display_data"
    },
    {
     "data": {
      "image/png": "[encoded data removed]",
      "text/plain": [
       "<Figure size 360x360 with 1 Axes>"
      ]
     },
     "metadata": {
      "needs_background": "light"
     },
     "output_type": "display_data"
    },
    {
     "data": {
      "image/png": "[encoded data removed]",
      "text/plain": [
       "<Figure size 360x360 with 1 Axes>"
      ]
     },
     "metadata": {
      "needs_background": "light"
     },
     "output_type": "display_data"
    },
    {
     "data": {
      "image/png": "[encoded data removed]",
      "text/plain": [
       "<Figure size 360x360 with 1 Axes>"
      ]
     },
     "metadata": {
      "needs_background": "light"
     },
     "output_type": "display_data"
    }
   ],
   "source": [
    "for col in df.columns:\n",
    "    if col != \"Outcome\":\n",
    "        sns.catplot(\"Outcome\", col, data = df)\n"
   ]
  },
  {
   "cell_type": "markdown",
   "metadata": {},
   "source": [
    "# Replacing 0 with Mean with respective columns"
   ]
  },
  {
   "cell_type": "code",
   "execution_count": 428,
   "metadata": {},
   "outputs": [
    {
     "data": {
      "text/html": [
       "<div>\n",
       "<style scoped>\n",
       "    .dataframe tbody tr th:only-of-type {\n",
       "        vertical-align: middle;\n",
       "    }\n",
       "\n",
       "    .dataframe tbody tr th {\n",
       "        vertical-align: top;\n",
       "    }\n",
       "\n",
       "    .dataframe thead th {\n",
       "        text-align: right;\n",
       "    }\n",
       "</style>\n",
       "<table border=\"1\" class=\"dataframe\">\n",
       "  <thead>\n",
       "    <tr style=\"text-align: right;\">\n",
       "      <th></th>\n",
       "      <th>Pregnancies</th>\n",
       "      <th>Glucose</th>\n",
       "      <th>BloodPressure</th>\n",
       "      <th>SkinThickness</th>\n",
       "      <th>Insulin</th>\n",
       "      <th>BMI</th>\n",
       "      <th>DiabetesPedigreeFunction</th>\n",
       "      <th>Age</th>\n",
       "      <th>Outcome</th>\n",
       "    </tr>\n",
       "  </thead>\n",
       "  <tbody>\n",
       "    <tr>\n",
       "      <th>count</th>\n",
       "      <td>768.000000</td>\n",
       "      <td>768.000000</td>\n",
       "      <td>768.000000</td>\n",
       "      <td>768.000000</td>\n",
       "      <td>768.000000</td>\n",
       "      <td>768.000000</td>\n",
       "      <td>768.000000</td>\n",
       "      <td>768.000000</td>\n",
       "      <td>768.000000</td>\n",
       "    </tr>\n",
       "    <tr>\n",
       "      <th>mean</th>\n",
       "      <td>3.845052</td>\n",
       "      <td>120.894531</td>\n",
       "      <td>69.105469</td>\n",
       "      <td>20.536458</td>\n",
       "      <td>79.799479</td>\n",
       "      <td>31.992578</td>\n",
       "      <td>0.471876</td>\n",
       "      <td>33.240885</td>\n",
       "      <td>0.348958</td>\n",
       "    </tr>\n",
       "    <tr>\n",
       "      <th>std</th>\n",
       "      <td>3.369578</td>\n",
       "      <td>31.972618</td>\n",
       "      <td>19.355807</td>\n",
       "      <td>15.952218</td>\n",
       "      <td>115.244002</td>\n",
       "      <td>7.884160</td>\n",
       "      <td>0.331329</td>\n",
       "      <td>11.760232</td>\n",
       "      <td>0.476951</td>\n",
       "    </tr>\n",
       "    <tr>\n",
       "      <th>min</th>\n",
       "      <td>0.000000</td>\n",
       "      <td>0.000000</td>\n",
       "      <td>0.000000</td>\n",
       "      <td>0.000000</td>\n",
       "      <td>0.000000</td>\n",
       "      <td>0.000000</td>\n",
       "      <td>0.078000</td>\n",
       "      <td>21.000000</td>\n",
       "      <td>0.000000</td>\n",
       "    </tr>\n",
       "    <tr>\n",
       "      <th>25%</th>\n",
       "      <td>1.000000</td>\n",
       "      <td>99.000000</td>\n",
       "      <td>62.000000</td>\n",
       "      <td>0.000000</td>\n",
       "      <td>0.000000</td>\n",
       "      <td>27.300000</td>\n",
       "      <td>0.243750</td>\n",
       "      <td>24.000000</td>\n",
       "      <td>0.000000</td>\n",
       "    </tr>\n",
       "    <tr>\n",
       "      <th>50%</th>\n",
       "      <td>3.000000</td>\n",
       "      <td>117.000000</td>\n",
       "      <td>72.000000</td>\n",
       "      <td>23.000000</td>\n",
       "      <td>30.500000</td>\n",
       "      <td>32.000000</td>\n",
       "      <td>0.372500</td>\n",
       "      <td>29.000000</td>\n",
       "      <td>0.000000</td>\n",
       "    </tr>\n",
       "    <tr>\n",
       "      <th>75%</th>\n",
       "      <td>6.000000</td>\n",
       "      <td>140.250000</td>\n",
       "      <td>80.000000</td>\n",
       "      <td>32.000000</td>\n",
       "      <td>127.250000</td>\n",
       "      <td>36.600000</td>\n",
       "      <td>0.626250</td>\n",
       "      <td>41.000000</td>\n",
       "      <td>1.000000</td>\n",
       "    </tr>\n",
       "    <tr>\n",
       "      <th>max</th>\n",
       "      <td>17.000000</td>\n",
       "      <td>199.000000</td>\n",
       "      <td>122.000000</td>\n",
       "      <td>99.000000</td>\n",
       "      <td>846.000000</td>\n",
       "      <td>67.100000</td>\n",
       "      <td>2.420000</td>\n",
       "      <td>81.000000</td>\n",
       "      <td>1.000000</td>\n",
       "    </tr>\n",
       "  </tbody>\n",
       "</table>\n",
       "</div>"
      ],
      "text/plain": [
       "       Pregnancies     Glucose  BloodPressure  SkinThickness     Insulin  \\\n",
       "count   768.000000  768.000000     768.000000     768.000000  768.000000   \n",
       "mean      3.845052  120.894531      69.105469      20.536458   79.799479   \n",
       "std       3.369578   31.972618      19.355807      15.952218  115.244002   \n",
       "min       0.000000    0.000000       0.000000       0.000000    0.000000   \n",
       "25%       1.000000   99.000000      62.000000       0.000000    0.000000   \n",
       "50%       3.000000  117.000000      72.000000      23.000000   30.500000   \n",
       "75%       6.000000  140.250000      80.000000      32.000000  127.250000   \n",
       "max      17.000000  199.000000     122.000000      99.000000  846.000000   \n",
       "\n",
       "              BMI  DiabetesPedigreeFunction         Age     Outcome  \n",
       "count  768.000000                768.000000  768.000000  768.000000  \n",
       "mean    31.992578                  0.471876   33.240885    0.348958  \n",
       "std      7.884160                  0.331329   11.760232    0.476951  \n",
       "min      0.000000                  0.078000   21.000000    0.000000  \n",
       "25%     27.300000                  0.243750   24.000000    0.000000  \n",
       "50%     32.000000                  0.372500   29.000000    0.000000  \n",
       "75%     36.600000                  0.626250   41.000000    1.000000  \n",
       "max     67.100000                  2.420000   81.000000    1.000000  "
      ]
     },
     "execution_count": 428,
     "metadata": {},
     "output_type": "execute_result"
    }
   ],
   "source": [
    "df.describe()"
   ]
  },
  {
   "cell_type": "code",
   "execution_count": 429,
   "metadata": {},
   "outputs": [],
   "source": [
    "#Replacing 0 by Nan\n",
    "df[['Glucose','BloodPressure','SkinThickness','Insulin','BMI']]=df[['Glucose','BloodPressure','SkinThickness','Insulin','BMI']].replace(0,np.NaN)"
   ]
  },
  {
   "cell_type": "code",
   "execution_count": 430,
   "metadata": {},
   "outputs": [
    {
     "data": {
      "text/plain": [
       "Pregnancies                   0\n",
       "Glucose                       5\n",
       "BloodPressure                35\n",
       "SkinThickness               227\n",
       "Insulin                     374\n",
       "BMI                          11\n",
       "DiabetesPedigreeFunction      0\n",
       "Age                           0\n",
       "Outcome                       0\n",
       "dtype: int64"
      ]
     },
     "execution_count": 430,
     "metadata": {},
     "output_type": "execute_result"
    }
   ],
   "source": [
    "# Again, getting no. of missing values in each column \n",
    "\n",
    "df.isnull().sum()"
   ]
  },
  {
   "cell_type": "code",
   "execution_count": 431,
   "metadata": {},
   "outputs": [
    {
     "data": {
      "image/png": "[encoded data removed]",
      "text/plain": [
       "<Figure size 1440x1440 with 9 Axes>"
      ]
     },
     "metadata": {
      "needs_background": "light"
     },
     "output_type": "display_data"
    }
   ],
   "source": [
    "# Data Visualization to understand Data Distribution Before filling NaN values \n",
    "p = df.hist(figsize = (20,20))"
   ]
  },
  {
   "cell_type": "code",
   "execution_count": 432,
   "metadata": {},
   "outputs": [],
   "source": [
    "#Filling Nan Values\n",
    "\n",
    "df['Glucose'].fillna(df['Glucose'].median(), inplace = True)\n",
    "df['BloodPressure'].fillna(df['BloodPressure'].median(), inplace = True)\n",
    "df['SkinThickness'].fillna(df['SkinThickness'].median(), inplace = True)\n",
    "df['Insulin'].fillna(df['Insulin'].median(), inplace = True)\n",
    "df['BMI'].fillna(df['BMI'].mean(), inplace = True)"
   ]
  },
  {
   "cell_type": "code",
   "execution_count": 433,
   "metadata": {},
   "outputs": [
    {
     "data": {
      "text/plain": [
       "Pregnancies                 0\n",
       "Glucose                     0\n",
       "BloodPressure               0\n",
       "SkinThickness               0\n",
       "Insulin                     0\n",
       "BMI                         0\n",
       "DiabetesPedigreeFunction    0\n",
       "Age                         0\n",
       "Outcome                     0\n",
       "dtype: int64"
      ]
     },
     "execution_count": 433,
     "metadata": {},
     "output_type": "execute_result"
    }
   ],
   "source": [
    "# Checking if missing values in each column is replaced\n",
    "\n",
    "df.isnull().sum()"
   ]
  },
  {
   "cell_type": "code",
   "execution_count": 434,
   "metadata": {},
   "outputs": [
    {
     "data": {
      "image/png": "[encoded data removed]",
      "text/plain": [
       "<Figure size 1440x1440 with 9 Axes>"
      ]
     },
     "metadata": {
      "needs_background": "light"
     },
     "output_type": "display_data"
    }
   ],
   "source": [
    "# Data Visualization after Nan Removal\n",
    "p = df.hist(figsize = (20,20))"
   ]
  },
  {
   "cell_type": "code",
   "execution_count": 435,
   "metadata": {},
   "outputs": [
    {
     "data": {
      "text/html": [
       "<div>\n",
       "<style scoped>\n",
       "    .dataframe tbody tr th:only-of-type {\n",
       "        vertical-align: middle;\n",
       "    }\n",
       "\n",
       "    .dataframe tbody tr th {\n",
       "        vertical-align: top;\n",
       "    }\n",
       "\n",
       "    .dataframe thead th {\n",
       "        text-align: right;\n",
       "    }\n",
       "</style>\n",
       "<table border=\"1\" class=\"dataframe\">\n",
       "  <thead>\n",
       "    <tr style=\"text-align: right;\">\n",
       "      <th></th>\n",
       "      <th>Pregnancies</th>\n",
       "      <th>Glucose</th>\n",
       "      <th>BloodPressure</th>\n",
       "      <th>SkinThickness</th>\n",
       "      <th>Insulin</th>\n",
       "      <th>BMI</th>\n",
       "      <th>DiabetesPedigreeFunction</th>\n",
       "      <th>Age</th>\n",
       "      <th>Outcome</th>\n",
       "    </tr>\n",
       "  </thead>\n",
       "  <tbody>\n",
       "    <tr>\n",
       "      <th>count</th>\n",
       "      <td>768.000000</td>\n",
       "      <td>768.000000</td>\n",
       "      <td>768.000000</td>\n",
       "      <td>768.000000</td>\n",
       "      <td>768.000000</td>\n",
       "      <td>768.000000</td>\n",
       "      <td>768.000000</td>\n",
       "      <td>768.000000</td>\n",
       "      <td>768.000000</td>\n",
       "    </tr>\n",
       "    <tr>\n",
       "      <th>mean</th>\n",
       "      <td>3.845052</td>\n",
       "      <td>121.656250</td>\n",
       "      <td>72.386719</td>\n",
       "      <td>29.108073</td>\n",
       "      <td>140.671875</td>\n",
       "      <td>32.457464</td>\n",
       "      <td>0.471876</td>\n",
       "      <td>33.240885</td>\n",
       "      <td>0.348958</td>\n",
       "    </tr>\n",
       "    <tr>\n",
       "      <th>std</th>\n",
       "      <td>3.369578</td>\n",
       "      <td>30.438286</td>\n",
       "      <td>12.096642</td>\n",
       "      <td>8.791221</td>\n",
       "      <td>86.383060</td>\n",
       "      <td>6.875151</td>\n",
       "      <td>0.331329</td>\n",
       "      <td>11.760232</td>\n",
       "      <td>0.476951</td>\n",
       "    </tr>\n",
       "    <tr>\n",
       "      <th>min</th>\n",
       "      <td>0.000000</td>\n",
       "      <td>44.000000</td>\n",
       "      <td>24.000000</td>\n",
       "      <td>7.000000</td>\n",
       "      <td>14.000000</td>\n",
       "      <td>18.200000</td>\n",
       "      <td>0.078000</td>\n",
       "      <td>21.000000</td>\n",
       "      <td>0.000000</td>\n",
       "    </tr>\n",
       "    <tr>\n",
       "      <th>25%</th>\n",
       "      <td>1.000000</td>\n",
       "      <td>99.750000</td>\n",
       "      <td>64.000000</td>\n",
       "      <td>25.000000</td>\n",
       "      <td>121.500000</td>\n",
       "      <td>27.500000</td>\n",
       "      <td>0.243750</td>\n",
       "      <td>24.000000</td>\n",
       "      <td>0.000000</td>\n",
       "    </tr>\n",
       "    <tr>\n",
       "      <th>50%</th>\n",
       "      <td>3.000000</td>\n",
       "      <td>117.000000</td>\n",
       "      <td>72.000000</td>\n",
       "      <td>29.000000</td>\n",
       "      <td>125.000000</td>\n",
       "      <td>32.400000</td>\n",
       "      <td>0.372500</td>\n",
       "      <td>29.000000</td>\n",
       "      <td>0.000000</td>\n",
       "    </tr>\n",
       "    <tr>\n",
       "      <th>75%</th>\n",
       "      <td>6.000000</td>\n",
       "      <td>140.250000</td>\n",
       "      <td>80.000000</td>\n",
       "      <td>32.000000</td>\n",
       "      <td>127.250000</td>\n",
       "      <td>36.600000</td>\n",
       "      <td>0.626250</td>\n",
       "      <td>41.000000</td>\n",
       "      <td>1.000000</td>\n",
       "    </tr>\n",
       "    <tr>\n",
       "      <th>max</th>\n",
       "      <td>17.000000</td>\n",
       "      <td>199.000000</td>\n",
       "      <td>122.000000</td>\n",
       "      <td>99.000000</td>\n",
       "      <td>846.000000</td>\n",
       "      <td>67.100000</td>\n",
       "      <td>2.420000</td>\n",
       "      <td>81.000000</td>\n",
       "      <td>1.000000</td>\n",
       "    </tr>\n",
       "  </tbody>\n",
       "</table>\n",
       "</div>"
      ],
      "text/plain": [
       "       Pregnancies     Glucose  BloodPressure  SkinThickness     Insulin  \\\n",
       "count   768.000000  768.000000     768.000000     768.000000  768.000000   \n",
       "mean      3.845052  121.656250      72.386719      29.108073  140.671875   \n",
       "std       3.369578   30.438286      12.096642       8.791221   86.383060   \n",
       "min       0.000000   44.000000      24.000000       7.000000   14.000000   \n",
       "25%       1.000000   99.750000      64.000000      25.000000  121.500000   \n",
       "50%       3.000000  117.000000      72.000000      29.000000  125.000000   \n",
       "75%       6.000000  140.250000      80.000000      32.000000  127.250000   \n",
       "max      17.000000  199.000000     122.000000      99.000000  846.000000   \n",
       "\n",
       "              BMI  DiabetesPedigreeFunction         Age     Outcome  \n",
       "count  768.000000                768.000000  768.000000  768.000000  \n",
       "mean    32.457464                  0.471876   33.240885    0.348958  \n",
       "std      6.875151                  0.331329   11.760232    0.476951  \n",
       "min     18.200000                  0.078000   21.000000    0.000000  \n",
       "25%     27.500000                  0.243750   24.000000    0.000000  \n",
       "50%     32.400000                  0.372500   29.000000    0.000000  \n",
       "75%     36.600000                  0.626250   41.000000    1.000000  \n",
       "max     67.100000                  2.420000   81.000000    1.000000  "
      ]
     },
     "execution_count": 435,
     "metadata": {},
     "output_type": "execute_result"
    }
   ],
   "source": [
    "df.describe()"
   ]
  },
  {
   "cell_type": "code",
   "execution_count": 436,
   "metadata": {},
   "outputs": [
    {
     "data": {
      "image/png": "[encoded data removed]",
      "text/plain": [
       "<Figure size 936x360 with 1 Axes>"
      ]
     },
     "metadata": {
      "needs_background": "light"
     },
     "output_type": "display_data"
    }
   ],
   "source": [
    "X.boxplot(figsize=(13,5))\n",
    "plt.show()"
   ]
  },
  {
   "cell_type": "code",
   "execution_count": null,
   "metadata": {},
   "outputs": [],
   "source": []
  },
  {
   "cell_type": "markdown",
   "metadata": {},
   "source": [
    "# Splitting of data for training and testing"
   ]
  },
  {
   "cell_type": "code",
   "execution_count": 437,
   "metadata": {},
   "outputs": [],
   "source": [
    "X=df.drop('Outcome',axis=1)"
   ]
  },
  {
   "cell_type": "code",
   "execution_count": 438,
   "metadata": {},
   "outputs": [
    {
     "data": {
      "text/html": [
       "<div>\n",
       "<style scoped>\n",
       "    .dataframe tbody tr th:only-of-type {\n",
       "        vertical-align: middle;\n",
       "    }\n",
       "\n",
       "    .dataframe tbody tr th {\n",
       "        vertical-align: top;\n",
       "    }\n",
       "\n",
       "    .dataframe thead th {\n",
       "        text-align: right;\n",
       "    }\n",
       "</style>\n",
       "<table border=\"1\" class=\"dataframe\">\n",
       "  <thead>\n",
       "    <tr style=\"text-align: right;\">\n",
       "      <th></th>\n",
       "      <th>Pregnancies</th>\n",
       "      <th>Glucose</th>\n",
       "      <th>BloodPressure</th>\n",
       "      <th>SkinThickness</th>\n",
       "      <th>Insulin</th>\n",
       "      <th>BMI</th>\n",
       "      <th>DiabetesPedigreeFunction</th>\n",
       "      <th>Age</th>\n",
       "    </tr>\n",
       "  </thead>\n",
       "  <tbody>\n",
       "    <tr>\n",
       "      <th>count</th>\n",
       "      <td>768.000000</td>\n",
       "      <td>768.000000</td>\n",
       "      <td>768.000000</td>\n",
       "      <td>768.000000</td>\n",
       "      <td>768.000000</td>\n",
       "      <td>768.000000</td>\n",
       "      <td>768.000000</td>\n",
       "      <td>768.000000</td>\n",
       "    </tr>\n",
       "    <tr>\n",
       "      <th>mean</th>\n",
       "      <td>3.845052</td>\n",
       "      <td>121.656250</td>\n",
       "      <td>72.386719</td>\n",
       "      <td>29.108073</td>\n",
       "      <td>140.671875</td>\n",
       "      <td>32.457464</td>\n",
       "      <td>0.471876</td>\n",
       "      <td>33.240885</td>\n",
       "    </tr>\n",
       "    <tr>\n",
       "      <th>std</th>\n",
       "      <td>3.369578</td>\n",
       "      <td>30.438286</td>\n",
       "      <td>12.096642</td>\n",
       "      <td>8.791221</td>\n",
       "      <td>86.383060</td>\n",
       "      <td>6.875151</td>\n",
       "      <td>0.331329</td>\n",
       "      <td>11.760232</td>\n",
       "    </tr>\n",
       "    <tr>\n",
       "      <th>min</th>\n",
       "      <td>0.000000</td>\n",
       "      <td>44.000000</td>\n",
       "      <td>24.000000</td>\n",
       "      <td>7.000000</td>\n",
       "      <td>14.000000</td>\n",
       "      <td>18.200000</td>\n",
       "      <td>0.078000</td>\n",
       "      <td>21.000000</td>\n",
       "    </tr>\n",
       "    <tr>\n",
       "      <th>25%</th>\n",
       "      <td>1.000000</td>\n",
       "      <td>99.750000</td>\n",
       "      <td>64.000000</td>\n",
       "      <td>25.000000</td>\n",
       "      <td>121.500000</td>\n",
       "      <td>27.500000</td>\n",
       "      <td>0.243750</td>\n",
       "      <td>24.000000</td>\n",
       "    </tr>\n",
       "    <tr>\n",
       "      <th>50%</th>\n",
       "      <td>3.000000</td>\n",
       "      <td>117.000000</td>\n",
       "      <td>72.000000</td>\n",
       "      <td>29.000000</td>\n",
       "      <td>125.000000</td>\n",
       "      <td>32.400000</td>\n",
       "      <td>0.372500</td>\n",
       "      <td>29.000000</td>\n",
       "    </tr>\n",
       "    <tr>\n",
       "      <th>75%</th>\n",
       "      <td>6.000000</td>\n",
       "      <td>140.250000</td>\n",
       "      <td>80.000000</td>\n",
       "      <td>32.000000</td>\n",
       "      <td>127.250000</td>\n",
       "      <td>36.600000</td>\n",
       "      <td>0.626250</td>\n",
       "      <td>41.000000</td>\n",
       "    </tr>\n",
       "    <tr>\n",
       "      <th>max</th>\n",
       "      <td>17.000000</td>\n",
       "      <td>199.000000</td>\n",
       "      <td>122.000000</td>\n",
       "      <td>99.000000</td>\n",
       "      <td>846.000000</td>\n",
       "      <td>67.100000</td>\n",
       "      <td>2.420000</td>\n",
       "      <td>81.000000</td>\n",
       "    </tr>\n",
       "  </tbody>\n",
       "</table>\n",
       "</div>"
      ],
      "text/plain": [
       "       Pregnancies     Glucose  BloodPressure  SkinThickness     Insulin  \\\n",
       "count   768.000000  768.000000     768.000000     768.000000  768.000000   \n",
       "mean      3.845052  121.656250      72.386719      29.108073  140.671875   \n",
       "std       3.369578   30.438286      12.096642       8.791221   86.383060   \n",
       "min       0.000000   44.000000      24.000000       7.000000   14.000000   \n",
       "25%       1.000000   99.750000      64.000000      25.000000  121.500000   \n",
       "50%       3.000000  117.000000      72.000000      29.000000  125.000000   \n",
       "75%       6.000000  140.250000      80.000000      32.000000  127.250000   \n",
       "max      17.000000  199.000000     122.000000      99.000000  846.000000   \n",
       "\n",
       "              BMI  DiabetesPedigreeFunction         Age  \n",
       "count  768.000000                768.000000  768.000000  \n",
       "mean    32.457464                  0.471876   33.240885  \n",
       "std      6.875151                  0.331329   11.760232  \n",
       "min     18.200000                  0.078000   21.000000  \n",
       "25%     27.500000                  0.243750   24.000000  \n",
       "50%     32.400000                  0.372500   29.000000  \n",
       "75%     36.600000                  0.626250   41.000000  \n",
       "max     67.100000                  2.420000   81.000000  "
      ]
     },
     "execution_count": 438,
     "metadata": {},
     "output_type": "execute_result"
    }
   ],
   "source": [
    "X.describe()"
   ]
  },
  {
   "cell_type": "code",
   "execution_count": 439,
   "metadata": {},
   "outputs": [
    {
     "data": {
      "text/html": [
       "<div>\n",
       "<style scoped>\n",
       "    .dataframe tbody tr th:only-of-type {\n",
       "        vertical-align: middle;\n",
       "    }\n",
       "\n",
       "    .dataframe tbody tr th {\n",
       "        vertical-align: top;\n",
       "    }\n",
       "\n",
       "    .dataframe thead th {\n",
       "        text-align: right;\n",
       "    }\n",
       "</style>\n",
       "<table border=\"1\" class=\"dataframe\">\n",
       "  <thead>\n",
       "    <tr style=\"text-align: right;\">\n",
       "      <th></th>\n",
       "      <th>Pregnancies</th>\n",
       "      <th>Glucose</th>\n",
       "      <th>BloodPressure</th>\n",
       "      <th>SkinThickness</th>\n",
       "      <th>Insulin</th>\n",
       "      <th>BMI</th>\n",
       "      <th>DiabetesPedigreeFunction</th>\n",
       "      <th>Age</th>\n",
       "    </tr>\n",
       "  </thead>\n",
       "  <tbody>\n",
       "    <tr>\n",
       "      <th>0</th>\n",
       "      <td>6</td>\n",
       "      <td>148.0</td>\n",
       "      <td>72.0</td>\n",
       "      <td>35.0</td>\n",
       "      <td>125.0</td>\n",
       "      <td>33.6</td>\n",
       "      <td>0.627</td>\n",
       "      <td>50</td>\n",
       "    </tr>\n",
       "    <tr>\n",
       "      <th>1</th>\n",
       "      <td>1</td>\n",
       "      <td>85.0</td>\n",
       "      <td>66.0</td>\n",
       "      <td>29.0</td>\n",
       "      <td>125.0</td>\n",
       "      <td>26.6</td>\n",
       "      <td>0.351</td>\n",
       "      <td>31</td>\n",
       "    </tr>\n",
       "    <tr>\n",
       "      <th>2</th>\n",
       "      <td>8</td>\n",
       "      <td>183.0</td>\n",
       "      <td>64.0</td>\n",
       "      <td>29.0</td>\n",
       "      <td>125.0</td>\n",
       "      <td>23.3</td>\n",
       "      <td>0.672</td>\n",
       "      <td>32</td>\n",
       "    </tr>\n",
       "    <tr>\n",
       "      <th>3</th>\n",
       "      <td>1</td>\n",
       "      <td>89.0</td>\n",
       "      <td>66.0</td>\n",
       "      <td>23.0</td>\n",
       "      <td>94.0</td>\n",
       "      <td>28.1</td>\n",
       "      <td>0.167</td>\n",
       "      <td>21</td>\n",
       "    </tr>\n",
       "    <tr>\n",
       "      <th>4</th>\n",
       "      <td>0</td>\n",
       "      <td>137.0</td>\n",
       "      <td>40.0</td>\n",
       "      <td>35.0</td>\n",
       "      <td>168.0</td>\n",
       "      <td>43.1</td>\n",
       "      <td>2.288</td>\n",
       "      <td>33</td>\n",
       "    </tr>\n",
       "    <tr>\n",
       "      <th>...</th>\n",
       "      <td>...</td>\n",
       "      <td>...</td>\n",
       "      <td>...</td>\n",
       "      <td>...</td>\n",
       "      <td>...</td>\n",
       "      <td>...</td>\n",
       "      <td>...</td>\n",
       "      <td>...</td>\n",
       "    </tr>\n",
       "    <tr>\n",
       "      <th>763</th>\n",
       "      <td>10</td>\n",
       "      <td>101.0</td>\n",
       "      <td>76.0</td>\n",
       "      <td>48.0</td>\n",
       "      <td>180.0</td>\n",
       "      <td>32.9</td>\n",
       "      <td>0.171</td>\n",
       "      <td>63</td>\n",
       "    </tr>\n",
       "    <tr>\n",
       "      <th>764</th>\n",
       "      <td>2</td>\n",
       "      <td>122.0</td>\n",
       "      <td>70.0</td>\n",
       "      <td>27.0</td>\n",
       "      <td>125.0</td>\n",
       "      <td>36.8</td>\n",
       "      <td>0.340</td>\n",
       "      <td>27</td>\n",
       "    </tr>\n",
       "    <tr>\n",
       "      <th>765</th>\n",
       "      <td>5</td>\n",
       "      <td>121.0</td>\n",
       "      <td>72.0</td>\n",
       "      <td>23.0</td>\n",
       "      <td>112.0</td>\n",
       "      <td>26.2</td>\n",
       "      <td>0.245</td>\n",
       "      <td>30</td>\n",
       "    </tr>\n",
       "    <tr>\n",
       "      <th>766</th>\n",
       "      <td>1</td>\n",
       "      <td>126.0</td>\n",
       "      <td>60.0</td>\n",
       "      <td>29.0</td>\n",
       "      <td>125.0</td>\n",
       "      <td>30.1</td>\n",
       "      <td>0.349</td>\n",
       "      <td>47</td>\n",
       "    </tr>\n",
       "    <tr>\n",
       "      <th>767</th>\n",
       "      <td>1</td>\n",
       "      <td>93.0</td>\n",
       "      <td>70.0</td>\n",
       "      <td>31.0</td>\n",
       "      <td>125.0</td>\n",
       "      <td>30.4</td>\n",
       "      <td>0.315</td>\n",
       "      <td>23</td>\n",
       "    </tr>\n",
       "  </tbody>\n",
       "</table>\n",
       "<p>768 rows × 8 columns</p>\n",
       "</div>"
      ],
      "text/plain": [
       "     Pregnancies  Glucose  BloodPressure  SkinThickness  Insulin   BMI  \\\n",
       "0              6    148.0           72.0           35.0    125.0  33.6   \n",
       "1              1     85.0           66.0           29.0    125.0  26.6   \n",
       "2              8    183.0           64.0           29.0    125.0  23.3   \n",
       "3              1     89.0           66.0           23.0     94.0  28.1   \n",
       "4              0    137.0           40.0           35.0    168.0  43.1   \n",
       "..           ...      ...            ...            ...      ...   ...   \n",
       "763           10    101.0           76.0           48.0    180.0  32.9   \n",
       "764            2    122.0           70.0           27.0    125.0  36.8   \n",
       "765            5    121.0           72.0           23.0    112.0  26.2   \n",
       "766            1    126.0           60.0           29.0    125.0  30.1   \n",
       "767            1     93.0           70.0           31.0    125.0  30.4   \n",
       "\n",
       "     DiabetesPedigreeFunction  Age  \n",
       "0                       0.627   50  \n",
       "1                       0.351   31  \n",
       "2                       0.672   32  \n",
       "3                       0.167   21  \n",
       "4                       2.288   33  \n",
       "..                        ...  ...  \n",
       "763                     0.171   63  \n",
       "764                     0.340   27  \n",
       "765                     0.245   30  \n",
       "766                     0.349   47  \n",
       "767                     0.315   23  \n",
       "\n",
       "[768 rows x 8 columns]"
      ]
     },
     "execution_count": 439,
     "metadata": {},
     "output_type": "execute_result"
    }
   ],
   "source": [
    "X"
   ]
  },
  {
   "cell_type": "code",
   "execution_count": 440,
   "metadata": {},
   "outputs": [],
   "source": [
    "Y=df['Outcome']"
   ]
  },
  {
   "cell_type": "code",
   "execution_count": 441,
   "metadata": {},
   "outputs": [
    {
     "data": {
      "text/plain": [
       "0      1\n",
       "1      0\n",
       "2      1\n",
       "3      0\n",
       "4      1\n",
       "      ..\n",
       "763    0\n",
       "764    0\n",
       "765    0\n",
       "766    1\n",
       "767    0\n",
       "Name: Outcome, Length: 768, dtype: int64"
      ]
     },
     "execution_count": 441,
     "metadata": {},
     "output_type": "execute_result"
    }
   ],
   "source": [
    "Y"
   ]
  },
  {
   "cell_type": "code",
   "execution_count": 442,
   "metadata": {},
   "outputs": [],
   "source": [
    "from sklearn.model_selection import train_test_split"
   ]
  },
  {
   "cell_type": "code",
   "execution_count": 443,
   "metadata": {},
   "outputs": [],
   "source": [
    "X_train , X_test , Y_train , Y_test = train_test_split(X,Y,test_size=0.20,random_state=9,shuffle=True)"
   ]
  },
  {
   "cell_type": "code",
   "execution_count": 444,
   "metadata": {},
   "outputs": [
    {
     "data": {
      "text/html": [
       "<div>\n",
       "<style scoped>\n",
       "    .dataframe tbody tr th:only-of-type {\n",
       "        vertical-align: middle;\n",
       "    }\n",
       "\n",
       "    .dataframe tbody tr th {\n",
       "        vertical-align: top;\n",
       "    }\n",
       "\n",
       "    .dataframe thead th {\n",
       "        text-align: right;\n",
       "    }\n",
       "</style>\n",
       "<table border=\"1\" class=\"dataframe\">\n",
       "  <thead>\n",
       "    <tr style=\"text-align: right;\">\n",
       "      <th></th>\n",
       "      <th>Pregnancies</th>\n",
       "      <th>Glucose</th>\n",
       "      <th>BloodPressure</th>\n",
       "      <th>SkinThickness</th>\n",
       "      <th>Insulin</th>\n",
       "      <th>BMI</th>\n",
       "      <th>DiabetesPedigreeFunction</th>\n",
       "      <th>Age</th>\n",
       "    </tr>\n",
       "  </thead>\n",
       "  <tbody>\n",
       "    <tr>\n",
       "      <th>476</th>\n",
       "      <td>2</td>\n",
       "      <td>105.0</td>\n",
       "      <td>80.0</td>\n",
       "      <td>45.0</td>\n",
       "      <td>191.0</td>\n",
       "      <td>33.7</td>\n",
       "      <td>0.711</td>\n",
       "      <td>29</td>\n",
       "    </tr>\n",
       "    <tr>\n",
       "      <th>448</th>\n",
       "      <td>0</td>\n",
       "      <td>104.0</td>\n",
       "      <td>64.0</td>\n",
       "      <td>37.0</td>\n",
       "      <td>64.0</td>\n",
       "      <td>33.6</td>\n",
       "      <td>0.510</td>\n",
       "      <td>22</td>\n",
       "    </tr>\n",
       "    <tr>\n",
       "      <th>518</th>\n",
       "      <td>13</td>\n",
       "      <td>76.0</td>\n",
       "      <td>60.0</td>\n",
       "      <td>29.0</td>\n",
       "      <td>125.0</td>\n",
       "      <td>32.8</td>\n",
       "      <td>0.180</td>\n",
       "      <td>41</td>\n",
       "    </tr>\n",
       "    <tr>\n",
       "      <th>221</th>\n",
       "      <td>2</td>\n",
       "      <td>158.0</td>\n",
       "      <td>90.0</td>\n",
       "      <td>29.0</td>\n",
       "      <td>125.0</td>\n",
       "      <td>31.6</td>\n",
       "      <td>0.805</td>\n",
       "      <td>66</td>\n",
       "    </tr>\n",
       "    <tr>\n",
       "      <th>453</th>\n",
       "      <td>2</td>\n",
       "      <td>119.0</td>\n",
       "      <td>72.0</td>\n",
       "      <td>29.0</td>\n",
       "      <td>125.0</td>\n",
       "      <td>19.6</td>\n",
       "      <td>0.832</td>\n",
       "      <td>72</td>\n",
       "    </tr>\n",
       "    <tr>\n",
       "      <th>...</th>\n",
       "      <td>...</td>\n",
       "      <td>...</td>\n",
       "      <td>...</td>\n",
       "      <td>...</td>\n",
       "      <td>...</td>\n",
       "      <td>...</td>\n",
       "      <td>...</td>\n",
       "      <td>...</td>\n",
       "    </tr>\n",
       "    <tr>\n",
       "      <th>56</th>\n",
       "      <td>7</td>\n",
       "      <td>187.0</td>\n",
       "      <td>68.0</td>\n",
       "      <td>39.0</td>\n",
       "      <td>304.0</td>\n",
       "      <td>37.7</td>\n",
       "      <td>0.254</td>\n",
       "      <td>41</td>\n",
       "    </tr>\n",
       "    <tr>\n",
       "      <th>501</th>\n",
       "      <td>3</td>\n",
       "      <td>84.0</td>\n",
       "      <td>72.0</td>\n",
       "      <td>32.0</td>\n",
       "      <td>125.0</td>\n",
       "      <td>37.2</td>\n",
       "      <td>0.267</td>\n",
       "      <td>28</td>\n",
       "    </tr>\n",
       "    <tr>\n",
       "      <th>638</th>\n",
       "      <td>7</td>\n",
       "      <td>97.0</td>\n",
       "      <td>76.0</td>\n",
       "      <td>32.0</td>\n",
       "      <td>91.0</td>\n",
       "      <td>40.9</td>\n",
       "      <td>0.871</td>\n",
       "      <td>32</td>\n",
       "    </tr>\n",
       "    <tr>\n",
       "      <th>348</th>\n",
       "      <td>3</td>\n",
       "      <td>99.0</td>\n",
       "      <td>62.0</td>\n",
       "      <td>19.0</td>\n",
       "      <td>74.0</td>\n",
       "      <td>21.8</td>\n",
       "      <td>0.279</td>\n",
       "      <td>26</td>\n",
       "    </tr>\n",
       "    <tr>\n",
       "      <th>382</th>\n",
       "      <td>1</td>\n",
       "      <td>109.0</td>\n",
       "      <td>60.0</td>\n",
       "      <td>8.0</td>\n",
       "      <td>182.0</td>\n",
       "      <td>25.4</td>\n",
       "      <td>0.947</td>\n",
       "      <td>21</td>\n",
       "    </tr>\n",
       "  </tbody>\n",
       "</table>\n",
       "<p>614 rows × 8 columns</p>\n",
       "</div>"
      ],
      "text/plain": [
       "     Pregnancies  Glucose  BloodPressure  SkinThickness  Insulin   BMI  \\\n",
       "476            2    105.0           80.0           45.0    191.0  33.7   \n",
       "448            0    104.0           64.0           37.0     64.0  33.6   \n",
       "518           13     76.0           60.0           29.0    125.0  32.8   \n",
       "221            2    158.0           90.0           29.0    125.0  31.6   \n",
       "453            2    119.0           72.0           29.0    125.0  19.6   \n",
       "..           ...      ...            ...            ...      ...   ...   \n",
       "56             7    187.0           68.0           39.0    304.0  37.7   \n",
       "501            3     84.0           72.0           32.0    125.0  37.2   \n",
       "638            7     97.0           76.0           32.0     91.0  40.9   \n",
       "348            3     99.0           62.0           19.0     74.0  21.8   \n",
       "382            1    109.0           60.0            8.0    182.0  25.4   \n",
       "\n",
       "     DiabetesPedigreeFunction  Age  \n",
       "476                     0.711   29  \n",
       "448                     0.510   22  \n",
       "518                     0.180   41  \n",
       "221                     0.805   66  \n",
       "453                     0.832   72  \n",
       "..                        ...  ...  \n",
       "56                      0.254   41  \n",
       "501                     0.267   28  \n",
       "638                     0.871   32  \n",
       "348                     0.279   26  \n",
       "382                     0.947   21  \n",
       "\n",
       "[614 rows x 8 columns]"
      ]
     },
     "execution_count": 444,
     "metadata": {},
     "output_type": "execute_result"
    }
   ],
   "source": [
    "X_train"
   ]
  },
  {
   "cell_type": "code",
   "execution_count": 445,
   "metadata": {},
   "outputs": [
    {
     "data": {
      "text/plain": [
       "476    1\n",
       "448    1\n",
       "518    0\n",
       "221    1\n",
       "453    0\n",
       "      ..\n",
       "56     1\n",
       "501    0\n",
       "638    1\n",
       "348    0\n",
       "382    0\n",
       "Name: Outcome, Length: 614, dtype: int64"
      ]
     },
     "execution_count": 445,
     "metadata": {},
     "output_type": "execute_result"
    }
   ],
   "source": [
    "Y_train"
   ]
  },
  {
   "cell_type": "markdown",
   "metadata": {},
   "source": [
    "# Standard Scaler"
   ]
  },
  {
   "cell_type": "code",
   "execution_count": 446,
   "metadata": {},
   "outputs": [],
   "source": [
    "#from sklearn.preprocessing import StandardScaler\n",
    "#std=StandardScaler()"
   ]
  },
  {
   "cell_type": "code",
   "execution_count": 447,
   "metadata": {},
   "outputs": [],
   "source": [
    "#X_train=std.fit_transform(X_train)\n",
    "#X_test=std.transform(X_test)"
   ]
  },
  {
   "cell_type": "code",
   "execution_count": 448,
   "metadata": {},
   "outputs": [],
   "source": [
    "#X_train"
   ]
  },
  {
   "cell_type": "code",
   "execution_count": 449,
   "metadata": {},
   "outputs": [],
   "source": [
    "from sklearn.preprocessing import MinMaxScaler\n",
    "scaler = MinMaxScaler()\n",
    "X_train= scaler.fit_transform(X_train)\n",
    "X_test = scaler.transform(X_test)"
   ]
  },
  {
   "cell_type": "markdown",
   "metadata": {},
   "source": [
    "# Train our Model"
   ]
  },
  {
   "cell_type": "markdown",
   "metadata": {},
   "source": [
    "# Logistic Regression"
   ]
  },
  {
   "cell_type": "code",
   "execution_count": 450,
   "metadata": {},
   "outputs": [],
   "source": [
    "from sklearn.linear_model import LogisticRegression\n",
    "lr=LogisticRegression()"
   ]
  },
  {
   "cell_type": "code",
   "execution_count": 451,
   "metadata": {},
   "outputs": [
    {
     "data": {
      "text/plain": [
       "LogisticRegression()"
      ]
     },
     "execution_count": 451,
     "metadata": {},
     "output_type": "execute_result"
    }
   ],
   "source": [
    "lr.fit(X_train,Y_train)"
   ]
  },
  {
   "cell_type": "code",
   "execution_count": 452,
   "metadata": {},
   "outputs": [],
   "source": [
    "Y_pred=lr.predict(X_test)"
   ]
  },
  {
   "cell_type": "code",
   "execution_count": 453,
   "metadata": {},
   "outputs": [
    {
     "data": {
      "text/plain": [
       "array([0, 1, 0, 0, 1, 0, 0, 0, 0, 0, 0, 0, 0, 0, 0, 0, 1, 1, 0, 0, 0, 0,\n",
       "       0, 0, 0, 0, 1, 1, 0, 0, 0, 0, 0, 0, 0, 0, 1, 0, 0, 1, 1, 0, 1, 0,\n",
       "       0, 1, 0, 0, 0, 0, 0, 0, 1, 1, 0, 1, 0, 1, 1, 0, 1, 0, 0, 0, 0, 0,\n",
       "       0, 0, 1, 1, 0, 1, 0, 0, 0, 0, 0, 1, 1, 1, 0, 0, 1, 0, 0, 0, 0, 1,\n",
       "       0, 0, 0, 0, 1, 0, 0, 0, 0, 0, 1, 1, 0, 0, 0, 1, 1, 1, 0, 0, 1, 1,\n",
       "       1, 0, 0, 0, 1, 1, 1, 1, 0, 0, 0, 0, 0, 1, 0, 0, 1, 0, 0, 0, 0, 0,\n",
       "       0, 0, 0, 1, 1, 0, 0, 0, 0, 0, 0, 0, 0, 0, 0, 0, 0, 0, 1, 0, 1, 0],\n",
       "      dtype=int64)"
      ]
     },
     "execution_count": 453,
     "metadata": {},
     "output_type": "execute_result"
    }
   ],
   "source": [
    "Y_pred"
   ]
  },
  {
   "cell_type": "code",
   "execution_count": 454,
   "metadata": {},
   "outputs": [
    {
     "data": {
      "text/plain": [
       "456    0\n",
       "260    0\n",
       "651    0\n",
       "143    1\n",
       "666    1\n",
       "      ..\n",
       "583    0\n",
       "586    1\n",
       "478    0\n",
       "655    1\n",
       "32     0\n",
       "Name: Outcome, Length: 154, dtype: int64"
      ]
     },
     "execution_count": 454,
     "metadata": {},
     "output_type": "execute_result"
    }
   ],
   "source": [
    "Y_test"
   ]
  },
  {
   "cell_type": "code",
   "execution_count": 455,
   "metadata": {},
   "outputs": [],
   "source": [
    "from sklearn.metrics import accuracy_score"
   ]
  },
  {
   "cell_type": "code",
   "execution_count": 456,
   "metadata": {},
   "outputs": [
    {
     "data": {
      "text/plain": [
       "75.32467532467533"
      ]
     },
     "execution_count": 456,
     "metadata": {},
     "output_type": "execute_result"
    }
   ],
   "source": [
    "accuracy_score(Y_test,Y_pred) * 100"
   ]
  },
  {
   "cell_type": "code",
   "execution_count": 457,
   "metadata": {},
   "outputs": [
    {
     "name": "stdout",
     "output_type": "stream",
     "text": [
      "0.24675324675324675\n"
     ]
    }
   ],
   "source": [
    "from sklearn.metrics import mean_squared_error\n",
    "print(mean_squared_error(Y_test, Y_pred))"
   ]
  },
  {
   "cell_type": "markdown",
   "metadata": {},
   "source": [
    "# Decision Tree"
   ]
  },
  {
   "cell_type": "code",
   "execution_count": 458,
   "metadata": {},
   "outputs": [],
   "source": [
    "from sklearn.tree import DecisionTreeClassifier\n",
    "dt=DecisionTreeClassifier()"
   ]
  },
  {
   "cell_type": "code",
   "execution_count": 459,
   "metadata": {},
   "outputs": [
    {
     "data": {
      "text/plain": [
       "DecisionTreeClassifier()"
      ]
     },
     "execution_count": 459,
     "metadata": {},
     "output_type": "execute_result"
    }
   ],
   "source": [
    "dt.fit(X_train,Y_train)"
   ]
  },
  {
   "cell_type": "code",
   "execution_count": 460,
   "metadata": {},
   "outputs": [],
   "source": [
    "Y_pred=dt.predict(X_test)"
   ]
  },
  {
   "cell_type": "code",
   "execution_count": 461,
   "metadata": {},
   "outputs": [
    {
     "data": {
      "text/plain": [
       "array([0, 1, 0, 0, 0, 1, 0, 0, 0, 0, 0, 0, 1, 0, 0, 0, 0, 1, 1, 0, 1, 1,\n",
       "       0, 0, 0, 0, 1, 1, 0, 0, 0, 0, 0, 1, 1, 0, 1, 0, 0, 1, 0, 0, 1, 0,\n",
       "       0, 1, 0, 0, 0, 0, 0, 0, 1, 0, 0, 1, 0, 1, 1, 1, 1, 0, 1, 0, 0, 0,\n",
       "       0, 0, 1, 1, 0, 0, 0, 1, 0, 0, 1, 1, 1, 0, 0, 1, 1, 0, 0, 0, 0, 0,\n",
       "       0, 0, 0, 0, 1, 0, 0, 0, 0, 0, 1, 1, 0, 0, 0, 0, 1, 1, 1, 0, 1, 1,\n",
       "       1, 0, 1, 0, 0, 1, 1, 1, 0, 0, 0, 0, 0, 1, 0, 0, 0, 1, 0, 0, 0, 1,\n",
       "       0, 0, 0, 1, 1, 0, 0, 0, 1, 0, 1, 0, 0, 0, 0, 0, 0, 0, 1, 0, 0, 0],\n",
       "      dtype=int64)"
      ]
     },
     "execution_count": 461,
     "metadata": {},
     "output_type": "execute_result"
    }
   ],
   "source": [
    "Y_pred"
   ]
  },
  {
   "cell_type": "code",
   "execution_count": 462,
   "metadata": {},
   "outputs": [
    {
     "data": {
      "text/plain": [
       "456    0\n",
       "260    0\n",
       "651    0\n",
       "143    1\n",
       "666    1\n",
       "      ..\n",
       "583    0\n",
       "586    1\n",
       "478    0\n",
       "655    1\n",
       "32     0\n",
       "Name: Outcome, Length: 154, dtype: int64"
      ]
     },
     "execution_count": 462,
     "metadata": {},
     "output_type": "execute_result"
    }
   ],
   "source": [
    "Y_test"
   ]
  },
  {
   "cell_type": "code",
   "execution_count": 463,
   "metadata": {},
   "outputs": [
    {
     "data": {
      "text/plain": [
       "0.6948051948051948"
      ]
     },
     "execution_count": 463,
     "metadata": {},
     "output_type": "execute_result"
    }
   ],
   "source": [
    "accuracy_score(Y_test,Y_pred)"
   ]
  },
  {
   "cell_type": "code",
   "execution_count": 464,
   "metadata": {},
   "outputs": [
    {
     "name": "stdout",
     "output_type": "stream",
     "text": [
      "0.3051948051948052\n"
     ]
    }
   ],
   "source": [
    "print(mean_squared_error(Y_test, Y_pred))"
   ]
  },
  {
   "cell_type": "markdown",
   "metadata": {},
   "source": [
    "# Deep learning"
   ]
  },
  {
   "cell_type": "code",
   "execution_count": 465,
   "metadata": {},
   "outputs": [],
   "source": [
    "from sklearn.neural_network import MLPClassifier\n",
    "mlp=MLPClassifier(hidden_layer_sizes=(8,8))"
   ]
  },
  {
   "cell_type": "code",
   "execution_count": 466,
   "metadata": {},
   "outputs": [
    {
     "name": "stderr",
     "output_type": "stream",
     "text": [
      "C:\\Users\\Rahul Airan\\anaconda3\\lib\\site-packages\\sklearn\\neural_network\\_multilayer_perceptron.py:582: ConvergenceWarning: Stochastic Optimizer: Maximum iterations (200) reached and the optimization hasn't converged yet.\n",
      "  warnings.warn(\n"
     ]
    },
    {
     "data": {
      "text/plain": [
       "MLPClassifier(hidden_layer_sizes=(8, 8))"
      ]
     },
     "execution_count": 466,
     "metadata": {},
     "output_type": "execute_result"
    }
   ],
   "source": [
    "mlp.fit(X_train,Y_train)"
   ]
  },
  {
   "cell_type": "code",
   "execution_count": 467,
   "metadata": {},
   "outputs": [],
   "source": [
    "Y_pred=mlp.predict(X_test)"
   ]
  },
  {
   "cell_type": "code",
   "execution_count": 468,
   "metadata": {},
   "outputs": [
    {
     "data": {
      "text/plain": [
       "0.7532467532467533"
      ]
     },
     "execution_count": 468,
     "metadata": {},
     "output_type": "execute_result"
    }
   ],
   "source": [
    "accuracy_score(Y_test,Y_pred)"
   ]
  },
  {
   "cell_type": "code",
   "execution_count": 469,
   "metadata": {},
   "outputs": [
    {
     "name": "stdout",
     "output_type": "stream",
     "text": [
      "0.24675324675324675\n"
     ]
    }
   ],
   "source": [
    "print(mean_squared_error(Y_test, Y_pred))"
   ]
  },
  {
   "cell_type": "markdown",
   "metadata": {},
   "source": [
    "# Gradient Boosters"
   ]
  },
  {
   "cell_type": "code",
   "execution_count": 470,
   "metadata": {},
   "outputs": [],
   "source": [
    "from sklearn.ensemble import GradientBoostingRegressor\n",
    "gbr = GradientBoostingRegressor()"
   ]
  },
  {
   "cell_type": "code",
   "execution_count": 471,
   "metadata": {},
   "outputs": [
    {
     "data": {
      "text/plain": [
       "GradientBoostingRegressor()"
      ]
     },
     "execution_count": 471,
     "metadata": {},
     "output_type": "execute_result"
    }
   ],
   "source": [
    "gbr.fit(X = X_train, y = Y_train)"
   ]
  },
  {
   "cell_type": "code",
   "execution_count": 472,
   "metadata": {},
   "outputs": [],
   "source": [
    "Y_pred = gbr.predict(X = X_test)"
   ]
  },
  {
   "cell_type": "code",
   "execution_count": 473,
   "metadata": {},
   "outputs": [
    {
     "name": "stdout",
     "output_type": "stream",
     "text": [
      "0.16439934938251355\n"
     ]
    }
   ],
   "source": [
    "print(mean_squared_error(Y_test, Y_pred))"
   ]
  },
  {
   "cell_type": "code",
   "execution_count": 474,
   "metadata": {},
   "outputs": [],
   "source": [
    "def get_classification_metric(testy, probs):\n",
    "    from sklearn.metrics import precision_recall_curve\n",
    "    precision, recall, thresholds = precision_recall_curve(testy, probs[:,1])\n",
    "    # convert to f score\n",
    "    fscore = (2 * precision * recall) / (precision + recall)\n",
    "    # locate the index of the largest f score\n",
    "    ix = np.argmax(fscore)\n",
    "    return fscore[ix]\n"
   ]
  },
  {
   "cell_type": "code",
   "execution_count": 475,
   "metadata": {},
   "outputs": [
    {
     "ename": "ValueError",
     "evalue": "Classification metrics can't handle a mix of binary and continuous targets",
     "output_type": "error",
     "traceback": [
      "\u001b[1;31m---------------------------------------------------------------------------\u001b[0m",
      "\u001b[1;31mValueError\u001b[0m                                Traceback (most recent call last)",
      "\u001b[1;32m<ipython-input-475-cf0bbe8a0937>\u001b[0m in \u001b[0;36m<module>\u001b[1;34m\u001b[0m\n\u001b[1;32m----> 1\u001b[1;33m \u001b[0maccuracy_score\u001b[0m\u001b[1;33m(\u001b[0m\u001b[0mY_test\u001b[0m\u001b[1;33m,\u001b[0m\u001b[0mY_pred\u001b[0m\u001b[1;33m)\u001b[0m\u001b[1;33m\u001b[0m\u001b[1;33m\u001b[0m\u001b[0m\n\u001b[0m\u001b[0;32m      2\u001b[0m \u001b[1;31m#accuracy_score(Y_test, Y_pred, normalize=False)\u001b[0m\u001b[1;33m\u001b[0m\u001b[1;33m\u001b[0m\u001b[1;33m\u001b[0m\u001b[0m\n",
      "\u001b[1;32m~\\anaconda3\\lib\\site-packages\\sklearn\\utils\\validation.py\u001b[0m in \u001b[0;36minner_f\u001b[1;34m(*args, **kwargs)\u001b[0m\n\u001b[0;32m     70\u001b[0m                           FutureWarning)\n\u001b[0;32m     71\u001b[0m         \u001b[0mkwargs\u001b[0m\u001b[1;33m.\u001b[0m\u001b[0mupdate\u001b[0m\u001b[1;33m(\u001b[0m\u001b[1;33m{\u001b[0m\u001b[0mk\u001b[0m\u001b[1;33m:\u001b[0m \u001b[0marg\u001b[0m \u001b[1;32mfor\u001b[0m \u001b[0mk\u001b[0m\u001b[1;33m,\u001b[0m \u001b[0marg\u001b[0m \u001b[1;32min\u001b[0m \u001b[0mzip\u001b[0m\u001b[1;33m(\u001b[0m\u001b[0msig\u001b[0m\u001b[1;33m.\u001b[0m\u001b[0mparameters\u001b[0m\u001b[1;33m,\u001b[0m \u001b[0margs\u001b[0m\u001b[1;33m)\u001b[0m\u001b[1;33m}\u001b[0m\u001b[1;33m)\u001b[0m\u001b[1;33m\u001b[0m\u001b[1;33m\u001b[0m\u001b[0m\n\u001b[1;32m---> 72\u001b[1;33m         \u001b[1;32mreturn\u001b[0m \u001b[0mf\u001b[0m\u001b[1;33m(\u001b[0m\u001b[1;33m**\u001b[0m\u001b[0mkwargs\u001b[0m\u001b[1;33m)\u001b[0m\u001b[1;33m\u001b[0m\u001b[1;33m\u001b[0m\u001b[0m\n\u001b[0m\u001b[0;32m     73\u001b[0m     \u001b[1;32mreturn\u001b[0m \u001b[0minner_f\u001b[0m\u001b[1;33m\u001b[0m\u001b[1;33m\u001b[0m\u001b[0m\n\u001b[0;32m     74\u001b[0m \u001b[1;33m\u001b[0m\u001b[0m\n",
      "\u001b[1;32m~\\anaconda3\\lib\\site-packages\\sklearn\\metrics\\_classification.py\u001b[0m in \u001b[0;36maccuracy_score\u001b[1;34m(y_true, y_pred, normalize, sample_weight)\u001b[0m\n\u001b[0;32m    185\u001b[0m \u001b[1;33m\u001b[0m\u001b[0m\n\u001b[0;32m    186\u001b[0m     \u001b[1;31m# Compute accuracy for each possible representation\u001b[0m\u001b[1;33m\u001b[0m\u001b[1;33m\u001b[0m\u001b[1;33m\u001b[0m\u001b[0m\n\u001b[1;32m--> 187\u001b[1;33m     \u001b[0my_type\u001b[0m\u001b[1;33m,\u001b[0m \u001b[0my_true\u001b[0m\u001b[1;33m,\u001b[0m \u001b[0my_pred\u001b[0m \u001b[1;33m=\u001b[0m \u001b[0m_check_targets\u001b[0m\u001b[1;33m(\u001b[0m\u001b[0my_true\u001b[0m\u001b[1;33m,\u001b[0m \u001b[0my_pred\u001b[0m\u001b[1;33m)\u001b[0m\u001b[1;33m\u001b[0m\u001b[1;33m\u001b[0m\u001b[0m\n\u001b[0m\u001b[0;32m    188\u001b[0m     \u001b[0mcheck_consistent_length\u001b[0m\u001b[1;33m(\u001b[0m\u001b[0my_true\u001b[0m\u001b[1;33m,\u001b[0m \u001b[0my_pred\u001b[0m\u001b[1;33m,\u001b[0m \u001b[0msample_weight\u001b[0m\u001b[1;33m)\u001b[0m\u001b[1;33m\u001b[0m\u001b[1;33m\u001b[0m\u001b[0m\n\u001b[0;32m    189\u001b[0m     \u001b[1;32mif\u001b[0m \u001b[0my_type\u001b[0m\u001b[1;33m.\u001b[0m\u001b[0mstartswith\u001b[0m\u001b[1;33m(\u001b[0m\u001b[1;34m'multilabel'\u001b[0m\u001b[1;33m)\u001b[0m\u001b[1;33m:\u001b[0m\u001b[1;33m\u001b[0m\u001b[1;33m\u001b[0m\u001b[0m\n",
      "\u001b[1;32m~\\anaconda3\\lib\\site-packages\\sklearn\\metrics\\_classification.py\u001b[0m in \u001b[0;36m_check_targets\u001b[1;34m(y_true, y_pred)\u001b[0m\n\u001b[0;32m     88\u001b[0m \u001b[1;33m\u001b[0m\u001b[0m\n\u001b[0;32m     89\u001b[0m     \u001b[1;32mif\u001b[0m \u001b[0mlen\u001b[0m\u001b[1;33m(\u001b[0m\u001b[0my_type\u001b[0m\u001b[1;33m)\u001b[0m \u001b[1;33m>\u001b[0m \u001b[1;36m1\u001b[0m\u001b[1;33m:\u001b[0m\u001b[1;33m\u001b[0m\u001b[1;33m\u001b[0m\u001b[0m\n\u001b[1;32m---> 90\u001b[1;33m         raise ValueError(\"Classification metrics can't handle a mix of {0} \"\n\u001b[0m\u001b[0;32m     91\u001b[0m                          \"and {1} targets\".format(type_true, type_pred))\n\u001b[0;32m     92\u001b[0m \u001b[1;33m\u001b[0m\u001b[0m\n",
      "\u001b[1;31mValueError\u001b[0m: Classification metrics can't handle a mix of binary and continuous targets"
     ]
    }
   ],
   "source": [
    "accuracy_score(Y_test,Y_pred)\n",
    "#accuracy_score(Y_test, Y_pred, normalize=False)"
   ]
  },
  {
   "cell_type": "markdown",
   "metadata": {},
   "source": [
    "# Linear Regression"
   ]
  },
  {
   "cell_type": "code",
   "execution_count": 509,
   "metadata": {},
   "outputs": [],
   "source": [
    "from sklearn.linear_model import LinearRegression"
   ]
  },
  {
   "cell_type": "code",
   "execution_count": 510,
   "metadata": {},
   "outputs": [],
   "source": [
    "lr = LinearRegression()"
   ]
  },
  {
   "cell_type": "code",
   "execution_count": 511,
   "metadata": {},
   "outputs": [
    {
     "data": {
      "text/plain": [
       "LinearRegression()"
      ]
     },
     "execution_count": 511,
     "metadata": {},
     "output_type": "execute_result"
    }
   ],
   "source": [
    "lr.fit(X_train, Y_train)"
   ]
  },
  {
   "cell_type": "code",
   "execution_count": 512,
   "metadata": {},
   "outputs": [],
   "source": [
    "Y_pred = lr.predict(X_test)"
   ]
  },
  {
   "cell_type": "code",
   "execution_count": 513,
   "metadata": {},
   "outputs": [
    {
     "ename": "ValueError",
     "evalue": "Classification metrics can't handle a mix of binary and continuous targets",
     "output_type": "error",
     "traceback": [
      "\u001b[1;31m---------------------------------------------------------------------------\u001b[0m",
      "\u001b[1;31mValueError\u001b[0m                                Traceback (most recent call last)",
      "\u001b[1;32m<ipython-input-513-b85696b50647>\u001b[0m in \u001b[0;36m<module>\u001b[1;34m\u001b[0m\n\u001b[1;32m----> 1\u001b[1;33m \u001b[0maccuracy_score\u001b[0m\u001b[1;33m(\u001b[0m\u001b[0mY_test\u001b[0m\u001b[1;33m,\u001b[0m\u001b[0mY_pred\u001b[0m\u001b[1;33m)\u001b[0m\u001b[1;33m\u001b[0m\u001b[1;33m\u001b[0m\u001b[0m\n\u001b[0m",
      "\u001b[1;32m~\\anaconda3\\lib\\site-packages\\sklearn\\utils\\validation.py\u001b[0m in \u001b[0;36minner_f\u001b[1;34m(*args, **kwargs)\u001b[0m\n\u001b[0;32m     70\u001b[0m                           FutureWarning)\n\u001b[0;32m     71\u001b[0m         \u001b[0mkwargs\u001b[0m\u001b[1;33m.\u001b[0m\u001b[0mupdate\u001b[0m\u001b[1;33m(\u001b[0m\u001b[1;33m{\u001b[0m\u001b[0mk\u001b[0m\u001b[1;33m:\u001b[0m \u001b[0marg\u001b[0m \u001b[1;32mfor\u001b[0m \u001b[0mk\u001b[0m\u001b[1;33m,\u001b[0m \u001b[0marg\u001b[0m \u001b[1;32min\u001b[0m \u001b[0mzip\u001b[0m\u001b[1;33m(\u001b[0m\u001b[0msig\u001b[0m\u001b[1;33m.\u001b[0m\u001b[0mparameters\u001b[0m\u001b[1;33m,\u001b[0m \u001b[0margs\u001b[0m\u001b[1;33m)\u001b[0m\u001b[1;33m}\u001b[0m\u001b[1;33m)\u001b[0m\u001b[1;33m\u001b[0m\u001b[1;33m\u001b[0m\u001b[0m\n\u001b[1;32m---> 72\u001b[1;33m         \u001b[1;32mreturn\u001b[0m \u001b[0mf\u001b[0m\u001b[1;33m(\u001b[0m\u001b[1;33m**\u001b[0m\u001b[0mkwargs\u001b[0m\u001b[1;33m)\u001b[0m\u001b[1;33m\u001b[0m\u001b[1;33m\u001b[0m\u001b[0m\n\u001b[0m\u001b[0;32m     73\u001b[0m     \u001b[1;32mreturn\u001b[0m \u001b[0minner_f\u001b[0m\u001b[1;33m\u001b[0m\u001b[1;33m\u001b[0m\u001b[0m\n\u001b[0;32m     74\u001b[0m \u001b[1;33m\u001b[0m\u001b[0m\n",
      "\u001b[1;32m~\\anaconda3\\lib\\site-packages\\sklearn\\metrics\\_classification.py\u001b[0m in \u001b[0;36maccuracy_score\u001b[1;34m(y_true, y_pred, normalize, sample_weight)\u001b[0m\n\u001b[0;32m    185\u001b[0m \u001b[1;33m\u001b[0m\u001b[0m\n\u001b[0;32m    186\u001b[0m     \u001b[1;31m# Compute accuracy for each possible representation\u001b[0m\u001b[1;33m\u001b[0m\u001b[1;33m\u001b[0m\u001b[1;33m\u001b[0m\u001b[0m\n\u001b[1;32m--> 187\u001b[1;33m     \u001b[0my_type\u001b[0m\u001b[1;33m,\u001b[0m \u001b[0my_true\u001b[0m\u001b[1;33m,\u001b[0m \u001b[0my_pred\u001b[0m \u001b[1;33m=\u001b[0m \u001b[0m_check_targets\u001b[0m\u001b[1;33m(\u001b[0m\u001b[0my_true\u001b[0m\u001b[1;33m,\u001b[0m \u001b[0my_pred\u001b[0m\u001b[1;33m)\u001b[0m\u001b[1;33m\u001b[0m\u001b[1;33m\u001b[0m\u001b[0m\n\u001b[0m\u001b[0;32m    188\u001b[0m     \u001b[0mcheck_consistent_length\u001b[0m\u001b[1;33m(\u001b[0m\u001b[0my_true\u001b[0m\u001b[1;33m,\u001b[0m \u001b[0my_pred\u001b[0m\u001b[1;33m,\u001b[0m \u001b[0msample_weight\u001b[0m\u001b[1;33m)\u001b[0m\u001b[1;33m\u001b[0m\u001b[1;33m\u001b[0m\u001b[0m\n\u001b[0;32m    189\u001b[0m     \u001b[1;32mif\u001b[0m \u001b[0my_type\u001b[0m\u001b[1;33m.\u001b[0m\u001b[0mstartswith\u001b[0m\u001b[1;33m(\u001b[0m\u001b[1;34m'multilabel'\u001b[0m\u001b[1;33m)\u001b[0m\u001b[1;33m:\u001b[0m\u001b[1;33m\u001b[0m\u001b[1;33m\u001b[0m\u001b[0m\n",
      "\u001b[1;32m~\\anaconda3\\lib\\site-packages\\sklearn\\metrics\\_classification.py\u001b[0m in \u001b[0;36m_check_targets\u001b[1;34m(y_true, y_pred)\u001b[0m\n\u001b[0;32m     88\u001b[0m \u001b[1;33m\u001b[0m\u001b[0m\n\u001b[0;32m     89\u001b[0m     \u001b[1;32mif\u001b[0m \u001b[0mlen\u001b[0m\u001b[1;33m(\u001b[0m\u001b[0my_type\u001b[0m\u001b[1;33m)\u001b[0m \u001b[1;33m>\u001b[0m \u001b[1;36m1\u001b[0m\u001b[1;33m:\u001b[0m\u001b[1;33m\u001b[0m\u001b[1;33m\u001b[0m\u001b[0m\n\u001b[1;32m---> 90\u001b[1;33m         raise ValueError(\"Classification metrics can't handle a mix of {0} \"\n\u001b[0m\u001b[0;32m     91\u001b[0m                          \"and {1} targets\".format(type_true, type_pred))\n\u001b[0;32m     92\u001b[0m \u001b[1;33m\u001b[0m\u001b[0m\n",
      "\u001b[1;31mValueError\u001b[0m: Classification metrics can't handle a mix of binary and continuous targets"
     ]
    }
   ],
   "source": [
    "accuracy_score(Y_test,Y_pred)"
   ]
  },
  {
   "cell_type": "code",
   "execution_count": 514,
   "metadata": {},
   "outputs": [
    {
     "data": {
      "text/plain": [
       "0.17572843574671712"
      ]
     },
     "execution_count": 514,
     "metadata": {},
     "output_type": "execute_result"
    }
   ],
   "source": [
    "mean_squared_error(Y_test, Y_pred)"
   ]
  },
  {
   "cell_type": "code",
   "execution_count": null,
   "metadata": {},
   "outputs": [],
   "source": []
  },
  {
   "cell_type": "markdown",
   "metadata": {},
   "source": [
    "# Tree Regression"
   ]
  },
  {
   "cell_type": "code",
   "execution_count": 482,
   "metadata": {},
   "outputs": [],
   "source": [
    "from sklearn.ensemble import RandomForestRegressor"
   ]
  },
  {
   "cell_type": "code",
   "execution_count": 483,
   "metadata": {},
   "outputs": [],
   "source": [
    "rfr = RandomForestRegressor()"
   ]
  },
  {
   "cell_type": "code",
   "execution_count": 484,
   "metadata": {},
   "outputs": [
    {
     "data": {
      "text/plain": [
       "RandomForestRegressor()"
      ]
     },
     "execution_count": 484,
     "metadata": {},
     "output_type": "execute_result"
    }
   ],
   "source": [
    "rfr.fit(X_train, Y_train)"
   ]
  },
  {
   "cell_type": "code",
   "execution_count": 485,
   "metadata": {},
   "outputs": [],
   "source": [
    "Y_pred = rfr.predict(X_test)"
   ]
  },
  {
   "cell_type": "code",
   "execution_count": 486,
   "metadata": {},
   "outputs": [
    {
     "data": {
      "text/plain": [
       "0.17978506493506494"
      ]
     },
     "execution_count": 486,
     "metadata": {},
     "output_type": "execute_result"
    }
   ],
   "source": [
    "mean_squared_error(Y_test, Y_pred)"
   ]
  },
  {
   "cell_type": "code",
   "execution_count": 487,
   "metadata": {},
   "outputs": [
    {
     "ename": "ValueError",
     "evalue": "Classification metrics can't handle a mix of binary and continuous targets",
     "output_type": "error",
     "traceback": [
      "\u001b[1;31m---------------------------------------------------------------------------\u001b[0m",
      "\u001b[1;31mValueError\u001b[0m                                Traceback (most recent call last)",
      "\u001b[1;32m<ipython-input-487-b85696b50647>\u001b[0m in \u001b[0;36m<module>\u001b[1;34m\u001b[0m\n\u001b[1;32m----> 1\u001b[1;33m \u001b[0maccuracy_score\u001b[0m\u001b[1;33m(\u001b[0m\u001b[0mY_test\u001b[0m\u001b[1;33m,\u001b[0m\u001b[0mY_pred\u001b[0m\u001b[1;33m)\u001b[0m\u001b[1;33m\u001b[0m\u001b[1;33m\u001b[0m\u001b[0m\n\u001b[0m",
      "\u001b[1;32m~\\anaconda3\\lib\\site-packages\\sklearn\\utils\\validation.py\u001b[0m in \u001b[0;36minner_f\u001b[1;34m(*args, **kwargs)\u001b[0m\n\u001b[0;32m     70\u001b[0m                           FutureWarning)\n\u001b[0;32m     71\u001b[0m         \u001b[0mkwargs\u001b[0m\u001b[1;33m.\u001b[0m\u001b[0mupdate\u001b[0m\u001b[1;33m(\u001b[0m\u001b[1;33m{\u001b[0m\u001b[0mk\u001b[0m\u001b[1;33m:\u001b[0m \u001b[0marg\u001b[0m \u001b[1;32mfor\u001b[0m \u001b[0mk\u001b[0m\u001b[1;33m,\u001b[0m \u001b[0marg\u001b[0m \u001b[1;32min\u001b[0m \u001b[0mzip\u001b[0m\u001b[1;33m(\u001b[0m\u001b[0msig\u001b[0m\u001b[1;33m.\u001b[0m\u001b[0mparameters\u001b[0m\u001b[1;33m,\u001b[0m \u001b[0margs\u001b[0m\u001b[1;33m)\u001b[0m\u001b[1;33m}\u001b[0m\u001b[1;33m)\u001b[0m\u001b[1;33m\u001b[0m\u001b[1;33m\u001b[0m\u001b[0m\n\u001b[1;32m---> 72\u001b[1;33m         \u001b[1;32mreturn\u001b[0m \u001b[0mf\u001b[0m\u001b[1;33m(\u001b[0m\u001b[1;33m**\u001b[0m\u001b[0mkwargs\u001b[0m\u001b[1;33m)\u001b[0m\u001b[1;33m\u001b[0m\u001b[1;33m\u001b[0m\u001b[0m\n\u001b[0m\u001b[0;32m     73\u001b[0m     \u001b[1;32mreturn\u001b[0m \u001b[0minner_f\u001b[0m\u001b[1;33m\u001b[0m\u001b[1;33m\u001b[0m\u001b[0m\n\u001b[0;32m     74\u001b[0m \u001b[1;33m\u001b[0m\u001b[0m\n",
      "\u001b[1;32m~\\anaconda3\\lib\\site-packages\\sklearn\\metrics\\_classification.py\u001b[0m in \u001b[0;36maccuracy_score\u001b[1;34m(y_true, y_pred, normalize, sample_weight)\u001b[0m\n\u001b[0;32m    185\u001b[0m \u001b[1;33m\u001b[0m\u001b[0m\n\u001b[0;32m    186\u001b[0m     \u001b[1;31m# Compute accuracy for each possible representation\u001b[0m\u001b[1;33m\u001b[0m\u001b[1;33m\u001b[0m\u001b[1;33m\u001b[0m\u001b[0m\n\u001b[1;32m--> 187\u001b[1;33m     \u001b[0my_type\u001b[0m\u001b[1;33m,\u001b[0m \u001b[0my_true\u001b[0m\u001b[1;33m,\u001b[0m \u001b[0my_pred\u001b[0m \u001b[1;33m=\u001b[0m \u001b[0m_check_targets\u001b[0m\u001b[1;33m(\u001b[0m\u001b[0my_true\u001b[0m\u001b[1;33m,\u001b[0m \u001b[0my_pred\u001b[0m\u001b[1;33m)\u001b[0m\u001b[1;33m\u001b[0m\u001b[1;33m\u001b[0m\u001b[0m\n\u001b[0m\u001b[0;32m    188\u001b[0m     \u001b[0mcheck_consistent_length\u001b[0m\u001b[1;33m(\u001b[0m\u001b[0my_true\u001b[0m\u001b[1;33m,\u001b[0m \u001b[0my_pred\u001b[0m\u001b[1;33m,\u001b[0m \u001b[0msample_weight\u001b[0m\u001b[1;33m)\u001b[0m\u001b[1;33m\u001b[0m\u001b[1;33m\u001b[0m\u001b[0m\n\u001b[0;32m    189\u001b[0m     \u001b[1;32mif\u001b[0m \u001b[0my_type\u001b[0m\u001b[1;33m.\u001b[0m\u001b[0mstartswith\u001b[0m\u001b[1;33m(\u001b[0m\u001b[1;34m'multilabel'\u001b[0m\u001b[1;33m)\u001b[0m\u001b[1;33m:\u001b[0m\u001b[1;33m\u001b[0m\u001b[1;33m\u001b[0m\u001b[0m\n",
      "\u001b[1;32m~\\anaconda3\\lib\\site-packages\\sklearn\\metrics\\_classification.py\u001b[0m in \u001b[0;36m_check_targets\u001b[1;34m(y_true, y_pred)\u001b[0m\n\u001b[0;32m     88\u001b[0m \u001b[1;33m\u001b[0m\u001b[0m\n\u001b[0;32m     89\u001b[0m     \u001b[1;32mif\u001b[0m \u001b[0mlen\u001b[0m\u001b[1;33m(\u001b[0m\u001b[0my_type\u001b[0m\u001b[1;33m)\u001b[0m \u001b[1;33m>\u001b[0m \u001b[1;36m1\u001b[0m\u001b[1;33m:\u001b[0m\u001b[1;33m\u001b[0m\u001b[1;33m\u001b[0m\u001b[0m\n\u001b[1;32m---> 90\u001b[1;33m         raise ValueError(\"Classification metrics can't handle a mix of {0} \"\n\u001b[0m\u001b[0;32m     91\u001b[0m                          \"and {1} targets\".format(type_true, type_pred))\n\u001b[0;32m     92\u001b[0m \u001b[1;33m\u001b[0m\u001b[0m\n",
      "\u001b[1;31mValueError\u001b[0m: Classification metrics can't handle a mix of binary and continuous targets"
     ]
    }
   ],
   "source": [
    "accuracy_score(Y_test,Y_pred)"
   ]
  },
  {
   "cell_type": "code",
   "execution_count": null,
   "metadata": {},
   "outputs": [],
   "source": [
    "#!pip install tensorflow"
   ]
  },
  {
   "cell_type": "markdown",
   "metadata": {},
   "source": [
    "# Artificial Neural Network"
   ]
  },
  {
   "cell_type": "code",
   "execution_count": 488,
   "metadata": {},
   "outputs": [],
   "source": [
    "import tensorflow as tf\n",
    "import tensorflow.keras as keras\n",
    "from tensorflow.keras.models import Sequential\n",
    "from tensorflow.keras.layers import Dense,Dropout"
   ]
  },
  {
   "cell_type": "code",
   "execution_count": 489,
   "metadata": {},
   "outputs": [],
   "source": [
    "from tensorflow.keras import metrics\n",
    "model = Sequential()\n",
    "\n",
    "# https://stats.stackexchange.com/questions/181/how-to-choose-the-number-of-hidden-layers-and-nodes-in-a-feedforward-neural-netw\n",
    "\n",
    "model.add(Dense(units=7,activation='relu'))\n",
    "\n",
    "model.add(Dense(units=7,activation='relu'))\n",
    "model.add(Dense(units=7,activation='relu'))\n",
    "model.add(Dense(units=7,activation='relu'))\n",
    "model.add(Dense(1))\n",
    "\n",
    "model.compile(optimizer='adam',loss='mse',metrics=[metrics.mae, metrics.categorical_accuracy])\n",
    "\n",
    "from tensorflow.keras.callbacks import EarlyStopping\n",
    "\n",
    "early_stop=EarlyStopping(monitor='val_loss',verbose=1,patience=25)\n",
    "\n"
   ]
  },
  {
   "cell_type": "code",
   "execution_count": 490,
   "metadata": {},
   "outputs": [
    {
     "name": "stdout",
     "output_type": "stream",
     "text": [
      "Epoch 1/600\n",
      "20/20 [==============================] - 1s 15ms/step - loss: 0.2872 - mean_absolute_error: 0.3436 - categorical_accuracy: 1.0000 - val_loss: 0.2562 - val_mean_absolute_error: 0.3722 - val_categorical_accuracy: 1.0000\n",
      "Epoch 2/600\n",
      "20/20 [==============================] - 0s 5ms/step - loss: 0.2601 - mean_absolute_error: 0.4044 - categorical_accuracy: 1.0000 - val_loss: 0.2099 - val_mean_absolute_error: 0.3990 - val_categorical_accuracy: 1.0000\n",
      "Epoch 3/600\n",
      "20/20 [==============================] - 0s 5ms/step - loss: 0.2041 - mean_absolute_error: 0.4106 - categorical_accuracy: 1.0000 - val_loss: 0.1972 - val_mean_absolute_error: 0.4181 - val_categorical_accuracy: 1.0000\n",
      "Epoch 4/600\n",
      "20/20 [==============================] - 0s 5ms/step - loss: 0.1915 - mean_absolute_error: 0.4184 - categorical_accuracy: 1.0000 - val_loss: 0.1952 - val_mean_absolute_error: 0.4155 - val_categorical_accuracy: 1.0000\n",
      "Epoch 5/600\n",
      "20/20 [==============================] - 0s 6ms/step - loss: 0.1900 - mean_absolute_error: 0.4149 - categorical_accuracy: 1.0000 - val_loss: 0.1930 - val_mean_absolute_error: 0.4091 - val_categorical_accuracy: 1.0000\n",
      "Epoch 6/600\n",
      "20/20 [==============================] - 0s 6ms/step - loss: 0.1918 - mean_absolute_error: 0.4126 - categorical_accuracy: 1.0000 - val_loss: 0.1906 - val_mean_absolute_error: 0.4050 - val_categorical_accuracy: 1.0000\n",
      "Epoch 7/600\n",
      "20/20 [==============================] - 0s 6ms/step - loss: 0.1791 - mean_absolute_error: 0.3987 - categorical_accuracy: 1.0000 - val_loss: 0.1878 - val_mean_absolute_error: 0.3978 - val_categorical_accuracy: 1.0000\n",
      "Epoch 8/600\n",
      "20/20 [==============================] - 0s 6ms/step - loss: 0.1796 - mean_absolute_error: 0.3975 - categorical_accuracy: 1.0000 - val_loss: 0.1852 - val_mean_absolute_error: 0.3936 - val_categorical_accuracy: 1.0000\n",
      "Epoch 9/600\n",
      "20/20 [==============================] - 0s 6ms/step - loss: 0.1760 - mean_absolute_error: 0.3922 - categorical_accuracy: 1.0000 - val_loss: 0.1824 - val_mean_absolute_error: 0.3866 - val_categorical_accuracy: 1.0000\n",
      "Epoch 10/600\n",
      "20/20 [==============================] - 0s 6ms/step - loss: 0.1644 - mean_absolute_error: 0.3729 - categorical_accuracy: 1.0000 - val_loss: 0.1799 - val_mean_absolute_error: 0.3756 - val_categorical_accuracy: 1.0000\n",
      "Epoch 11/600\n",
      "20/20 [==============================] - 0s 6ms/step - loss: 0.1665 - mean_absolute_error: 0.3743 - categorical_accuracy: 1.0000 - val_loss: 0.1779 - val_mean_absolute_error: 0.3663 - val_categorical_accuracy: 1.0000\n",
      "Epoch 12/600\n",
      "20/20 [==============================] - 0s 7ms/step - loss: 0.1647 - mean_absolute_error: 0.3648 - categorical_accuracy: 1.0000 - val_loss: 0.1770 - val_mean_absolute_error: 0.3558 - val_categorical_accuracy: 1.0000\n",
      "Epoch 13/600\n",
      "20/20 [==============================] - 0s 7ms/step - loss: 0.1693 - mean_absolute_error: 0.3624 - categorical_accuracy: 1.0000 - val_loss: 0.1760 - val_mean_absolute_error: 0.3530 - val_categorical_accuracy: 1.0000\n",
      "Epoch 14/600\n",
      "20/20 [==============================] - 0s 7ms/step - loss: 0.1698 - mean_absolute_error: 0.3669 - categorical_accuracy: 1.0000 - val_loss: 0.1759 - val_mean_absolute_error: 0.3396 - val_categorical_accuracy: 1.0000\n",
      "Epoch 15/600\n",
      "20/20 [==============================] - 0s 6ms/step - loss: 0.1727 - mean_absolute_error: 0.3518 - categorical_accuracy: 1.0000 - val_loss: 0.1754 - val_mean_absolute_error: 0.3364 - val_categorical_accuracy: 1.0000\n",
      "Epoch 16/600\n",
      "20/20 [==============================] - 0s 4ms/step - loss: 0.1531 - mean_absolute_error: 0.3331 - categorical_accuracy: 1.0000 - val_loss: 0.1755 - val_mean_absolute_error: 0.3323 - val_categorical_accuracy: 1.0000\n",
      "Epoch 17/600\n",
      "20/20 [==============================] - 0s 6ms/step - loss: 0.1427 - mean_absolute_error: 0.3141 - categorical_accuracy: 1.0000 - val_loss: 0.1755 - val_mean_absolute_error: 0.3311 - val_categorical_accuracy: 1.0000\n",
      "Epoch 18/600\n",
      "20/20 [==============================] - 0s 7ms/step - loss: 0.1522 - mean_absolute_error: 0.3294 - categorical_accuracy: 1.0000 - val_loss: 0.1757 - val_mean_absolute_error: 0.3275 - val_categorical_accuracy: 1.0000\n",
      "Epoch 19/600\n",
      "20/20 [==============================] - 0s 8ms/step - loss: 0.1552 - mean_absolute_error: 0.3312 - categorical_accuracy: 1.0000 - val_loss: 0.1759 - val_mean_absolute_error: 0.3236 - val_categorical_accuracy: 1.0000\n",
      "Epoch 20/600\n",
      "20/20 [==============================] - 0s 6ms/step - loss: 0.1533 - mean_absolute_error: 0.3181 - categorical_accuracy: 1.0000 - val_loss: 0.1764 - val_mean_absolute_error: 0.3267 - val_categorical_accuracy: 1.0000\n",
      "Epoch 21/600\n",
      "20/20 [==============================] - 0s 4ms/step - loss: 0.1517 - mean_absolute_error: 0.3216 - categorical_accuracy: 1.0000 - val_loss: 0.1760 - val_mean_absolute_error: 0.3232 - val_categorical_accuracy: 1.0000\n",
      "Epoch 22/600\n",
      "20/20 [==============================] - 0s 4ms/step - loss: 0.1487 - mean_absolute_error: 0.3074 - categorical_accuracy: 1.0000 - val_loss: 0.1767 - val_mean_absolute_error: 0.3253 - val_categorical_accuracy: 1.0000\n",
      "Epoch 23/600\n",
      "20/20 [==============================] - 0s 4ms/step - loss: 0.1404 - mean_absolute_error: 0.3052 - categorical_accuracy: 1.0000 - val_loss: 0.1764 - val_mean_absolute_error: 0.3211 - val_categorical_accuracy: 1.0000\n",
      "Epoch 24/600\n",
      "20/20 [==============================] - 0s 6ms/step - loss: 0.1475 - mean_absolute_error: 0.3071 - categorical_accuracy: 1.0000 - val_loss: 0.1769 - val_mean_absolute_error: 0.3232 - val_categorical_accuracy: 1.0000\n",
      "Epoch 25/600\n",
      "20/20 [==============================] - 0s 5ms/step - loss: 0.1575 - mean_absolute_error: 0.3246 - categorical_accuracy: 1.0000 - val_loss: 0.1765 - val_mean_absolute_error: 0.3206 - val_categorical_accuracy: 1.0000\n",
      "Epoch 26/600\n",
      "20/20 [==============================] - 0s 4ms/step - loss: 0.1495 - mean_absolute_error: 0.3121 - categorical_accuracy: 1.0000 - val_loss: 0.1769 - val_mean_absolute_error: 0.3193 - val_categorical_accuracy: 1.0000\n",
      "Epoch 27/600\n",
      "20/20 [==============================] - 0s 4ms/step - loss: 0.1455 - mean_absolute_error: 0.3059 - categorical_accuracy: 1.0000 - val_loss: 0.1770 - val_mean_absolute_error: 0.3188 - val_categorical_accuracy: 1.0000\n",
      "Epoch 28/600\n",
      "20/20 [==============================] - 0s 4ms/step - loss: 0.1568 - mean_absolute_error: 0.3156 - categorical_accuracy: 1.0000 - val_loss: 0.1773 - val_mean_absolute_error: 0.3182 - val_categorical_accuracy: 1.0000\n",
      "Epoch 29/600\n",
      "20/20 [==============================] - 0s 4ms/step - loss: 0.1513 - mean_absolute_error: 0.3061 - categorical_accuracy: 1.0000 - val_loss: 0.1775 - val_mean_absolute_error: 0.3165 - val_categorical_accuracy: 1.0000\n",
      "Epoch 30/600\n",
      "20/20 [==============================] - 0s 5ms/step - loss: 0.1417 - mean_absolute_error: 0.2979 - categorical_accuracy: 1.0000 - val_loss: 0.1783 - val_mean_absolute_error: 0.3185 - val_categorical_accuracy: 1.0000\n",
      "Epoch 31/600\n",
      "20/20 [==============================] - 0s 4ms/step - loss: 0.1476 - mean_absolute_error: 0.3059 - categorical_accuracy: 1.0000 - val_loss: 0.1782 - val_mean_absolute_error: 0.3160 - val_categorical_accuracy: 1.0000\n",
      "Epoch 32/600\n",
      "20/20 [==============================] - 0s 4ms/step - loss: 0.1439 - mean_absolute_error: 0.3029 - categorical_accuracy: 1.0000 - val_loss: 0.1780 - val_mean_absolute_error: 0.3142 - val_categorical_accuracy: 1.0000\n",
      "Epoch 33/600\n",
      "20/20 [==============================] - 0s 4ms/step - loss: 0.1566 - mean_absolute_error: 0.3114 - categorical_accuracy: 1.0000 - val_loss: 0.1777 - val_mean_absolute_error: 0.3204 - val_categorical_accuracy: 1.0000\n",
      "Epoch 34/600\n",
      "20/20 [==============================] - 0s 5ms/step - loss: 0.1506 - mean_absolute_error: 0.3100 - categorical_accuracy: 1.0000 - val_loss: 0.1781 - val_mean_absolute_error: 0.3185 - val_categorical_accuracy: 1.0000\n",
      "Epoch 35/600\n",
      "20/20 [==============================] - 0s 4ms/step - loss: 0.1482 - mean_absolute_error: 0.2995 - categorical_accuracy: 1.0000 - val_loss: 0.1797 - val_mean_absolute_error: 0.3189 - val_categorical_accuracy: 1.0000\n",
      "Epoch 36/600\n",
      "20/20 [==============================] - 0s 4ms/step - loss: 0.1463 - mean_absolute_error: 0.3025 - categorical_accuracy: 1.0000 - val_loss: 0.1786 - val_mean_absolute_error: 0.3177 - val_categorical_accuracy: 1.0000\n",
      "Epoch 37/600\n",
      "20/20 [==============================] - 0s 4ms/step - loss: 0.1314 - mean_absolute_error: 0.2778 - categorical_accuracy: 1.0000 - val_loss: 0.1804 - val_mean_absolute_error: 0.3218 - val_categorical_accuracy: 1.0000\n",
      "Epoch 38/600\n",
      "20/20 [==============================] - 0s 4ms/step - loss: 0.1468 - mean_absolute_error: 0.3071 - categorical_accuracy: 1.0000 - val_loss: 0.1800 - val_mean_absolute_error: 0.3167 - val_categorical_accuracy: 1.0000\n",
      "Epoch 39/600\n",
      "20/20 [==============================] - 0s 4ms/step - loss: 0.1434 - mean_absolute_error: 0.2954 - categorical_accuracy: 1.0000 - val_loss: 0.1823 - val_mean_absolute_error: 0.3177 - val_categorical_accuracy: 1.0000\n",
      "Epoch 40/600\n",
      "20/20 [==============================] - 0s 4ms/step - loss: 0.1446 - mean_absolute_error: 0.2985 - categorical_accuracy: 1.0000 - val_loss: 0.1810 - val_mean_absolute_error: 0.3174 - val_categorical_accuracy: 1.0000\n",
      "Epoch 00040: early stopping\n"
     ]
    },
    {
     "data": {
      "text/plain": [
       "<tensorflow.python.keras.callbacks.History at 0x1aec2d4c2b0>"
      ]
     },
     "execution_count": 490,
     "metadata": {},
     "output_type": "execute_result"
    }
   ],
   "source": [
    "model.fit(x=X_train,y=Y_train,epochs=600,validation_data=(X_test,Y_test),\n",
    "         callbacks=[early_stop])"
   ]
  },
  {
   "cell_type": "code",
   "execution_count": 491,
   "metadata": {},
   "outputs": [],
   "source": [
    "losses=pd.DataFrame(model.history.history)"
   ]
  },
  {
   "cell_type": "code",
   "execution_count": 492,
   "metadata": {},
   "outputs": [
    {
     "data": {
      "text/plain": [
       "<AxesSubplot:>"
      ]
     },
     "execution_count": 492,
     "metadata": {},
     "output_type": "execute_result"
    },
    {
     "data": {
      "image/png": "[encoded data removed]",
      "text/plain": [
       "<Figure size 432x288 with 1 Axes>"
      ]
     },
     "metadata": {
      "needs_background": "light"
     },
     "output_type": "display_data"
    }
   ],
   "source": [
    "losses.plot()"
   ]
  },
  {
   "cell_type": "code",
   "execution_count": 493,
   "metadata": {},
   "outputs": [],
   "source": [
    "from sklearn.metrics import mean_squared_error,mean_absolute_error"
   ]
  },
  {
   "cell_type": "code",
   "execution_count": 494,
   "metadata": {},
   "outputs": [],
   "source": [
    "predictions=model.predict(X_test)"
   ]
  },
  {
   "cell_type": "code",
   "execution_count": 495,
   "metadata": {},
   "outputs": [
    {
     "data": {
      "text/plain": [
       "0.1810163119625868"
      ]
     },
     "execution_count": 495,
     "metadata": {},
     "output_type": "execute_result"
    }
   ],
   "source": [
    "mean_squared_error(Y_test,predictions)"
   ]
  },
  {
   "cell_type": "code",
   "execution_count": 496,
   "metadata": {},
   "outputs": [
    {
     "data": {
      "text/plain": [
       "0.31739530342256095"
      ]
     },
     "execution_count": 496,
     "metadata": {},
     "output_type": "execute_result"
    }
   ],
   "source": [
    "mean_absolute_error(Y_test,predictions)"
   ]
  },
  {
   "cell_type": "code",
   "execution_count": 497,
   "metadata": {},
   "outputs": [],
   "source": [
    "model = Sequential()\n",
    "\n",
    "# https://stats.stackexchange.com/questions/181/how-to-choose-the-number-of-hidden-layers-and-nodes-in-a-feedforward-neural-netw\n",
    "\n",
    "model.add(Dense(units=7,activation='relu'))\n",
    "\n",
    "model.add(Dense(units=4,activation='relu'))\n",
    "\n",
    "\n",
    "model.add(Dense(units=1,activation='sigmoid'))\n",
    "\n",
    "model.compile(optimizer='adam',loss='mse',metrics=[metrics.mae, metrics.categorical_accuracy])\n"
   ]
  },
  {
   "cell_type": "code",
   "execution_count": 498,
   "metadata": {},
   "outputs": [],
   "source": [
    "early_stop=EarlyStopping(monitor='val_loss',verbose=1,patience=25)"
   ]
  },
  {
   "cell_type": "code",
   "execution_count": 499,
   "metadata": {},
   "outputs": [
    {
     "name": "stdout",
     "output_type": "stream",
     "text": [
      "Epoch 1/600\n",
      "20/20 [==============================] - 1s 14ms/step - loss: 0.2490 - mean_absolute_error: 0.4989 - categorical_accuracy: 1.0000 - val_loss: 0.2480 - val_mean_absolute_error: 0.4980 - val_categorical_accuracy: 1.0000\n",
      "Epoch 2/600\n",
      "20/20 [==============================] - 0s 4ms/step - loss: 0.2479 - mean_absolute_error: 0.4979 - categorical_accuracy: 1.0000 - val_loss: 0.2466 - val_mean_absolute_error: 0.4966 - val_categorical_accuracy: 1.0000\n",
      "Epoch 3/600\n",
      "20/20 [==============================] - 0s 4ms/step - loss: 0.2460 - mean_absolute_error: 0.4959 - categorical_accuracy: 1.0000 - val_loss: 0.2452 - val_mean_absolute_error: 0.4951 - val_categorical_accuracy: 1.0000\n",
      "Epoch 4/600\n",
      "20/20 [==============================] - 0s 4ms/step - loss: 0.2451 - mean_absolute_error: 0.4950 - categorical_accuracy: 1.0000 - val_loss: 0.2439 - val_mean_absolute_error: 0.4937 - val_categorical_accuracy: 1.0000\n",
      "Epoch 5/600\n",
      "20/20 [==============================] - 0s 4ms/step - loss: 0.2435 - mean_absolute_error: 0.4933 - categorical_accuracy: 1.0000 - val_loss: 0.2426 - val_mean_absolute_error: 0.4923 - val_categorical_accuracy: 1.0000\n",
      "Epoch 6/600\n",
      "20/20 [==============================] - 0s 4ms/step - loss: 0.2419 - mean_absolute_error: 0.4916 - categorical_accuracy: 1.0000 - val_loss: 0.2414 - val_mean_absolute_error: 0.4910 - val_categorical_accuracy: 1.0000\n",
      "Epoch 7/600\n",
      "20/20 [==============================] - 0s 4ms/step - loss: 0.2422 - mean_absolute_error: 0.4918 - categorical_accuracy: 1.0000 - val_loss: 0.2401 - val_mean_absolute_error: 0.4896 - val_categorical_accuracy: 1.0000\n",
      "Epoch 8/600\n",
      "20/20 [==============================] - 0s 4ms/step - loss: 0.2386 - mean_absolute_error: 0.4880 - categorical_accuracy: 1.0000 - val_loss: 0.2389 - val_mean_absolute_error: 0.4882 - val_categorical_accuracy: 1.0000\n",
      "Epoch 9/600\n",
      "20/20 [==============================] - 0s 4ms/step - loss: 0.2374 - mean_absolute_error: 0.4867 - categorical_accuracy: 1.0000 - val_loss: 0.2378 - val_mean_absolute_error: 0.4869 - val_categorical_accuracy: 1.0000\n",
      "Epoch 10/600\n",
      "20/20 [==============================] - 0s 4ms/step - loss: 0.2365 - mean_absolute_error: 0.4856 - categorical_accuracy: 1.0000 - val_loss: 0.2365 - val_mean_absolute_error: 0.4855 - val_categorical_accuracy: 1.0000\n",
      "Epoch 11/600\n",
      "20/20 [==============================] - 0s 5ms/step - loss: 0.2354 - mean_absolute_error: 0.4844 - categorical_accuracy: 1.0000 - val_loss: 0.2354 - val_mean_absolute_error: 0.4842 - val_categorical_accuracy: 1.0000\n",
      "Epoch 12/600\n",
      "20/20 [==============================] - 0s 5ms/step - loss: 0.2333 - mean_absolute_error: 0.4820 - categorical_accuracy: 1.0000 - val_loss: 0.2343 - val_mean_absolute_error: 0.4828 - val_categorical_accuracy: 1.0000\n",
      "Epoch 13/600\n",
      "20/20 [==============================] - 0s 4ms/step - loss: 0.2343 - mean_absolute_error: 0.4830 - categorical_accuracy: 1.0000 - val_loss: 0.2331 - val_mean_absolute_error: 0.4814 - val_categorical_accuracy: 1.0000\n",
      "Epoch 14/600\n",
      "20/20 [==============================] - 0s 6ms/step - loss: 0.2332 - mean_absolute_error: 0.4815 - categorical_accuracy: 1.0000 - val_loss: 0.2320 - val_mean_absolute_error: 0.4801 - val_categorical_accuracy: 1.0000\n",
      "Epoch 15/600\n",
      "20/20 [==============================] - 0s 5ms/step - loss: 0.2323 - mean_absolute_error: 0.4806 - categorical_accuracy: 1.0000 - val_loss: 0.2307 - val_mean_absolute_error: 0.4786 - val_categorical_accuracy: 1.0000\n",
      "Epoch 16/600\n",
      "20/20 [==============================] - 0s 6ms/step - loss: 0.2298 - mean_absolute_error: 0.4777 - categorical_accuracy: 1.0000 - val_loss: 0.2296 - val_mean_absolute_error: 0.4772 - val_categorical_accuracy: 1.0000\n",
      "Epoch 17/600\n",
      "20/20 [==============================] - 0s 5ms/step - loss: 0.2291 - mean_absolute_error: 0.4768 - categorical_accuracy: 1.0000 - val_loss: 0.2283 - val_mean_absolute_error: 0.4757 - val_categorical_accuracy: 1.0000\n",
      "Epoch 18/600\n",
      "20/20 [==============================] - 0s 5ms/step - loss: 0.2254 - mean_absolute_error: 0.4729 - categorical_accuracy: 1.0000 - val_loss: 0.2272 - val_mean_absolute_error: 0.4742 - val_categorical_accuracy: 1.0000\n",
      "Epoch 19/600\n",
      "20/20 [==============================] - 0s 6ms/step - loss: 0.2227 - mean_absolute_error: 0.4700 - categorical_accuracy: 1.0000 - val_loss: 0.2256 - val_mean_absolute_error: 0.4727 - val_categorical_accuracy: 1.0000\n",
      "Epoch 20/600\n",
      "20/20 [==============================] - 0s 6ms/step - loss: 0.2231 - mean_absolute_error: 0.4703 - categorical_accuracy: 1.0000 - val_loss: 0.2245 - val_mean_absolute_error: 0.4711 - val_categorical_accuracy: 1.0000\n",
      "Epoch 21/600\n",
      "20/20 [==============================] - 0s 6ms/step - loss: 0.2231 - mean_absolute_error: 0.4699 - categorical_accuracy: 1.0000 - val_loss: 0.2231 - val_mean_absolute_error: 0.4695 - val_categorical_accuracy: 1.0000\n",
      "Epoch 22/600\n",
      "20/20 [==============================] - 0s 5ms/step - loss: 0.2207 - mean_absolute_error: 0.4671 - categorical_accuracy: 1.0000 - val_loss: 0.2221 - val_mean_absolute_error: 0.4679 - val_categorical_accuracy: 1.0000\n",
      "Epoch 23/600\n",
      "20/20 [==============================] - 0s 6ms/step - loss: 0.2193 - mean_absolute_error: 0.4655 - categorical_accuracy: 1.0000 - val_loss: 0.2206 - val_mean_absolute_error: 0.4664 - val_categorical_accuracy: 1.0000\n",
      "Epoch 24/600\n",
      "20/20 [==============================] - 0s 6ms/step - loss: 0.2158 - mean_absolute_error: 0.4617 - categorical_accuracy: 1.0000 - val_loss: 0.2193 - val_mean_absolute_error: 0.4648 - val_categorical_accuracy: 1.0000\n",
      "Epoch 25/600\n",
      "20/20 [==============================] - 0s 6ms/step - loss: 0.2174 - mean_absolute_error: 0.4633 - categorical_accuracy: 1.0000 - val_loss: 0.2179 - val_mean_absolute_error: 0.4631 - val_categorical_accuracy: 1.0000\n",
      "Epoch 26/600\n",
      "20/20 [==============================] - 0s 5ms/step - loss: 0.2156 - mean_absolute_error: 0.4611 - categorical_accuracy: 1.0000 - val_loss: 0.2169 - val_mean_absolute_error: 0.4615 - val_categorical_accuracy: 1.0000\n",
      "Epoch 27/600\n",
      "20/20 [==============================] - 0s 5ms/step - loss: 0.2127 - mean_absolute_error: 0.4577 - categorical_accuracy: 1.0000 - val_loss: 0.2154 - val_mean_absolute_error: 0.4596 - val_categorical_accuracy: 1.0000\n",
      "Epoch 28/600\n",
      "20/20 [==============================] - 0s 4ms/step - loss: 0.2114 - mean_absolute_error: 0.4563 - categorical_accuracy: 1.0000 - val_loss: 0.2139 - val_mean_absolute_error: 0.4579 - val_categorical_accuracy: 1.0000\n",
      "Epoch 29/600\n",
      "20/20 [==============================] - 0s 4ms/step - loss: 0.2132 - mean_absolute_error: 0.4578 - categorical_accuracy: 1.0000 - val_loss: 0.2129 - val_mean_absolute_error: 0.4563 - val_categorical_accuracy: 1.0000\n",
      "Epoch 30/600\n",
      "20/20 [==============================] - 0s 5ms/step - loss: 0.2107 - mean_absolute_error: 0.4548 - categorical_accuracy: 1.0000 - val_loss: 0.2118 - val_mean_absolute_error: 0.4546 - val_categorical_accuracy: 1.0000\n",
      "Epoch 31/600\n",
      "20/20 [==============================] - 0s 4ms/step - loss: 0.2082 - mean_absolute_error: 0.4518 - categorical_accuracy: 1.0000 - val_loss: 0.2104 - val_mean_absolute_error: 0.4529 - val_categorical_accuracy: 1.0000\n",
      "Epoch 32/600\n",
      "20/20 [==============================] - 0s 4ms/step - loss: 0.2076 - mean_absolute_error: 0.4505 - categorical_accuracy: 1.0000 - val_loss: 0.2096 - val_mean_absolute_error: 0.4513 - val_categorical_accuracy: 1.0000\n",
      "Epoch 33/600\n",
      "20/20 [==============================] - 0s 4ms/step - loss: 0.2064 - mean_absolute_error: 0.4493 - categorical_accuracy: 1.0000 - val_loss: 0.2079 - val_mean_absolute_error: 0.4493 - val_categorical_accuracy: 1.0000\n",
      "Epoch 34/600\n",
      "20/20 [==============================] - 0s 5ms/step - loss: 0.1983 - mean_absolute_error: 0.4403 - categorical_accuracy: 1.0000 - val_loss: 0.2070 - val_mean_absolute_error: 0.4477 - val_categorical_accuracy: 1.0000\n",
      "Epoch 35/600\n",
      "20/20 [==============================] - 0s 4ms/step - loss: 0.1979 - mean_absolute_error: 0.4394 - categorical_accuracy: 1.0000 - val_loss: 0.2055 - val_mean_absolute_error: 0.4458 - val_categorical_accuracy: 1.0000\n",
      "Epoch 36/600\n",
      "20/20 [==============================] - 0s 4ms/step - loss: 0.1975 - mean_absolute_error: 0.4384 - categorical_accuracy: 1.0000 - val_loss: 0.2045 - val_mean_absolute_error: 0.4441 - val_categorical_accuracy: 1.0000\n",
      "Epoch 37/600\n",
      "20/20 [==============================] - 0s 4ms/step - loss: 0.1954 - mean_absolute_error: 0.4356 - categorical_accuracy: 1.0000 - val_loss: 0.2037 - val_mean_absolute_error: 0.4425 - val_categorical_accuracy: 1.0000\n",
      "Epoch 38/600\n",
      "20/20 [==============================] - 0s 4ms/step - loss: 0.1958 - mean_absolute_error: 0.4357 - categorical_accuracy: 1.0000 - val_loss: 0.2023 - val_mean_absolute_error: 0.4406 - val_categorical_accuracy: 1.0000\n",
      "Epoch 39/600\n",
      "20/20 [==============================] - 0s 4ms/step - loss: 0.1934 - mean_absolute_error: 0.4327 - categorical_accuracy: 1.0000 - val_loss: 0.2013 - val_mean_absolute_error: 0.4389 - val_categorical_accuracy: 1.0000\n",
      "Epoch 40/600\n",
      "20/20 [==============================] - 0s 4ms/step - loss: 0.1914 - mean_absolute_error: 0.4304 - categorical_accuracy: 1.0000 - val_loss: 0.2005 - val_mean_absolute_error: 0.4373 - val_categorical_accuracy: 1.0000\n",
      "Epoch 41/600\n",
      "20/20 [==============================] - 0s 4ms/step - loss: 0.1860 - mean_absolute_error: 0.4239 - categorical_accuracy: 1.0000 - val_loss: 0.1994 - val_mean_absolute_error: 0.4356 - val_categorical_accuracy: 1.0000\n",
      "Epoch 42/600\n",
      "20/20 [==============================] - 0s 4ms/step - loss: 0.1895 - mean_absolute_error: 0.4265 - categorical_accuracy: 1.0000 - val_loss: 0.1987 - val_mean_absolute_error: 0.4342 - val_categorical_accuracy: 1.0000\n",
      "Epoch 43/600\n",
      "20/20 [==============================] - 0s 4ms/step - loss: 0.1916 - mean_absolute_error: 0.4279 - categorical_accuracy: 1.0000 - val_loss: 0.1978 - val_mean_absolute_error: 0.4325 - val_categorical_accuracy: 1.0000\n",
      "Epoch 44/600\n",
      "20/20 [==============================] - 0s 4ms/step - loss: 0.1867 - mean_absolute_error: 0.4230 - categorical_accuracy: 1.0000 - val_loss: 0.1968 - val_mean_absolute_error: 0.4307 - val_categorical_accuracy: 1.0000\n",
      "Epoch 45/600\n",
      "20/20 [==============================] - 0s 4ms/step - loss: 0.1831 - mean_absolute_error: 0.4183 - categorical_accuracy: 1.0000 - val_loss: 0.1961 - val_mean_absolute_error: 0.4293 - val_categorical_accuracy: 1.0000\n",
      "Epoch 46/600\n",
      "20/20 [==============================] - 0s 3ms/step - loss: 0.1859 - mean_absolute_error: 0.4205 - categorical_accuracy: 1.0000 - val_loss: 0.1954 - val_mean_absolute_error: 0.4278 - val_categorical_accuracy: 1.0000\n",
      "Epoch 47/600\n",
      "20/20 [==============================] - 0s 3ms/step - loss: 0.1847 - mean_absolute_error: 0.4183 - categorical_accuracy: 1.0000 - val_loss: 0.1945 - val_mean_absolute_error: 0.4261 - val_categorical_accuracy: 1.0000\n",
      "Epoch 48/600\n",
      "20/20 [==============================] - 0s 3ms/step - loss: 0.1821 - mean_absolute_error: 0.4154 - categorical_accuracy: 1.0000 - val_loss: 0.1938 - val_mean_absolute_error: 0.4248 - val_categorical_accuracy: 1.0000\n",
      "Epoch 49/600\n",
      "20/20 [==============================] - 0s 4ms/step - loss: 0.1809 - mean_absolute_error: 0.4137 - categorical_accuracy: 1.0000 - val_loss: 0.1932 - val_mean_absolute_error: 0.4231 - val_categorical_accuracy: 1.0000\n",
      "Epoch 50/600\n",
      "20/20 [==============================] - 0s 4ms/step - loss: 0.1784 - mean_absolute_error: 0.4091 - categorical_accuracy: 1.0000 - val_loss: 0.1926 - val_mean_absolute_error: 0.4218 - val_categorical_accuracy: 1.0000\n",
      "Epoch 51/600\n",
      "20/20 [==============================] - 0s 4ms/step - loss: 0.1729 - mean_absolute_error: 0.4034 - categorical_accuracy: 1.0000 - val_loss: 0.1916 - val_mean_absolute_error: 0.4199 - val_categorical_accuracy: 1.0000\n",
      "Epoch 52/600\n",
      "20/20 [==============================] - 0s 4ms/step - loss: 0.1744 - mean_absolute_error: 0.4043 - categorical_accuracy: 1.0000 - val_loss: 0.1912 - val_mean_absolute_error: 0.4186 - val_categorical_accuracy: 1.0000\n",
      "Epoch 53/600\n",
      "20/20 [==============================] - 0s 4ms/step - loss: 0.1765 - mean_absolute_error: 0.4059 - categorical_accuracy: 1.0000 - val_loss: 0.1909 - val_mean_absolute_error: 0.4176 - val_categorical_accuracy: 1.0000\n",
      "Epoch 54/600\n",
      "20/20 [==============================] - 0s 3ms/step - loss: 0.1789 - mean_absolute_error: 0.4078 - categorical_accuracy: 1.0000 - val_loss: 0.1900 - val_mean_absolute_error: 0.4158 - val_categorical_accuracy: 1.0000\n",
      "Epoch 55/600\n",
      "20/20 [==============================] - 0s 4ms/step - loss: 0.1754 - mean_absolute_error: 0.4027 - categorical_accuracy: 1.0000 - val_loss: 0.1900 - val_mean_absolute_error: 0.4152 - val_categorical_accuracy: 1.0000\n",
      "Epoch 56/600\n",
      "20/20 [==============================] - 0s 4ms/step - loss: 0.1749 - mean_absolute_error: 0.4016 - categorical_accuracy: 1.0000 - val_loss: 0.1890 - val_mean_absolute_error: 0.4136 - val_categorical_accuracy: 1.0000\n",
      "Epoch 57/600\n",
      "20/20 [==============================] - 0s 4ms/step - loss: 0.1685 - mean_absolute_error: 0.3941 - categorical_accuracy: 1.0000 - val_loss: 0.1883 - val_mean_absolute_error: 0.4119 - val_categorical_accuracy: 1.0000\n",
      "Epoch 58/600\n",
      "20/20 [==============================] - 0s 4ms/step - loss: 0.1704 - mean_absolute_error: 0.3964 - categorical_accuracy: 1.0000 - val_loss: 0.1879 - val_mean_absolute_error: 0.4108 - val_categorical_accuracy: 1.0000\n",
      "Epoch 59/600\n",
      "20/20 [==============================] - 0s 3ms/step - loss: 0.1779 - mean_absolute_error: 0.4038 - categorical_accuracy: 1.0000 - val_loss: 0.1873 - val_mean_absolute_error: 0.4094 - val_categorical_accuracy: 1.0000\n",
      "Epoch 60/600\n",
      "20/20 [==============================] - 0s 4ms/step - loss: 0.1696 - mean_absolute_error: 0.3938 - categorical_accuracy: 1.0000 - val_loss: 0.1868 - val_mean_absolute_error: 0.4080 - val_categorical_accuracy: 1.0000\n",
      "Epoch 61/600\n",
      "20/20 [==============================] - 0s 4ms/step - loss: 0.1774 - mean_absolute_error: 0.4022 - categorical_accuracy: 1.0000 - val_loss: 0.1863 - val_mean_absolute_error: 0.4068 - val_categorical_accuracy: 1.0000\n",
      "Epoch 62/600\n",
      "20/20 [==============================] - 0s 4ms/step - loss: 0.1674 - mean_absolute_error: 0.3896 - categorical_accuracy: 1.0000 - val_loss: 0.1858 - val_mean_absolute_error: 0.4056 - val_categorical_accuracy: 1.0000\n",
      "Epoch 63/600\n",
      "20/20 [==============================] - 0s 3ms/step - loss: 0.1712 - mean_absolute_error: 0.3939 - categorical_accuracy: 1.0000 - val_loss: 0.1854 - val_mean_absolute_error: 0.4044 - val_categorical_accuracy: 1.0000\n",
      "Epoch 64/600\n",
      "20/20 [==============================] - 0s 4ms/step - loss: 0.1717 - mean_absolute_error: 0.3921 - categorical_accuracy: 1.0000 - val_loss: 0.1850 - val_mean_absolute_error: 0.4032 - val_categorical_accuracy: 1.0000\n",
      "Epoch 65/600\n",
      "20/20 [==============================] - 0s 3ms/step - loss: 0.1605 - mean_absolute_error: 0.3792 - categorical_accuracy: 1.0000 - val_loss: 0.1846 - val_mean_absolute_error: 0.4019 - val_categorical_accuracy: 1.0000\n",
      "Epoch 66/600\n",
      "20/20 [==============================] - 0s 5ms/step - loss: 0.1656 - mean_absolute_error: 0.3841 - categorical_accuracy: 1.0000 - val_loss: 0.1843 - val_mean_absolute_error: 0.4010 - val_categorical_accuracy: 1.0000\n",
      "Epoch 67/600\n",
      "20/20 [==============================] - 0s 4ms/step - loss: 0.1718 - mean_absolute_error: 0.3925 - categorical_accuracy: 1.0000 - val_loss: 0.1839 - val_mean_absolute_error: 0.3999 - val_categorical_accuracy: 1.0000\n",
      "Epoch 68/600\n",
      "20/20 [==============================] - 0s 5ms/step - loss: 0.1696 - mean_absolute_error: 0.3886 - categorical_accuracy: 1.0000 - val_loss: 0.1836 - val_mean_absolute_error: 0.3986 - val_categorical_accuracy: 1.0000\n",
      "Epoch 69/600\n",
      "20/20 [==============================] - 0s 5ms/step - loss: 0.1590 - mean_absolute_error: 0.3765 - categorical_accuracy: 1.0000 - val_loss: 0.1832 - val_mean_absolute_error: 0.3979 - val_categorical_accuracy: 1.0000\n",
      "Epoch 70/600\n",
      "20/20 [==============================] - 0s 4ms/step - loss: 0.1595 - mean_absolute_error: 0.3762 - categorical_accuracy: 1.0000 - val_loss: 0.1829 - val_mean_absolute_error: 0.3967 - val_categorical_accuracy: 1.0000\n",
      "Epoch 71/600\n",
      "20/20 [==============================] - 0s 4ms/step - loss: 0.1647 - mean_absolute_error: 0.3807 - categorical_accuracy: 1.0000 - val_loss: 0.1826 - val_mean_absolute_error: 0.3956 - val_categorical_accuracy: 1.0000\n",
      "Epoch 72/600\n",
      "20/20 [==============================] - 0s 4ms/step - loss: 0.1655 - mean_absolute_error: 0.3807 - categorical_accuracy: 1.0000 - val_loss: 0.1825 - val_mean_absolute_error: 0.3948 - val_categorical_accuracy: 1.0000\n",
      "Epoch 73/600\n",
      "20/20 [==============================] - 0s 4ms/step - loss: 0.1701 - mean_absolute_error: 0.3862 - categorical_accuracy: 1.0000 - val_loss: 0.1822 - val_mean_absolute_error: 0.3938 - val_categorical_accuracy: 1.0000\n",
      "Epoch 74/600\n",
      "20/20 [==============================] - 0s 4ms/step - loss: 0.1676 - mean_absolute_error: 0.3822 - categorical_accuracy: 1.0000 - val_loss: 0.1817 - val_mean_absolute_error: 0.3925 - val_categorical_accuracy: 1.0000\n",
      "Epoch 75/600\n",
      "20/20 [==============================] - 0s 4ms/step - loss: 0.1662 - mean_absolute_error: 0.3812 - categorical_accuracy: 1.0000 - val_loss: 0.1814 - val_mean_absolute_error: 0.3916 - val_categorical_accuracy: 1.0000\n",
      "Epoch 76/600\n",
      "20/20 [==============================] - 0s 4ms/step - loss: 0.1586 - mean_absolute_error: 0.3707 - categorical_accuracy: 1.0000 - val_loss: 0.1811 - val_mean_absolute_error: 0.3902 - val_categorical_accuracy: 1.0000\n",
      "Epoch 77/600\n",
      "20/20 [==============================] - 0s 4ms/step - loss: 0.1550 - mean_absolute_error: 0.3671 - categorical_accuracy: 1.0000 - val_loss: 0.1810 - val_mean_absolute_error: 0.3896 - val_categorical_accuracy: 1.0000\n",
      "Epoch 78/600\n",
      "20/20 [==============================] - 0s 5ms/step - loss: 0.1559 - mean_absolute_error: 0.3661 - categorical_accuracy: 1.0000 - val_loss: 0.1808 - val_mean_absolute_error: 0.3887 - val_categorical_accuracy: 1.0000\n",
      "Epoch 79/600\n",
      "20/20 [==============================] - 0s 4ms/step - loss: 0.1605 - mean_absolute_error: 0.3721 - categorical_accuracy: 1.0000 - val_loss: 0.1805 - val_mean_absolute_error: 0.3876 - val_categorical_accuracy: 1.0000\n",
      "Epoch 80/600\n",
      "20/20 [==============================] - 0s 4ms/step - loss: 0.1574 - mean_absolute_error: 0.3676 - categorical_accuracy: 1.0000 - val_loss: 0.1803 - val_mean_absolute_error: 0.3866 - val_categorical_accuracy: 1.0000\n",
      "Epoch 81/600\n",
      "20/20 [==============================] - 0s 4ms/step - loss: 0.1615 - mean_absolute_error: 0.3708 - categorical_accuracy: 1.0000 - val_loss: 0.1802 - val_mean_absolute_error: 0.3863 - val_categorical_accuracy: 1.0000\n",
      "Epoch 82/600\n",
      "20/20 [==============================] - 0s 5ms/step - loss: 0.1505 - mean_absolute_error: 0.3588 - categorical_accuracy: 1.0000 - val_loss: 0.1801 - val_mean_absolute_error: 0.3851 - val_categorical_accuracy: 1.0000\n",
      "Epoch 83/600\n",
      "20/20 [==============================] - 0s 4ms/step - loss: 0.1568 - mean_absolute_error: 0.3659 - categorical_accuracy: 1.0000 - val_loss: 0.1800 - val_mean_absolute_error: 0.3842 - val_categorical_accuracy: 1.0000\n",
      "Epoch 84/600\n",
      "20/20 [==============================] - 0s 5ms/step - loss: 0.1516 - mean_absolute_error: 0.3621 - categorical_accuracy: 1.0000 - val_loss: 0.1798 - val_mean_absolute_error: 0.3835 - val_categorical_accuracy: 1.0000\n",
      "Epoch 85/600\n",
      "20/20 [==============================] - 0s 4ms/step - loss: 0.1472 - mean_absolute_error: 0.3526 - categorical_accuracy: 1.0000 - val_loss: 0.1798 - val_mean_absolute_error: 0.3829 - val_categorical_accuracy: 1.0000\n",
      "Epoch 86/600\n",
      "20/20 [==============================] - 0s 4ms/step - loss: 0.1475 - mean_absolute_error: 0.3519 - categorical_accuracy: 1.0000 - val_loss: 0.1797 - val_mean_absolute_error: 0.3819 - val_categorical_accuracy: 1.0000\n",
      "Epoch 87/600\n",
      "20/20 [==============================] - 0s 4ms/step - loss: 0.1563 - mean_absolute_error: 0.3613 - categorical_accuracy: 1.0000 - val_loss: 0.1798 - val_mean_absolute_error: 0.3813 - val_categorical_accuracy: 1.0000\n",
      "Epoch 88/600\n",
      "20/20 [==============================] - 0s 4ms/step - loss: 0.1525 - mean_absolute_error: 0.3572 - categorical_accuracy: 1.0000 - val_loss: 0.1796 - val_mean_absolute_error: 0.3804 - val_categorical_accuracy: 1.0000\n",
      "Epoch 89/600\n",
      "20/20 [==============================] - 0s 4ms/step - loss: 0.1578 - mean_absolute_error: 0.3607 - categorical_accuracy: 1.0000 - val_loss: 0.1795 - val_mean_absolute_error: 0.3798 - val_categorical_accuracy: 1.0000\n",
      "Epoch 90/600\n",
      "20/20 [==============================] - 0s 4ms/step - loss: 0.1533 - mean_absolute_error: 0.3586 - categorical_accuracy: 1.0000 - val_loss: 0.1794 - val_mean_absolute_error: 0.3789 - val_categorical_accuracy: 1.0000\n",
      "Epoch 91/600\n",
      "20/20 [==============================] - 0s 4ms/step - loss: 0.1499 - mean_absolute_error: 0.3546 - categorical_accuracy: 1.0000 - val_loss: 0.1790 - val_mean_absolute_error: 0.3784 - val_categorical_accuracy: 1.0000\n",
      "Epoch 92/600\n",
      "20/20 [==============================] - 0s 5ms/step - loss: 0.1581 - mean_absolute_error: 0.3608 - categorical_accuracy: 1.0000 - val_loss: 0.1790 - val_mean_absolute_error: 0.3771 - val_categorical_accuracy: 1.0000\n",
      "Epoch 93/600\n",
      "20/20 [==============================] - 0s 4ms/step - loss: 0.1513 - mean_absolute_error: 0.3537 - categorical_accuracy: 1.0000 - val_loss: 0.1789 - val_mean_absolute_error: 0.3766 - val_categorical_accuracy: 1.0000\n",
      "Epoch 94/600\n",
      "20/20 [==============================] - 0s 4ms/step - loss: 0.1458 - mean_absolute_error: 0.3473 - categorical_accuracy: 1.0000 - val_loss: 0.1788 - val_mean_absolute_error: 0.3758 - val_categorical_accuracy: 1.0000\n",
      "Epoch 95/600\n",
      "20/20 [==============================] - 0s 4ms/step - loss: 0.1475 - mean_absolute_error: 0.3491 - categorical_accuracy: 1.0000 - val_loss: 0.1787 - val_mean_absolute_error: 0.3751 - val_categorical_accuracy: 1.0000\n",
      "Epoch 96/600\n",
      "20/20 [==============================] - 0s 3ms/step - loss: 0.1470 - mean_absolute_error: 0.3455 - categorical_accuracy: 1.0000 - val_loss: 0.1785 - val_mean_absolute_error: 0.3747 - val_categorical_accuracy: 1.0000\n",
      "Epoch 97/600\n",
      "20/20 [==============================] - 0s 4ms/step - loss: 0.1535 - mean_absolute_error: 0.3537 - categorical_accuracy: 1.0000 - val_loss: 0.1784 - val_mean_absolute_error: 0.3737 - val_categorical_accuracy: 1.0000\n",
      "Epoch 98/600\n",
      "20/20 [==============================] - 0s 4ms/step - loss: 0.1624 - mean_absolute_error: 0.3663 - categorical_accuracy: 1.0000 - val_loss: 0.1781 - val_mean_absolute_error: 0.3734 - val_categorical_accuracy: 1.0000\n",
      "Epoch 99/600\n",
      "20/20 [==============================] - 0s 4ms/step - loss: 0.1557 - mean_absolute_error: 0.3545 - categorical_accuracy: 1.0000 - val_loss: 0.1780 - val_mean_absolute_error: 0.3727 - val_categorical_accuracy: 1.0000\n",
      "Epoch 100/600\n",
      "20/20 [==============================] - 0s 4ms/step - loss: 0.1562 - mean_absolute_error: 0.3545 - categorical_accuracy: 1.0000 - val_loss: 0.1782 - val_mean_absolute_error: 0.3719 - val_categorical_accuracy: 1.0000\n",
      "Epoch 101/600\n",
      "20/20 [==============================] - 0s 4ms/step - loss: 0.1504 - mean_absolute_error: 0.3490 - categorical_accuracy: 1.0000 - val_loss: 0.1779 - val_mean_absolute_error: 0.3710 - val_categorical_accuracy: 1.0000\n",
      "Epoch 102/600\n",
      "20/20 [==============================] - 0s 4ms/step - loss: 0.1414 - mean_absolute_error: 0.3363 - categorical_accuracy: 1.0000 - val_loss: 0.1779 - val_mean_absolute_error: 0.3704 - val_categorical_accuracy: 1.0000\n",
      "Epoch 103/600\n",
      "20/20 [==============================] - 0s 4ms/step - loss: 0.1474 - mean_absolute_error: 0.3422 - categorical_accuracy: 1.0000 - val_loss: 0.1779 - val_mean_absolute_error: 0.3700 - val_categorical_accuracy: 1.0000\n",
      "Epoch 104/600\n",
      "20/20 [==============================] - 0s 4ms/step - loss: 0.1522 - mean_absolute_error: 0.3471 - categorical_accuracy: 1.0000 - val_loss: 0.1778 - val_mean_absolute_error: 0.3695 - val_categorical_accuracy: 1.0000\n",
      "Epoch 105/600\n",
      "20/20 [==============================] - 0s 4ms/step - loss: 0.1542 - mean_absolute_error: 0.3515 - categorical_accuracy: 1.0000 - val_loss: 0.1780 - val_mean_absolute_error: 0.3689 - val_categorical_accuracy: 1.0000\n",
      "Epoch 106/600\n",
      "20/20 [==============================] - 0s 4ms/step - loss: 0.1525 - mean_absolute_error: 0.3496 - categorical_accuracy: 1.0000 - val_loss: 0.1781 - val_mean_absolute_error: 0.3683 - val_categorical_accuracy: 1.0000\n",
      "Epoch 107/600\n",
      "20/20 [==============================] - 0s 4ms/step - loss: 0.1518 - mean_absolute_error: 0.3480 - categorical_accuracy: 1.0000 - val_loss: 0.1780 - val_mean_absolute_error: 0.3678 - val_categorical_accuracy: 1.0000\n",
      "Epoch 108/600\n",
      "20/20 [==============================] - 0s 4ms/step - loss: 0.1396 - mean_absolute_error: 0.3318 - categorical_accuracy: 1.0000 - val_loss: 0.1778 - val_mean_absolute_error: 0.3670 - val_categorical_accuracy: 1.0000\n",
      "Epoch 109/600\n",
      "20/20 [==============================] - 0s 4ms/step - loss: 0.1439 - mean_absolute_error: 0.3376 - categorical_accuracy: 1.0000 - val_loss: 0.1779 - val_mean_absolute_error: 0.3666 - val_categorical_accuracy: 1.0000\n",
      "Epoch 110/600\n",
      "20/20 [==============================] - 0s 4ms/step - loss: 0.1459 - mean_absolute_error: 0.3408 - categorical_accuracy: 1.0000 - val_loss: 0.1776 - val_mean_absolute_error: 0.3659 - val_categorical_accuracy: 1.0000\n",
      "Epoch 111/600\n",
      "20/20 [==============================] - 0s 3ms/step - loss: 0.1457 - mean_absolute_error: 0.3378 - categorical_accuracy: 1.0000 - val_loss: 0.1777 - val_mean_absolute_error: 0.3656 - val_categorical_accuracy: 1.0000\n",
      "Epoch 112/600\n",
      "20/20 [==============================] - 0s 4ms/step - loss: 0.1510 - mean_absolute_error: 0.3461 - categorical_accuracy: 1.0000 - val_loss: 0.1777 - val_mean_absolute_error: 0.3651 - val_categorical_accuracy: 1.0000\n",
      "Epoch 113/600\n",
      "20/20 [==============================] - 0s 4ms/step - loss: 0.1521 - mean_absolute_error: 0.3446 - categorical_accuracy: 1.0000 - val_loss: 0.1776 - val_mean_absolute_error: 0.3646 - val_categorical_accuracy: 1.0000\n",
      "Epoch 114/600\n",
      "20/20 [==============================] - 0s 4ms/step - loss: 0.1488 - mean_absolute_error: 0.3406 - categorical_accuracy: 1.0000 - val_loss: 0.1774 - val_mean_absolute_error: 0.3638 - val_categorical_accuracy: 1.0000\n",
      "Epoch 115/600\n",
      "20/20 [==============================] - 0s 4ms/step - loss: 0.1441 - mean_absolute_error: 0.3347 - categorical_accuracy: 1.0000 - val_loss: 0.1773 - val_mean_absolute_error: 0.3632 - val_categorical_accuracy: 1.0000\n",
      "Epoch 116/600\n",
      "20/20 [==============================] - 0s 4ms/step - loss: 0.1407 - mean_absolute_error: 0.3311 - categorical_accuracy: 1.0000 - val_loss: 0.1772 - val_mean_absolute_error: 0.3626 - val_categorical_accuracy: 1.0000\n",
      "Epoch 117/600\n",
      "20/20 [==============================] - 0s 4ms/step - loss: 0.1496 - mean_absolute_error: 0.3399 - categorical_accuracy: 1.0000 - val_loss: 0.1772 - val_mean_absolute_error: 0.3622 - val_categorical_accuracy: 1.0000\n",
      "Epoch 118/600\n",
      "20/20 [==============================] - 0s 4ms/step - loss: 0.1424 - mean_absolute_error: 0.3308 - categorical_accuracy: 1.0000 - val_loss: 0.1772 - val_mean_absolute_error: 0.3617 - val_categorical_accuracy: 1.0000\n",
      "Epoch 119/600\n",
      "20/20 [==============================] - 0s 4ms/step - loss: 0.1430 - mean_absolute_error: 0.3304 - categorical_accuracy: 1.0000 - val_loss: 0.1774 - val_mean_absolute_error: 0.3614 - val_categorical_accuracy: 1.0000\n",
      "Epoch 120/600\n",
      "20/20 [==============================] - 0s 4ms/step - loss: 0.1365 - mean_absolute_error: 0.3245 - categorical_accuracy: 1.0000 - val_loss: 0.1775 - val_mean_absolute_error: 0.3607 - val_categorical_accuracy: 1.0000\n",
      "Epoch 121/600\n",
      "20/20 [==============================] - 0s 4ms/step - loss: 0.1390 - mean_absolute_error: 0.3275 - categorical_accuracy: 1.0000 - val_loss: 0.1774 - val_mean_absolute_error: 0.3602 - val_categorical_accuracy: 1.0000\n",
      "Epoch 122/600\n",
      "20/20 [==============================] - 0s 4ms/step - loss: 0.1382 - mean_absolute_error: 0.3241 - categorical_accuracy: 1.0000 - val_loss: 0.1773 - val_mean_absolute_error: 0.3598 - val_categorical_accuracy: 1.0000\n",
      "Epoch 123/600\n",
      "20/20 [==============================] - 0s 3ms/step - loss: 0.1538 - mean_absolute_error: 0.3422 - categorical_accuracy: 1.0000 - val_loss: 0.1776 - val_mean_absolute_error: 0.3594 - val_categorical_accuracy: 1.0000\n",
      "Epoch 124/600\n",
      "20/20 [==============================] - 0s 3ms/step - loss: 0.1386 - mean_absolute_error: 0.3261 - categorical_accuracy: 1.0000 - val_loss: 0.1772 - val_mean_absolute_error: 0.3587 - val_categorical_accuracy: 1.0000\n",
      "Epoch 125/600\n",
      "20/20 [==============================] - 0s 4ms/step - loss: 0.1436 - mean_absolute_error: 0.3313 - categorical_accuracy: 1.0000 - val_loss: 0.1773 - val_mean_absolute_error: 0.3585 - val_categorical_accuracy: 1.0000\n",
      "Epoch 126/600\n",
      "20/20 [==============================] - 0s 4ms/step - loss: 0.1369 - mean_absolute_error: 0.3206 - categorical_accuracy: 1.0000 - val_loss: 0.1774 - val_mean_absolute_error: 0.3582 - val_categorical_accuracy: 1.0000\n",
      "Epoch 127/600\n",
      "20/20 [==============================] - 0s 4ms/step - loss: 0.1474 - mean_absolute_error: 0.3341 - categorical_accuracy: 1.0000 - val_loss: 0.1771 - val_mean_absolute_error: 0.3577 - val_categorical_accuracy: 1.0000\n",
      "Epoch 128/600\n",
      "20/20 [==============================] - 0s 4ms/step - loss: 0.1387 - mean_absolute_error: 0.3238 - categorical_accuracy: 1.0000 - val_loss: 0.1771 - val_mean_absolute_error: 0.3571 - val_categorical_accuracy: 1.0000\n",
      "Epoch 129/600\n",
      "20/20 [==============================] - 0s 4ms/step - loss: 0.1363 - mean_absolute_error: 0.3215 - categorical_accuracy: 1.0000 - val_loss: 0.1771 - val_mean_absolute_error: 0.3568 - val_categorical_accuracy: 1.0000\n",
      "Epoch 130/600\n",
      "20/20 [==============================] - 0s 4ms/step - loss: 0.1487 - mean_absolute_error: 0.3320 - categorical_accuracy: 1.0000 - val_loss: 0.1771 - val_mean_absolute_error: 0.3564 - val_categorical_accuracy: 1.0000\n",
      "Epoch 131/600\n",
      "20/20 [==============================] - 0s 4ms/step - loss: 0.1480 - mean_absolute_error: 0.3344 - categorical_accuracy: 1.0000 - val_loss: 0.1772 - val_mean_absolute_error: 0.3563 - val_categorical_accuracy: 1.0000\n",
      "Epoch 132/600\n",
      "20/20 [==============================] - 0s 4ms/step - loss: 0.1411 - mean_absolute_error: 0.3249 - categorical_accuracy: 1.0000 - val_loss: 0.1773 - val_mean_absolute_error: 0.3560 - val_categorical_accuracy: 1.0000\n",
      "Epoch 133/600\n",
      "20/20 [==============================] - 0s 4ms/step - loss: 0.1453 - mean_absolute_error: 0.3316 - categorical_accuracy: 1.0000 - val_loss: 0.1773 - val_mean_absolute_error: 0.3558 - val_categorical_accuracy: 1.0000\n",
      "Epoch 134/600\n",
      "20/20 [==============================] - 0s 4ms/step - loss: 0.1407 - mean_absolute_error: 0.3257 - categorical_accuracy: 1.0000 - val_loss: 0.1774 - val_mean_absolute_error: 0.3555 - val_categorical_accuracy: 1.0000\n",
      "Epoch 135/600\n",
      "20/20 [==============================] - 0s 4ms/step - loss: 0.1427 - mean_absolute_error: 0.3267 - categorical_accuracy: 1.0000 - val_loss: 0.1772 - val_mean_absolute_error: 0.3555 - val_categorical_accuracy: 1.0000\n",
      "Epoch 136/600\n",
      "20/20 [==============================] - 0s 4ms/step - loss: 0.1448 - mean_absolute_error: 0.3291 - categorical_accuracy: 1.0000 - val_loss: 0.1771 - val_mean_absolute_error: 0.3549 - val_categorical_accuracy: 1.0000\n",
      "Epoch 137/600\n",
      "20/20 [==============================] - 0s 4ms/step - loss: 0.1397 - mean_absolute_error: 0.3217 - categorical_accuracy: 1.0000 - val_loss: 0.1770 - val_mean_absolute_error: 0.3545 - val_categorical_accuracy: 1.0000\n",
      "Epoch 138/600\n",
      "20/20 [==============================] - 0s 4ms/step - loss: 0.1426 - mean_absolute_error: 0.3230 - categorical_accuracy: 1.0000 - val_loss: 0.1770 - val_mean_absolute_error: 0.3541 - val_categorical_accuracy: 1.0000\n",
      "Epoch 139/600\n",
      "20/20 [==============================] - 0s 4ms/step - loss: 0.1413 - mean_absolute_error: 0.3227 - categorical_accuracy: 1.0000 - val_loss: 0.1770 - val_mean_absolute_error: 0.3533 - val_categorical_accuracy: 1.0000\n",
      "Epoch 140/600\n",
      "20/20 [==============================] - 0s 4ms/step - loss: 0.1342 - mean_absolute_error: 0.3140 - categorical_accuracy: 1.0000 - val_loss: 0.1772 - val_mean_absolute_error: 0.3531 - val_categorical_accuracy: 1.0000\n",
      "Epoch 141/600\n",
      "20/20 [==============================] - 0s 5ms/step - loss: 0.1553 - mean_absolute_error: 0.3393 - categorical_accuracy: 1.0000 - val_loss: 0.1771 - val_mean_absolute_error: 0.3528 - val_categorical_accuracy: 1.0000\n",
      "Epoch 142/600\n",
      "20/20 [==============================] - 0s 4ms/step - loss: 0.1320 - mean_absolute_error: 0.3104 - categorical_accuracy: 1.0000 - val_loss: 0.1771 - val_mean_absolute_error: 0.3523 - val_categorical_accuracy: 1.0000\n",
      "Epoch 143/600\n",
      "20/20 [==============================] - 0s 4ms/step - loss: 0.1411 - mean_absolute_error: 0.3191 - categorical_accuracy: 1.0000 - val_loss: 0.1771 - val_mean_absolute_error: 0.3520 - val_categorical_accuracy: 1.0000\n",
      "Epoch 144/600\n",
      "20/20 [==============================] - 0s 4ms/step - loss: 0.1343 - mean_absolute_error: 0.3124 - categorical_accuracy: 1.0000 - val_loss: 0.1771 - val_mean_absolute_error: 0.3514 - val_categorical_accuracy: 1.0000\n",
      "Epoch 145/600\n",
      "20/20 [==============================] - 0s 4ms/step - loss: 0.1386 - mean_absolute_error: 0.3192 - categorical_accuracy: 1.0000 - val_loss: 0.1770 - val_mean_absolute_error: 0.3514 - val_categorical_accuracy: 1.0000\n",
      "Epoch 146/600\n",
      "20/20 [==============================] - 0s 4ms/step - loss: 0.1384 - mean_absolute_error: 0.3179 - categorical_accuracy: 1.0000 - val_loss: 0.1770 - val_mean_absolute_error: 0.3508 - val_categorical_accuracy: 1.0000\n",
      "Epoch 147/600\n",
      "20/20 [==============================] - 0s 4ms/step - loss: 0.1402 - mean_absolute_error: 0.3190 - categorical_accuracy: 1.0000 - val_loss: 0.1768 - val_mean_absolute_error: 0.3508 - val_categorical_accuracy: 1.0000\n",
      "Epoch 148/600\n",
      "20/20 [==============================] - 0s 4ms/step - loss: 0.1396 - mean_absolute_error: 0.3170 - categorical_accuracy: 1.0000 - val_loss: 0.1770 - val_mean_absolute_error: 0.3504 - val_categorical_accuracy: 1.0000\n",
      "Epoch 149/600\n",
      "20/20 [==============================] - 0s 4ms/step - loss: 0.1458 - mean_absolute_error: 0.3254 - categorical_accuracy: 1.0000 - val_loss: 0.1769 - val_mean_absolute_error: 0.3502 - val_categorical_accuracy: 1.0000\n",
      "Epoch 150/600\n",
      "20/20 [==============================] - 0s 4ms/step - loss: 0.1346 - mean_absolute_error: 0.3124 - categorical_accuracy: 1.0000 - val_loss: 0.1772 - val_mean_absolute_error: 0.3500 - val_categorical_accuracy: 1.0000\n",
      "Epoch 151/600\n",
      "20/20 [==============================] - 0s 5ms/step - loss: 0.1310 - mean_absolute_error: 0.3077 - categorical_accuracy: 1.0000 - val_loss: 0.1771 - val_mean_absolute_error: 0.3498 - val_categorical_accuracy: 1.0000\n",
      "Epoch 152/600\n",
      "20/20 [==============================] - 0s 4ms/step - loss: 0.1402 - mean_absolute_error: 0.3211 - categorical_accuracy: 1.0000 - val_loss: 0.1769 - val_mean_absolute_error: 0.3495 - val_categorical_accuracy: 1.0000\n",
      "Epoch 153/600\n",
      "20/20 [==============================] - 0s 4ms/step - loss: 0.1336 - mean_absolute_error: 0.3087 - categorical_accuracy: 1.0000 - val_loss: 0.1771 - val_mean_absolute_error: 0.3495 - val_categorical_accuracy: 1.0000\n",
      "Epoch 154/600\n",
      "20/20 [==============================] - 0s 4ms/step - loss: 0.1369 - mean_absolute_error: 0.3162 - categorical_accuracy: 1.0000 - val_loss: 0.1771 - val_mean_absolute_error: 0.3485 - val_categorical_accuracy: 1.0000\n",
      "Epoch 155/600\n",
      "20/20 [==============================] - 0s 4ms/step - loss: 0.1289 - mean_absolute_error: 0.3031 - categorical_accuracy: 1.0000 - val_loss: 0.1772 - val_mean_absolute_error: 0.3483 - val_categorical_accuracy: 1.0000\n",
      "Epoch 156/600\n",
      "20/20 [==============================] - 0s 5ms/step - loss: 0.1403 - mean_absolute_error: 0.3173 - categorical_accuracy: 1.0000 - val_loss: 0.1773 - val_mean_absolute_error: 0.3478 - val_categorical_accuracy: 1.0000\n",
      "Epoch 157/600\n",
      "20/20 [==============================] - 0s 4ms/step - loss: 0.1251 - mean_absolute_error: 0.2998 - categorical_accuracy: 1.0000 - val_loss: 0.1775 - val_mean_absolute_error: 0.3475 - val_categorical_accuracy: 1.0000\n",
      "Epoch 158/600\n",
      "20/20 [==============================] - 0s 4ms/step - loss: 0.1295 - mean_absolute_error: 0.3043 - categorical_accuracy: 1.0000 - val_loss: 0.1775 - val_mean_absolute_error: 0.3471 - val_categorical_accuracy: 1.0000\n",
      "Epoch 159/600\n",
      "20/20 [==============================] - 0s 4ms/step - loss: 0.1363 - mean_absolute_error: 0.3125 - categorical_accuracy: 1.0000 - val_loss: 0.1776 - val_mean_absolute_error: 0.3470 - val_categorical_accuracy: 1.0000\n",
      "Epoch 160/600\n",
      "20/20 [==============================] - 0s 4ms/step - loss: 0.1431 - mean_absolute_error: 0.3220 - categorical_accuracy: 1.0000 - val_loss: 0.1771 - val_mean_absolute_error: 0.3465 - val_categorical_accuracy: 1.0000\n",
      "Epoch 161/600\n",
      "20/20 [==============================] - 0s 4ms/step - loss: 0.1373 - mean_absolute_error: 0.3094 - categorical_accuracy: 1.0000 - val_loss: 0.1772 - val_mean_absolute_error: 0.3462 - val_categorical_accuracy: 1.0000\n",
      "Epoch 162/600\n",
      "20/20 [==============================] - 0s 4ms/step - loss: 0.1372 - mean_absolute_error: 0.3117 - categorical_accuracy: 1.0000 - val_loss: 0.1770 - val_mean_absolute_error: 0.3456 - val_categorical_accuracy: 1.0000\n",
      "Epoch 163/600\n",
      "20/20 [==============================] - 0s 3ms/step - loss: 0.1368 - mean_absolute_error: 0.3117 - categorical_accuracy: 1.0000 - val_loss: 0.1772 - val_mean_absolute_error: 0.3460 - val_categorical_accuracy: 1.0000\n",
      "Epoch 164/600\n",
      "20/20 [==============================] - 0s 3ms/step - loss: 0.1434 - mean_absolute_error: 0.3175 - categorical_accuracy: 1.0000 - val_loss: 0.1773 - val_mean_absolute_error: 0.3454 - val_categorical_accuracy: 1.0000\n",
      "Epoch 165/600\n",
      "20/20 [==============================] - 0s 4ms/step - loss: 0.1363 - mean_absolute_error: 0.3090 - categorical_accuracy: 1.0000 - val_loss: 0.1772 - val_mean_absolute_error: 0.3454 - val_categorical_accuracy: 1.0000\n",
      "Epoch 166/600\n",
      "20/20 [==============================] - 0s 4ms/step - loss: 0.1487 - mean_absolute_error: 0.3242 - categorical_accuracy: 1.0000 - val_loss: 0.1772 - val_mean_absolute_error: 0.3450 - val_categorical_accuracy: 1.0000\n",
      "Epoch 167/600\n",
      "20/20 [==============================] - 0s 4ms/step - loss: 0.1456 - mean_absolute_error: 0.3183 - categorical_accuracy: 1.0000 - val_loss: 0.1773 - val_mean_absolute_error: 0.3447 - val_categorical_accuracy: 1.0000\n",
      "Epoch 168/600\n",
      "20/20 [==============================] - 0s 4ms/step - loss: 0.1420 - mean_absolute_error: 0.3154 - categorical_accuracy: 1.0000 - val_loss: 0.1772 - val_mean_absolute_error: 0.3448 - val_categorical_accuracy: 1.0000\n",
      "Epoch 169/600\n",
      "20/20 [==============================] - 0s 4ms/step - loss: 0.1373 - mean_absolute_error: 0.3098 - categorical_accuracy: 1.0000 - val_loss: 0.1772 - val_mean_absolute_error: 0.3444 - val_categorical_accuracy: 1.0000\n",
      "Epoch 170/600\n",
      "20/20 [==============================] - 0s 4ms/step - loss: 0.1402 - mean_absolute_error: 0.3145 - categorical_accuracy: 1.0000 - val_loss: 0.1776 - val_mean_absolute_error: 0.3449 - val_categorical_accuracy: 1.0000\n",
      "Epoch 171/600\n",
      "20/20 [==============================] - 0s 4ms/step - loss: 0.1332 - mean_absolute_error: 0.3027 - categorical_accuracy: 1.0000 - val_loss: 0.1776 - val_mean_absolute_error: 0.3445 - val_categorical_accuracy: 1.0000\n",
      "Epoch 172/600\n",
      "20/20 [==============================] - 0s 4ms/step - loss: 0.1449 - mean_absolute_error: 0.3189 - categorical_accuracy: 1.0000 - val_loss: 0.1774 - val_mean_absolute_error: 0.3436 - val_categorical_accuracy: 1.0000\n",
      "Epoch 00172: early stopping\n"
     ]
    },
    {
     "data": {
      "text/plain": [
       "<tensorflow.python.keras.callbacks.History at 0x1aec47f8a90>"
      ]
     },
     "execution_count": 499,
     "metadata": {},
     "output_type": "execute_result"
    }
   ],
   "source": [
    "model.fit(x=X_train,y=Y_train,epochs=600,validation_data=(X_test,Y_test),\n",
    "         callbacks=[early_stop])"
   ]
  },
  {
   "cell_type": "code",
   "execution_count": 500,
   "metadata": {},
   "outputs": [],
   "source": [
    "losses=pd.DataFrame(model.history.history)"
   ]
  },
  {
   "cell_type": "code",
   "execution_count": 501,
   "metadata": {},
   "outputs": [
    {
     "data": {
      "text/plain": [
       "<AxesSubplot:>"
      ]
     },
     "execution_count": 501,
     "metadata": {},
     "output_type": "execute_result"
    },
    {
     "data": {
      "image/png": "[encoded data removed]",
      "text/plain": [
       "<Figure size 432x288 with 1 Axes>"
      ]
     },
     "metadata": {
      "needs_background": "light"
     },
     "output_type": "display_data"
    }
   ],
   "source": [
    "losses.plot()"
   ]
  },
  {
   "cell_type": "code",
   "execution_count": 502,
   "metadata": {},
   "outputs": [
    {
     "name": "stdout",
     "output_type": "stream",
     "text": [
      "0.17744081047106067\n"
     ]
    }
   ],
   "source": [
    "from sklearn.metrics import mean_squared_error\n",
    "predictions=model.predict(X_test)\n",
    "print(mean_squared_error(Y_test,predictions ))"
   ]
  },
  {
   "cell_type": "code",
   "execution_count": null,
   "metadata": {},
   "outputs": [],
   "source": []
  },
  {
   "cell_type": "markdown",
   "metadata": {},
   "source": [
    "# Random Forest Classifier"
   ]
  },
  {
   "cell_type": "code",
   "execution_count": 503,
   "metadata": {},
   "outputs": [
    {
     "data": {
      "text/plain": [
       "RandomForestClassifier(n_estimators=1000)"
      ]
     },
     "execution_count": 503,
     "metadata": {},
     "output_type": "execute_result"
    }
   ],
   "source": [
    "from sklearn.ensemble import RandomForestClassifier\n",
    "model = RandomForestClassifier(n_estimators=1000)\n",
    "model.fit(X_train, Y_train)"
   ]
  },
  {
   "cell_type": "code",
   "execution_count": 506,
   "metadata": {},
   "outputs": [],
   "source": [
    "Y_pred=model.predict(X_test)"
   ]
  },
  {
   "cell_type": "code",
   "execution_count": 507,
   "metadata": {},
   "outputs": [
    {
     "data": {
      "text/plain": [
       "0.7662337662337663"
      ]
     },
     "execution_count": 507,
     "metadata": {},
     "output_type": "execute_result"
    }
   ],
   "source": [
    "accuracy_score(Y_test,Y_pred)"
   ]
  },
  {
   "cell_type": "code",
   "execution_count": 508,
   "metadata": {},
   "outputs": [
    {
     "name": "stdout",
     "output_type": "stream",
     "text": [
      "0.23376623376623376\n"
     ]
    }
   ],
   "source": [
    "print(mean_squared_error(Y_test, Y_pred))"
   ]
  },
  {
   "cell_type": "markdown",
   "metadata": {},
   "source": [
    "# Gradient Boosting Classifier"
   ]
  },
  {
   "cell_type": "code",
   "execution_count": 528,
   "metadata": {},
   "outputs": [
    {
     "data": {
      "text/plain": [
       "0.7727272727272727"
      ]
     },
     "execution_count": 528,
     "metadata": {},
     "output_type": "execute_result"
    }
   ],
   "source": [
    "from sklearn.ensemble import GradientBoostingClassifier\n",
    "\n",
    "model = GradientBoostingClassifier()\n",
    "\n",
    "#fiting the model\n",
    "model.fit(X_train, Y_train)\n",
    "\n",
    "#prediction\n",
    "y_pred = model.predict(X_test)\n",
    "\n",
    "#Accuracy\n",
    "accuracy_score(Y_test,y_pred)"
   ]
  },
  {
   "cell_type": "code",
   "execution_count": 529,
   "metadata": {},
   "outputs": [
    {
     "name": "stdout",
     "output_type": "stream",
     "text": [
      "0.17572843574671712\n"
     ]
    }
   ],
   "source": [
    "print(mean_squared_error(Y_test, Y_pred))"
   ]
  },
  {
   "cell_type": "code",
   "execution_count": null,
   "metadata": {},
   "outputs": [],
   "source": []
  },
  {
   "cell_type": "markdown",
   "metadata": {},
   "source": [
    "# XGBClassifier"
   ]
  },
  {
   "cell_type": "code",
   "execution_count": 532,
   "metadata": {},
   "outputs": [
    {
     "name": "stderr",
     "output_type": "stream",
     "text": [
      "C:\\Users\\Rahul Airan\\anaconda3\\lib\\site-packages\\xgboost\\sklearn.py:1146: UserWarning: The use of label encoder in XGBClassifier is deprecated and will be removed in a future release. To remove this warning, do the following: 1) Pass option use_label_encoder=False when constructing XGBClassifier object; and 2) Encode your labels (y) as integers starting with 0, i.e. 0, 1, 2, ..., [num_class - 1].\n",
      "  warnings.warn(label_encoder_deprecation_msg, UserWarning)\n",
      "C:\\Users\\Rahul Airan\\anaconda3\\lib\\site-packages\\xgboost\\data.py:112: UserWarning: Use subset (sliced data) of np.ndarray is not recommended because it will generate extra copies and increase memory consumption\n",
      "  warnings.warn(\n"
     ]
    },
    {
     "name": "stdout",
     "output_type": "stream",
     "text": [
      "[01:07:35] WARNING: C:/Users/Administrator/workspace/xgboost-win64_release_1.4.0/src/learner.cc:1095: Starting in XGBoost 1.3.0, the default evaluation metric used with the objective 'binary:logistic' was changed from 'error' to 'logloss'. Explicitly set eval_metric if you'd like to restore the old behavior.\n"
     ]
    },
    {
     "data": {
      "text/plain": [
       "0.74026"
      ]
     },
     "execution_count": 532,
     "metadata": {},
     "output_type": "execute_result"
    }
   ],
   "source": [
    "#!pip install xgboost\n",
    "from xgboost import XGBClassifier\n",
    "model = XGBClassifier()\n",
    "model.fit(X_train, Y_train)\n",
    "y_pred = model.predict(X_test)\n",
    "predictions = [round(value) for value in y_pred]\n",
    "accuracy = round(accuracy_score(Y_test, predictions),5)\n",
    "accuracy"
   ]
  },
  {
   "cell_type": "code",
   "execution_count": null,
   "metadata": {},
   "outputs": [],
   "source": []
  },
  {
   "cell_type": "code",
   "execution_count": 544,
   "metadata": {},
   "outputs": [],
   "source": []
  },
  {
   "cell_type": "markdown",
   "metadata": {},
   "source": [
    "# KNeighbourClassifier"
   ]
  },
  {
   "cell_type": "code",
   "execution_count": 541,
   "metadata": {},
   "outputs": [
    {
     "name": "stdout",
     "output_type": "stream",
     "text": [
      "Accuracy is 0.7207792207792207\n"
     ]
    }
   ],
   "source": [
    "from sklearn.metrics import accuracy_score\n",
    "from sklearn.neighbors  import KNeighborsClassifier\n",
    "\n",
    "knn = KNeighborsClassifier(n_neighbors=8)\n",
    "clf_ = knn.fit(X_train, Y_train)\n",
    "y_pred = clf_.predict(X_test)\n",
    "print('Accuracy is {}'.format(accuracy_score(Y_test,y_pred )))"
   ]
  },
  {
   "cell_type": "code",
   "execution_count": null,
   "metadata": {},
   "outputs": [],
   "source": []
  },
  {
   "cell_type": "code",
   "execution_count": null,
   "metadata": {},
   "outputs": [],
   "source": []
  },
  {
   "cell_type": "code",
   "execution_count": null,
   "metadata": {},
   "outputs": [],
   "source": []
  },
  {
   "cell_type": "code",
   "execution_count": null,
   "metadata": {},
   "outputs": [],
   "source": []
  }
 ],
 "metadata": {
  "kernelspec": {
   "display_name": "Python 3",
   "language": "python",
   "name": "python3"
  },
  "language_info": {
   "codemirror_mode": {
    "name": "ipython",
    "version": 3
   },
   "file_extension": ".py",
   "mimetype": "text/x-python",
   "name": "python",
   "nbconvert_exporter": "python",
   "pygments_lexer": "ipython3",
   "version": "3.8.5"
  }
 },
 "nbformat": 4,
 "nbformat_minor": 2
}
