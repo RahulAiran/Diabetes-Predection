{
 "cells": [
  {
   "cell_type": "code",
   "execution_count": 1,
   "metadata": {},
   "outputs": [],
   "source": [
    "import pandas as pd\n",
    "import matplotlib.pyplot as plt\n",
    "import seaborn as sns\n",
    "import numpy as np"
   ]
  },
  {
   "cell_type": "code",
   "execution_count": 2,
   "metadata": {},
   "outputs": [],
   "source": [
    "df=pd.read_csv(r'C:\\Users\\Rahul Airan\\Desktop\\Skill Development\\Project\\Diabetes-Prediction-using-AI\\diabetes.csv')"
   ]
  },
  {
   "cell_type": "code",
   "execution_count": 3,
   "metadata": {},
   "outputs": [
    {
     "data": {
      "text/html": [
       "<div>\n",
       "<style scoped>\n",
       "    .dataframe tbody tr th:only-of-type {\n",
       "        vertical-align: middle;\n",
       "    }\n",
       "\n",
       "    .dataframe tbody tr th {\n",
       "        vertical-align: top;\n",
       "    }\n",
       "\n",
       "    .dataframe thead th {\n",
       "        text-align: right;\n",
       "    }\n",
       "</style>\n",
       "<table border=\"1\" class=\"dataframe\">\n",
       "  <thead>\n",
       "    <tr style=\"text-align: right;\">\n",
       "      <th></th>\n",
       "      <th>Pregnancies</th>\n",
       "      <th>Glucose</th>\n",
       "      <th>BloodPressure</th>\n",
       "      <th>SkinThickness</th>\n",
       "      <th>Insulin</th>\n",
       "      <th>BMI</th>\n",
       "      <th>DiabetesPedigreeFunction</th>\n",
       "      <th>Age</th>\n",
       "      <th>Outcome</th>\n",
       "    </tr>\n",
       "  </thead>\n",
       "  <tbody>\n",
       "    <tr>\n",
       "      <th>0</th>\n",
       "      <td>6</td>\n",
       "      <td>148</td>\n",
       "      <td>72</td>\n",
       "      <td>35</td>\n",
       "      <td>0</td>\n",
       "      <td>33.6</td>\n",
       "      <td>0.627</td>\n",
       "      <td>50</td>\n",
       "      <td>1</td>\n",
       "    </tr>\n",
       "    <tr>\n",
       "      <th>1</th>\n",
       "      <td>1</td>\n",
       "      <td>85</td>\n",
       "      <td>66</td>\n",
       "      <td>29</td>\n",
       "      <td>0</td>\n",
       "      <td>26.6</td>\n",
       "      <td>0.351</td>\n",
       "      <td>31</td>\n",
       "      <td>0</td>\n",
       "    </tr>\n",
       "    <tr>\n",
       "      <th>2</th>\n",
       "      <td>8</td>\n",
       "      <td>183</td>\n",
       "      <td>64</td>\n",
       "      <td>0</td>\n",
       "      <td>0</td>\n",
       "      <td>23.3</td>\n",
       "      <td>0.672</td>\n",
       "      <td>32</td>\n",
       "      <td>1</td>\n",
       "    </tr>\n",
       "    <tr>\n",
       "      <th>3</th>\n",
       "      <td>1</td>\n",
       "      <td>89</td>\n",
       "      <td>66</td>\n",
       "      <td>23</td>\n",
       "      <td>94</td>\n",
       "      <td>28.1</td>\n",
       "      <td>0.167</td>\n",
       "      <td>21</td>\n",
       "      <td>0</td>\n",
       "    </tr>\n",
       "    <tr>\n",
       "      <th>4</th>\n",
       "      <td>0</td>\n",
       "      <td>137</td>\n",
       "      <td>40</td>\n",
       "      <td>35</td>\n",
       "      <td>168</td>\n",
       "      <td>43.1</td>\n",
       "      <td>2.288</td>\n",
       "      <td>33</td>\n",
       "      <td>1</td>\n",
       "    </tr>\n",
       "  </tbody>\n",
       "</table>\n",
       "</div>"
      ],
      "text/plain": [
       "   Pregnancies  Glucose  BloodPressure  SkinThickness  Insulin   BMI  \\\n",
       "0            6      148             72             35        0  33.6   \n",
       "1            1       85             66             29        0  26.6   \n",
       "2            8      183             64              0        0  23.3   \n",
       "3            1       89             66             23       94  28.1   \n",
       "4            0      137             40             35      168  43.1   \n",
       "\n",
       "   DiabetesPedigreeFunction  Age  Outcome  \n",
       "0                     0.627   50        1  \n",
       "1                     0.351   31        0  \n",
       "2                     0.672   32        1  \n",
       "3                     0.167   21        0  \n",
       "4                     2.288   33        1  "
      ]
     },
     "execution_count": 3,
     "metadata": {},
     "output_type": "execute_result"
    }
   ],
   "source": [
    "# Show first five observations\n",
    "df.head()"
   ]
  },
  {
   "cell_type": "markdown",
   "metadata": {},
   "source": [
    "# Exploratory Data Analysis"
   ]
  },
  {
   "cell_type": "code",
   "execution_count": 4,
   "metadata": {},
   "outputs": [
    {
     "data": {
      "text/plain": [
       "(768, 9)"
      ]
     },
     "execution_count": 4,
     "metadata": {},
     "output_type": "execute_result"
    }
   ],
   "source": [
    "# Returning dimensions of dataframe\n",
    "df.shape"
   ]
  },
  {
   "cell_type": "code",
   "execution_count": 5,
   "metadata": {},
   "outputs": [
    {
     "name": "stdout",
     "output_type": "stream",
     "text": [
      "<class 'pandas.core.frame.DataFrame'>\n",
      "RangeIndex: 768 entries, 0 to 767\n",
      "Data columns (total 9 columns):\n",
      " #   Column                    Non-Null Count  Dtype  \n",
      "---  ------                    --------------  -----  \n",
      " 0   Pregnancies               768 non-null    int64  \n",
      " 1   Glucose                   768 non-null    int64  \n",
      " 2   BloodPressure             768 non-null    int64  \n",
      " 3   SkinThickness             768 non-null    int64  \n",
      " 4   Insulin                   768 non-null    int64  \n",
      " 5   BMI                       768 non-null    float64\n",
      " 6   DiabetesPedigreeFunction  768 non-null    float64\n",
      " 7   Age                       768 non-null    int64  \n",
      " 8   Outcome                   768 non-null    int64  \n",
      "dtypes: float64(2), int64(7)\n",
      "memory usage: 54.1 KB\n"
     ]
    }
   ],
   "source": [
    "# Get Summary of Dataframe \n",
    "df.info()"
   ]
  },
  {
   "cell_type": "code",
   "execution_count": 6,
   "metadata": {},
   "outputs": [
    {
     "data": {
      "text/plain": [
       "Pregnancies                 0\n",
       "Glucose                     0\n",
       "BloodPressure               0\n",
       "SkinThickness               0\n",
       "Insulin                     0\n",
       "BMI                         0\n",
       "DiabetesPedigreeFunction    0\n",
       "Age                         0\n",
       "Outcome                     0\n",
       "dtype: int64"
      ]
     },
     "execution_count": 6,
     "metadata": {},
     "output_type": "execute_result"
    }
   ],
   "source": [
    "# Returning no. of missing values in each column\n",
    "df.isnull().sum()"
   ]
  },
  {
   "cell_type": "code",
   "execution_count": 7,
   "metadata": {},
   "outputs": [
    {
     "data": {
      "text/html": [
       "<div>\n",
       "<style scoped>\n",
       "    .dataframe tbody tr th:only-of-type {\n",
       "        vertical-align: middle;\n",
       "    }\n",
       "\n",
       "    .dataframe tbody tr th {\n",
       "        vertical-align: top;\n",
       "    }\n",
       "\n",
       "    .dataframe thead th {\n",
       "        text-align: right;\n",
       "    }\n",
       "</style>\n",
       "<table border=\"1\" class=\"dataframe\">\n",
       "  <thead>\n",
       "    <tr style=\"text-align: right;\">\n",
       "      <th></th>\n",
       "      <th>Pregnancies</th>\n",
       "      <th>Glucose</th>\n",
       "      <th>BloodPressure</th>\n",
       "      <th>SkinThickness</th>\n",
       "      <th>Insulin</th>\n",
       "      <th>BMI</th>\n",
       "      <th>DiabetesPedigreeFunction</th>\n",
       "      <th>Age</th>\n",
       "      <th>Outcome</th>\n",
       "    </tr>\n",
       "  </thead>\n",
       "  <tbody>\n",
       "    <tr>\n",
       "      <th>count</th>\n",
       "      <td>768.000000</td>\n",
       "      <td>768.000000</td>\n",
       "      <td>768.000000</td>\n",
       "      <td>768.000000</td>\n",
       "      <td>768.000000</td>\n",
       "      <td>768.000000</td>\n",
       "      <td>768.000000</td>\n",
       "      <td>768.000000</td>\n",
       "      <td>768.000000</td>\n",
       "    </tr>\n",
       "    <tr>\n",
       "      <th>mean</th>\n",
       "      <td>3.845052</td>\n",
       "      <td>120.894531</td>\n",
       "      <td>69.105469</td>\n",
       "      <td>20.536458</td>\n",
       "      <td>79.799479</td>\n",
       "      <td>31.992578</td>\n",
       "      <td>0.471876</td>\n",
       "      <td>33.240885</td>\n",
       "      <td>0.348958</td>\n",
       "    </tr>\n",
       "    <tr>\n",
       "      <th>std</th>\n",
       "      <td>3.369578</td>\n",
       "      <td>31.972618</td>\n",
       "      <td>19.355807</td>\n",
       "      <td>15.952218</td>\n",
       "      <td>115.244002</td>\n",
       "      <td>7.884160</td>\n",
       "      <td>0.331329</td>\n",
       "      <td>11.760232</td>\n",
       "      <td>0.476951</td>\n",
       "    </tr>\n",
       "    <tr>\n",
       "      <th>min</th>\n",
       "      <td>0.000000</td>\n",
       "      <td>0.000000</td>\n",
       "      <td>0.000000</td>\n",
       "      <td>0.000000</td>\n",
       "      <td>0.000000</td>\n",
       "      <td>0.000000</td>\n",
       "      <td>0.078000</td>\n",
       "      <td>21.000000</td>\n",
       "      <td>0.000000</td>\n",
       "    </tr>\n",
       "    <tr>\n",
       "      <th>25%</th>\n",
       "      <td>1.000000</td>\n",
       "      <td>99.000000</td>\n",
       "      <td>62.000000</td>\n",
       "      <td>0.000000</td>\n",
       "      <td>0.000000</td>\n",
       "      <td>27.300000</td>\n",
       "      <td>0.243750</td>\n",
       "      <td>24.000000</td>\n",
       "      <td>0.000000</td>\n",
       "    </tr>\n",
       "    <tr>\n",
       "      <th>50%</th>\n",
       "      <td>3.000000</td>\n",
       "      <td>117.000000</td>\n",
       "      <td>72.000000</td>\n",
       "      <td>23.000000</td>\n",
       "      <td>30.500000</td>\n",
       "      <td>32.000000</td>\n",
       "      <td>0.372500</td>\n",
       "      <td>29.000000</td>\n",
       "      <td>0.000000</td>\n",
       "    </tr>\n",
       "    <tr>\n",
       "      <th>75%</th>\n",
       "      <td>6.000000</td>\n",
       "      <td>140.250000</td>\n",
       "      <td>80.000000</td>\n",
       "      <td>32.000000</td>\n",
       "      <td>127.250000</td>\n",
       "      <td>36.600000</td>\n",
       "      <td>0.626250</td>\n",
       "      <td>41.000000</td>\n",
       "      <td>1.000000</td>\n",
       "    </tr>\n",
       "    <tr>\n",
       "      <th>max</th>\n",
       "      <td>17.000000</td>\n",
       "      <td>199.000000</td>\n",
       "      <td>122.000000</td>\n",
       "      <td>99.000000</td>\n",
       "      <td>846.000000</td>\n",
       "      <td>67.100000</td>\n",
       "      <td>2.420000</td>\n",
       "      <td>81.000000</td>\n",
       "      <td>1.000000</td>\n",
       "    </tr>\n",
       "  </tbody>\n",
       "</table>\n",
       "</div>"
      ],
      "text/plain": [
       "       Pregnancies     Glucose  BloodPressure  SkinThickness     Insulin  \\\n",
       "count   768.000000  768.000000     768.000000     768.000000  768.000000   \n",
       "mean      3.845052  120.894531      69.105469      20.536458   79.799479   \n",
       "std       3.369578   31.972618      19.355807      15.952218  115.244002   \n",
       "min       0.000000    0.000000       0.000000       0.000000    0.000000   \n",
       "25%       1.000000   99.000000      62.000000       0.000000    0.000000   \n",
       "50%       3.000000  117.000000      72.000000      23.000000   30.500000   \n",
       "75%       6.000000  140.250000      80.000000      32.000000  127.250000   \n",
       "max      17.000000  199.000000     122.000000      99.000000  846.000000   \n",
       "\n",
       "              BMI  DiabetesPedigreeFunction         Age     Outcome  \n",
       "count  768.000000                768.000000  768.000000  768.000000  \n",
       "mean    31.992578                  0.471876   33.240885    0.348958  \n",
       "std      7.884160                  0.331329   11.760232    0.476951  \n",
       "min      0.000000                  0.078000   21.000000    0.000000  \n",
       "25%     27.300000                  0.243750   24.000000    0.000000  \n",
       "50%     32.000000                  0.372500   29.000000    0.000000  \n",
       "75%     36.600000                  0.626250   41.000000    1.000000  \n",
       "max     67.100000                  2.420000   81.000000    1.000000  "
      ]
     },
     "execution_count": 7,
     "metadata": {},
     "output_type": "execute_result"
    }
   ],
   "source": [
    "# Get Statistics of Data\n",
    "df.describe()"
   ]
  },
  {
   "cell_type": "code",
   "execution_count": 8,
   "metadata": {},
   "outputs": [
    {
     "data": {
      "text/plain": [
       "0    500\n",
       "1    268\n",
       "Name: Outcome, dtype: int64"
      ]
     },
     "execution_count": 8,
     "metadata": {},
     "output_type": "execute_result"
    }
   ],
   "source": [
    "df['Outcome'].value_counts()"
   ]
  },
  {
   "cell_type": "code",
   "execution_count": 9,
   "metadata": {},
   "outputs": [
    {
     "data": {
      "text/plain": [
       "<AxesSubplot:xlabel='Outcome', ylabel='count'>"
      ]
     },
     "execution_count": 9,
     "metadata": {},
     "output_type": "execute_result"
    },
    {
     "data": {
      "image/png": "[encoded data removed]",
      "text/plain": [
       "<Figure size 432x288 with 1 Axes>"
      ]
     },
     "metadata": {
      "needs_background": "light"
     },
     "output_type": "display_data"
    }
   ],
   "source": [
    "sns.countplot(x='Outcome',data=df)"
   ]
  },
  {
   "cell_type": "code",
   "execution_count": 10,
   "metadata": {},
   "outputs": [
    {
     "data": {
      "text/plain": [
       "<AxesSubplot:>"
      ]
     },
     "execution_count": 10,
     "metadata": {},
     "output_type": "execute_result"
    },
    {
     "data": {
      "image/png": "[encoded data removed]",
      "text/plain": [
       "<Figure size 432x288 with 2 Axes>"
      ]
     },
     "metadata": {
      "needs_background": "light"
     },
     "output_type": "display_data"
    }
   ],
   "source": [
    "plt.figure(figsize=(6,4))\n",
    "sns.heatmap(df.corr(),cmap='Blues')"
   ]
  },
  {
   "cell_type": "code",
   "execution_count": 11,
   "metadata": {},
   "outputs": [
    {
     "data": {
      "text/plain": [
       "<AxesSubplot:>"
      ]
     },
     "execution_count": 11,
     "metadata": {},
     "output_type": "execute_result"
    },
    {
     "data": {
      "image/png": "[encoded data removed]",
      "text/plain": [
       "<Figure size 720x432 with 2 Axes>"
      ]
     },
     "metadata": {
      "needs_background": "light"
     },
     "output_type": "display_data"
    }
   ],
   "source": [
    "#Outcome Correlation Matrix\n",
    "k = 9 #number of variables for heatmap\n",
    "cols = df.corr().nlargest(k, 'Outcome')['Outcome'].index\n",
    "cm = df[cols].corr()\n",
    "plt.figure(figsize=(10,6))\n",
    "sns.heatmap(cm, annot=True, cmap = 'viridis')"
   ]
  },
  {
   "cell_type": "code",
   "execution_count": 12,
   "metadata": {},
   "outputs": [
    {
     "data": {
      "image/png": "[encoded data removed]",
      "text/plain": [
       "<Figure size 936x360 with 1 Axes>"
      ]
     },
     "metadata": {
      "needs_background": "light"
     },
     "output_type": "display_data"
    }
   ],
   "source": [
    "plt.figure(figsize=(13,5))\n",
    "sns.boxplot(data=df,orient='h')\n",
    "plt.show()"
   ]
  },
  {
   "cell_type": "code",
   "execution_count": 13,
   "metadata": {
    "scrolled": true
   },
   "outputs": [
    {
     "data": {
      "image/png": "[encoded data removed]",
      "text/plain": [
       "<Figure size 432x288 with 1 Axes>"
      ]
     },
     "metadata": {
      "needs_background": "light"
     },
     "output_type": "display_data"
    }
   ],
   "source": [
    "sns.scatterplot(x=df['Insulin'],y=df['Outcome']) #Valid Outlier\n",
    "plt.show()"
   ]
  },
  {
   "cell_type": "code",
   "execution_count": 14,
   "metadata": {
    "scrolled": false
   },
   "outputs": [
    {
     "name": "stderr",
     "output_type": "stream",
     "text": [
      "C:\\Users\\Rahul Airan\\anaconda3\\lib\\site-packages\\seaborn\\_decorators.py:36: FutureWarning: Pass the following variables as keyword args: x, y. From version 0.12, the only valid positional argument will be `data`, and passing other arguments without an explicit keyword will result in an error or misinterpretation.\n",
      "  warnings.warn(\n",
      "C:\\Users\\Rahul Airan\\anaconda3\\lib\\site-packages\\seaborn\\_decorators.py:36: FutureWarning: Pass the following variables as keyword args: x, y. From version 0.12, the only valid positional argument will be `data`, and passing other arguments without an explicit keyword will result in an error or misinterpretation.\n",
      "  warnings.warn(\n",
      "C:\\Users\\Rahul Airan\\anaconda3\\lib\\site-packages\\seaborn\\_decorators.py:36: FutureWarning: Pass the following variables as keyword args: x, y. From version 0.12, the only valid positional argument will be `data`, and passing other arguments without an explicit keyword will result in an error or misinterpretation.\n",
      "  warnings.warn(\n",
      "C:\\Users\\Rahul Airan\\anaconda3\\lib\\site-packages\\seaborn\\_decorators.py:36: FutureWarning: Pass the following variables as keyword args: x, y. From version 0.12, the only valid positional argument will be `data`, and passing other arguments without an explicit keyword will result in an error or misinterpretation.\n",
      "  warnings.warn(\n",
      "C:\\Users\\Rahul Airan\\anaconda3\\lib\\site-packages\\seaborn\\_decorators.py:36: FutureWarning: Pass the following variables as keyword args: x, y. From version 0.12, the only valid positional argument will be `data`, and passing other arguments without an explicit keyword will result in an error or misinterpretation.\n",
      "  warnings.warn(\n",
      "C:\\Users\\Rahul Airan\\anaconda3\\lib\\site-packages\\seaborn\\_decorators.py:36: FutureWarning: Pass the following variables as keyword args: x, y. From version 0.12, the only valid positional argument will be `data`, and passing other arguments without an explicit keyword will result in an error or misinterpretation.\n",
      "  warnings.warn(\n",
      "C:\\Users\\Rahul Airan\\anaconda3\\lib\\site-packages\\seaborn\\_decorators.py:36: FutureWarning: Pass the following variables as keyword args: x, y. From version 0.12, the only valid positional argument will be `data`, and passing other arguments without an explicit keyword will result in an error or misinterpretation.\n",
      "  warnings.warn(\n",
      "C:\\Users\\Rahul Airan\\anaconda3\\lib\\site-packages\\seaborn\\_decorators.py:36: FutureWarning: Pass the following variables as keyword args: x, y. From version 0.12, the only valid positional argument will be `data`, and passing other arguments without an explicit keyword will result in an error or misinterpretation.\n",
      "  warnings.warn(\n"
     ]
    },
    {
     "data": {
      "image/png": "[encoded data removed]",
      "text/plain": [
       "<Figure size 360x360 with 1 Axes>"
      ]
     },
     "metadata": {
      "needs_background": "light"
     },
     "output_type": "display_data"
    },
    {
     "data": {
      "image/png": "[encoded data removed]",
      "text/plain": [
       "<Figure size 360x360 with 1 Axes>"
      ]
     },
     "metadata": {
      "needs_background": "light"
     },
     "output_type": "display_data"
    },
    {
     "data": {
      "image/png": "[encoded data removed]",
      "text/plain": [
       "<Figure size 360x360 with 1 Axes>"
      ]
     },
     "metadata": {
      "needs_background": "light"
     },
     "output_type": "display_data"
    },
    {
     "data": {
      "image/png": "[encoded data removed]",
      "text/plain": [
       "<Figure size 360x360 with 1 Axes>"
      ]
     },
     "metadata": {
      "needs_background": "light"
     },
     "output_type": "display_data"
    },
    {
     "data": {
      "image/png": "[encoded data removed]",
      "text/plain": [
       "<Figure size 360x360 with 1 Axes>"
      ]
     },
     "metadata": {
      "needs_background": "light"
     },
     "output_type": "display_data"
    },
    {
     "data": {
      "image/png": "[encoded data removed]",
      "text/plain": [
       "<Figure size 360x360 with 1 Axes>"
      ]
     },
     "metadata": {
      "needs_background": "light"
     },
     "output_type": "display_data"
    },
    {
     "data": {
      "image/png": "[encoded data removed]",
      "text/plain": [
       "<Figure size 360x360 with 1 Axes>"
      ]
     },
     "metadata": {
      "needs_background": "light"
     },
     "output_type": "display_data"
    },
    {
     "data": {
      "image/png": "[encoded data removed]",
      "text/plain": [
       "<Figure size 360x360 with 1 Axes>"
      ]
     },
     "metadata": {
      "needs_background": "light"
     },
     "output_type": "display_data"
    }
   ],
   "source": [
    "for col in df.columns:\n",
    "    if col != \"Outcome\":\n",
    "        sns.catplot(\"Outcome\", col, data = df)\n"
   ]
  },
  {
   "cell_type": "markdown",
   "metadata": {},
   "source": [
    "# Replacing 0 with Mean with respective columns"
   ]
  },
  {
   "cell_type": "code",
   "execution_count": 15,
   "metadata": {},
   "outputs": [
    {
     "data": {
      "text/html": [
       "<div>\n",
       "<style scoped>\n",
       "    .dataframe tbody tr th:only-of-type {\n",
       "        vertical-align: middle;\n",
       "    }\n",
       "\n",
       "    .dataframe tbody tr th {\n",
       "        vertical-align: top;\n",
       "    }\n",
       "\n",
       "    .dataframe thead th {\n",
       "        text-align: right;\n",
       "    }\n",
       "</style>\n",
       "<table border=\"1\" class=\"dataframe\">\n",
       "  <thead>\n",
       "    <tr style=\"text-align: right;\">\n",
       "      <th></th>\n",
       "      <th>Pregnancies</th>\n",
       "      <th>Glucose</th>\n",
       "      <th>BloodPressure</th>\n",
       "      <th>SkinThickness</th>\n",
       "      <th>Insulin</th>\n",
       "      <th>BMI</th>\n",
       "      <th>DiabetesPedigreeFunction</th>\n",
       "      <th>Age</th>\n",
       "      <th>Outcome</th>\n",
       "    </tr>\n",
       "  </thead>\n",
       "  <tbody>\n",
       "    <tr>\n",
       "      <th>count</th>\n",
       "      <td>768.000000</td>\n",
       "      <td>768.000000</td>\n",
       "      <td>768.000000</td>\n",
       "      <td>768.000000</td>\n",
       "      <td>768.000000</td>\n",
       "      <td>768.000000</td>\n",
       "      <td>768.000000</td>\n",
       "      <td>768.000000</td>\n",
       "      <td>768.000000</td>\n",
       "    </tr>\n",
       "    <tr>\n",
       "      <th>mean</th>\n",
       "      <td>3.845052</td>\n",
       "      <td>120.894531</td>\n",
       "      <td>69.105469</td>\n",
       "      <td>20.536458</td>\n",
       "      <td>79.799479</td>\n",
       "      <td>31.992578</td>\n",
       "      <td>0.471876</td>\n",
       "      <td>33.240885</td>\n",
       "      <td>0.348958</td>\n",
       "    </tr>\n",
       "    <tr>\n",
       "      <th>std</th>\n",
       "      <td>3.369578</td>\n",
       "      <td>31.972618</td>\n",
       "      <td>19.355807</td>\n",
       "      <td>15.952218</td>\n",
       "      <td>115.244002</td>\n",
       "      <td>7.884160</td>\n",
       "      <td>0.331329</td>\n",
       "      <td>11.760232</td>\n",
       "      <td>0.476951</td>\n",
       "    </tr>\n",
       "    <tr>\n",
       "      <th>min</th>\n",
       "      <td>0.000000</td>\n",
       "      <td>0.000000</td>\n",
       "      <td>0.000000</td>\n",
       "      <td>0.000000</td>\n",
       "      <td>0.000000</td>\n",
       "      <td>0.000000</td>\n",
       "      <td>0.078000</td>\n",
       "      <td>21.000000</td>\n",
       "      <td>0.000000</td>\n",
       "    </tr>\n",
       "    <tr>\n",
       "      <th>25%</th>\n",
       "      <td>1.000000</td>\n",
       "      <td>99.000000</td>\n",
       "      <td>62.000000</td>\n",
       "      <td>0.000000</td>\n",
       "      <td>0.000000</td>\n",
       "      <td>27.300000</td>\n",
       "      <td>0.243750</td>\n",
       "      <td>24.000000</td>\n",
       "      <td>0.000000</td>\n",
       "    </tr>\n",
       "    <tr>\n",
       "      <th>50%</th>\n",
       "      <td>3.000000</td>\n",
       "      <td>117.000000</td>\n",
       "      <td>72.000000</td>\n",
       "      <td>23.000000</td>\n",
       "      <td>30.500000</td>\n",
       "      <td>32.000000</td>\n",
       "      <td>0.372500</td>\n",
       "      <td>29.000000</td>\n",
       "      <td>0.000000</td>\n",
       "    </tr>\n",
       "    <tr>\n",
       "      <th>75%</th>\n",
       "      <td>6.000000</td>\n",
       "      <td>140.250000</td>\n",
       "      <td>80.000000</td>\n",
       "      <td>32.000000</td>\n",
       "      <td>127.250000</td>\n",
       "      <td>36.600000</td>\n",
       "      <td>0.626250</td>\n",
       "      <td>41.000000</td>\n",
       "      <td>1.000000</td>\n",
       "    </tr>\n",
       "    <tr>\n",
       "      <th>max</th>\n",
       "      <td>17.000000</td>\n",
       "      <td>199.000000</td>\n",
       "      <td>122.000000</td>\n",
       "      <td>99.000000</td>\n",
       "      <td>846.000000</td>\n",
       "      <td>67.100000</td>\n",
       "      <td>2.420000</td>\n",
       "      <td>81.000000</td>\n",
       "      <td>1.000000</td>\n",
       "    </tr>\n",
       "  </tbody>\n",
       "</table>\n",
       "</div>"
      ],
      "text/plain": [
       "       Pregnancies     Glucose  BloodPressure  SkinThickness     Insulin  \\\n",
       "count   768.000000  768.000000     768.000000     768.000000  768.000000   \n",
       "mean      3.845052  120.894531      69.105469      20.536458   79.799479   \n",
       "std       3.369578   31.972618      19.355807      15.952218  115.244002   \n",
       "min       0.000000    0.000000       0.000000       0.000000    0.000000   \n",
       "25%       1.000000   99.000000      62.000000       0.000000    0.000000   \n",
       "50%       3.000000  117.000000      72.000000      23.000000   30.500000   \n",
       "75%       6.000000  140.250000      80.000000      32.000000  127.250000   \n",
       "max      17.000000  199.000000     122.000000      99.000000  846.000000   \n",
       "\n",
       "              BMI  DiabetesPedigreeFunction         Age     Outcome  \n",
       "count  768.000000                768.000000  768.000000  768.000000  \n",
       "mean    31.992578                  0.471876   33.240885    0.348958  \n",
       "std      7.884160                  0.331329   11.760232    0.476951  \n",
       "min      0.000000                  0.078000   21.000000    0.000000  \n",
       "25%     27.300000                  0.243750   24.000000    0.000000  \n",
       "50%     32.000000                  0.372500   29.000000    0.000000  \n",
       "75%     36.600000                  0.626250   41.000000    1.000000  \n",
       "max     67.100000                  2.420000   81.000000    1.000000  "
      ]
     },
     "execution_count": 15,
     "metadata": {},
     "output_type": "execute_result"
    }
   ],
   "source": [
    "df.describe()"
   ]
  },
  {
   "cell_type": "code",
   "execution_count": 16,
   "metadata": {},
   "outputs": [],
   "source": [
    "#Replacing 0 by Nan\n",
    "df[['Glucose','BloodPressure','SkinThickness','Insulin','BMI']]=df[['Glucose','BloodPressure','SkinThickness','Insulin','BMI']].replace(0,np.NaN)"
   ]
  },
  {
   "cell_type": "code",
   "execution_count": 17,
   "metadata": {},
   "outputs": [
    {
     "data": {
      "text/plain": [
       "Pregnancies                   0\n",
       "Glucose                       5\n",
       "BloodPressure                35\n",
       "SkinThickness               227\n",
       "Insulin                     374\n",
       "BMI                          11\n",
       "DiabetesPedigreeFunction      0\n",
       "Age                           0\n",
       "Outcome                       0\n",
       "dtype: int64"
      ]
     },
     "execution_count": 17,
     "metadata": {},
     "output_type": "execute_result"
    }
   ],
   "source": [
    "# Again, getting no. of missing values in each column \n",
    "\n",
    "df.isnull().sum()"
   ]
  },
  {
   "cell_type": "code",
   "execution_count": 18,
   "metadata": {},
   "outputs": [
    {
     "data": {
      "image/png": "[encoded data removed]",
      "text/plain": [
       "<Figure size 1440x1440 with 9 Axes>"
      ]
     },
     "metadata": {
      "needs_background": "light"
     },
     "output_type": "display_data"
    }
   ],
   "source": [
    "# Data Visualization to understand Data Distribution Before filling NaN values \n",
    "p = df.hist(figsize = (20,20))"
   ]
  },
  {
   "cell_type": "code",
   "execution_count": 19,
   "metadata": {},
   "outputs": [],
   "source": [
    "#Filling Nan Values\n",
    "\n",
    "df['Glucose'].fillna(df['Glucose'].median(), inplace = True)\n",
    "df['BloodPressure'].fillna(df['BloodPressure'].median(), inplace = True)\n",
    "df['SkinThickness'].fillna(df['SkinThickness'].median(), inplace = True)\n",
    "df['Insulin'].fillna(df['Insulin'].median(), inplace = True)\n",
    "df['BMI'].fillna(df['BMI'].mean(), inplace = True)"
   ]
  },
  {
   "cell_type": "code",
   "execution_count": 20,
   "metadata": {},
   "outputs": [
    {
     "data": {
      "text/plain": [
       "Pregnancies                 0\n",
       "Glucose                     0\n",
       "BloodPressure               0\n",
       "SkinThickness               0\n",
       "Insulin                     0\n",
       "BMI                         0\n",
       "DiabetesPedigreeFunction    0\n",
       "Age                         0\n",
       "Outcome                     0\n",
       "dtype: int64"
      ]
     },
     "execution_count": 20,
     "metadata": {},
     "output_type": "execute_result"
    }
   ],
   "source": [
    "# Checking if missing values in each column is replaced\n",
    "\n",
    "df.isnull().sum()"
   ]
  },
  {
   "cell_type": "code",
   "execution_count": 21,
   "metadata": {},
   "outputs": [
    {
     "data": {
      "image/png": "[encoded data removed]",
      "text/plain": [
       "<Figure size 1440x1440 with 9 Axes>"
      ]
     },
     "metadata": {
      "needs_background": "light"
     },
     "output_type": "display_data"
    }
   ],
   "source": [
    "# Data Visualization after Nan Removal\n",
    "p = df.hist(figsize = (20,20))"
   ]
  },
  {
   "cell_type": "code",
   "execution_count": 22,
   "metadata": {},
   "outputs": [
    {
     "data": {
      "text/html": [
       "<div>\n",
       "<style scoped>\n",
       "    .dataframe tbody tr th:only-of-type {\n",
       "        vertical-align: middle;\n",
       "    }\n",
       "\n",
       "    .dataframe tbody tr th {\n",
       "        vertical-align: top;\n",
       "    }\n",
       "\n",
       "    .dataframe thead th {\n",
       "        text-align: right;\n",
       "    }\n",
       "</style>\n",
       "<table border=\"1\" class=\"dataframe\">\n",
       "  <thead>\n",
       "    <tr style=\"text-align: right;\">\n",
       "      <th></th>\n",
       "      <th>Pregnancies</th>\n",
       "      <th>Glucose</th>\n",
       "      <th>BloodPressure</th>\n",
       "      <th>SkinThickness</th>\n",
       "      <th>Insulin</th>\n",
       "      <th>BMI</th>\n",
       "      <th>DiabetesPedigreeFunction</th>\n",
       "      <th>Age</th>\n",
       "      <th>Outcome</th>\n",
       "    </tr>\n",
       "  </thead>\n",
       "  <tbody>\n",
       "    <tr>\n",
       "      <th>count</th>\n",
       "      <td>768.000000</td>\n",
       "      <td>768.000000</td>\n",
       "      <td>768.000000</td>\n",
       "      <td>768.000000</td>\n",
       "      <td>768.000000</td>\n",
       "      <td>768.000000</td>\n",
       "      <td>768.000000</td>\n",
       "      <td>768.000000</td>\n",
       "      <td>768.000000</td>\n",
       "    </tr>\n",
       "    <tr>\n",
       "      <th>mean</th>\n",
       "      <td>3.845052</td>\n",
       "      <td>121.656250</td>\n",
       "      <td>72.386719</td>\n",
       "      <td>29.108073</td>\n",
       "      <td>140.671875</td>\n",
       "      <td>32.457464</td>\n",
       "      <td>0.471876</td>\n",
       "      <td>33.240885</td>\n",
       "      <td>0.348958</td>\n",
       "    </tr>\n",
       "    <tr>\n",
       "      <th>std</th>\n",
       "      <td>3.369578</td>\n",
       "      <td>30.438286</td>\n",
       "      <td>12.096642</td>\n",
       "      <td>8.791221</td>\n",
       "      <td>86.383060</td>\n",
       "      <td>6.875151</td>\n",
       "      <td>0.331329</td>\n",
       "      <td>11.760232</td>\n",
       "      <td>0.476951</td>\n",
       "    </tr>\n",
       "    <tr>\n",
       "      <th>min</th>\n",
       "      <td>0.000000</td>\n",
       "      <td>44.000000</td>\n",
       "      <td>24.000000</td>\n",
       "      <td>7.000000</td>\n",
       "      <td>14.000000</td>\n",
       "      <td>18.200000</td>\n",
       "      <td>0.078000</td>\n",
       "      <td>21.000000</td>\n",
       "      <td>0.000000</td>\n",
       "    </tr>\n",
       "    <tr>\n",
       "      <th>25%</th>\n",
       "      <td>1.000000</td>\n",
       "      <td>99.750000</td>\n",
       "      <td>64.000000</td>\n",
       "      <td>25.000000</td>\n",
       "      <td>121.500000</td>\n",
       "      <td>27.500000</td>\n",
       "      <td>0.243750</td>\n",
       "      <td>24.000000</td>\n",
       "      <td>0.000000</td>\n",
       "    </tr>\n",
       "    <tr>\n",
       "      <th>50%</th>\n",
       "      <td>3.000000</td>\n",
       "      <td>117.000000</td>\n",
       "      <td>72.000000</td>\n",
       "      <td>29.000000</td>\n",
       "      <td>125.000000</td>\n",
       "      <td>32.400000</td>\n",
       "      <td>0.372500</td>\n",
       "      <td>29.000000</td>\n",
       "      <td>0.000000</td>\n",
       "    </tr>\n",
       "    <tr>\n",
       "      <th>75%</th>\n",
       "      <td>6.000000</td>\n",
       "      <td>140.250000</td>\n",
       "      <td>80.000000</td>\n",
       "      <td>32.000000</td>\n",
       "      <td>127.250000</td>\n",
       "      <td>36.600000</td>\n",
       "      <td>0.626250</td>\n",
       "      <td>41.000000</td>\n",
       "      <td>1.000000</td>\n",
       "    </tr>\n",
       "    <tr>\n",
       "      <th>max</th>\n",
       "      <td>17.000000</td>\n",
       "      <td>199.000000</td>\n",
       "      <td>122.000000</td>\n",
       "      <td>99.000000</td>\n",
       "      <td>846.000000</td>\n",
       "      <td>67.100000</td>\n",
       "      <td>2.420000</td>\n",
       "      <td>81.000000</td>\n",
       "      <td>1.000000</td>\n",
       "    </tr>\n",
       "  </tbody>\n",
       "</table>\n",
       "</div>"
      ],
      "text/plain": [
       "       Pregnancies     Glucose  BloodPressure  SkinThickness     Insulin  \\\n",
       "count   768.000000  768.000000     768.000000     768.000000  768.000000   \n",
       "mean      3.845052  121.656250      72.386719      29.108073  140.671875   \n",
       "std       3.369578   30.438286      12.096642       8.791221   86.383060   \n",
       "min       0.000000   44.000000      24.000000       7.000000   14.000000   \n",
       "25%       1.000000   99.750000      64.000000      25.000000  121.500000   \n",
       "50%       3.000000  117.000000      72.000000      29.000000  125.000000   \n",
       "75%       6.000000  140.250000      80.000000      32.000000  127.250000   \n",
       "max      17.000000  199.000000     122.000000      99.000000  846.000000   \n",
       "\n",
       "              BMI  DiabetesPedigreeFunction         Age     Outcome  \n",
       "count  768.000000                768.000000  768.000000  768.000000  \n",
       "mean    32.457464                  0.471876   33.240885    0.348958  \n",
       "std      6.875151                  0.331329   11.760232    0.476951  \n",
       "min     18.200000                  0.078000   21.000000    0.000000  \n",
       "25%     27.500000                  0.243750   24.000000    0.000000  \n",
       "50%     32.400000                  0.372500   29.000000    0.000000  \n",
       "75%     36.600000                  0.626250   41.000000    1.000000  \n",
       "max     67.100000                  2.420000   81.000000    1.000000  "
      ]
     },
     "execution_count": 22,
     "metadata": {},
     "output_type": "execute_result"
    }
   ],
   "source": [
    "df.describe()"
   ]
  },
  {
   "cell_type": "code",
   "execution_count": 24,
   "metadata": {},
   "outputs": [
    {
     "data": {
      "image/png": "[encoded data removed]",
      "text/plain": [
       "<Figure size 936x360 with 1 Axes>"
      ]
     },
     "metadata": {
      "needs_background": "light"
     },
     "output_type": "display_data"
    }
   ],
   "source": [
    "df.boxplot(figsize=(13,5))\n",
    "plt.show()"
   ]
  },
  {
   "cell_type": "markdown",
   "metadata": {},
   "source": [
    "# Splitting of data for training and testing"
   ]
  },
  {
   "cell_type": "code",
   "execution_count": 25,
   "metadata": {},
   "outputs": [],
   "source": [
    "X=df.drop('Outcome',axis=1)"
   ]
  },
  {
   "cell_type": "code",
   "execution_count": 26,
   "metadata": {},
   "outputs": [
    {
     "data": {
      "text/html": [
       "<div>\n",
       "<style scoped>\n",
       "    .dataframe tbody tr th:only-of-type {\n",
       "        vertical-align: middle;\n",
       "    }\n",
       "\n",
       "    .dataframe tbody tr th {\n",
       "        vertical-align: top;\n",
       "    }\n",
       "\n",
       "    .dataframe thead th {\n",
       "        text-align: right;\n",
       "    }\n",
       "</style>\n",
       "<table border=\"1\" class=\"dataframe\">\n",
       "  <thead>\n",
       "    <tr style=\"text-align: right;\">\n",
       "      <th></th>\n",
       "      <th>Pregnancies</th>\n",
       "      <th>Glucose</th>\n",
       "      <th>BloodPressure</th>\n",
       "      <th>SkinThickness</th>\n",
       "      <th>Insulin</th>\n",
       "      <th>BMI</th>\n",
       "      <th>DiabetesPedigreeFunction</th>\n",
       "      <th>Age</th>\n",
       "    </tr>\n",
       "  </thead>\n",
       "  <tbody>\n",
       "    <tr>\n",
       "      <th>count</th>\n",
       "      <td>768.000000</td>\n",
       "      <td>768.000000</td>\n",
       "      <td>768.000000</td>\n",
       "      <td>768.000000</td>\n",
       "      <td>768.000000</td>\n",
       "      <td>768.000000</td>\n",
       "      <td>768.000000</td>\n",
       "      <td>768.000000</td>\n",
       "    </tr>\n",
       "    <tr>\n",
       "      <th>mean</th>\n",
       "      <td>3.845052</td>\n",
       "      <td>121.656250</td>\n",
       "      <td>72.386719</td>\n",
       "      <td>29.108073</td>\n",
       "      <td>140.671875</td>\n",
       "      <td>32.457464</td>\n",
       "      <td>0.471876</td>\n",
       "      <td>33.240885</td>\n",
       "    </tr>\n",
       "    <tr>\n",
       "      <th>std</th>\n",
       "      <td>3.369578</td>\n",
       "      <td>30.438286</td>\n",
       "      <td>12.096642</td>\n",
       "      <td>8.791221</td>\n",
       "      <td>86.383060</td>\n",
       "      <td>6.875151</td>\n",
       "      <td>0.331329</td>\n",
       "      <td>11.760232</td>\n",
       "    </tr>\n",
       "    <tr>\n",
       "      <th>min</th>\n",
       "      <td>0.000000</td>\n",
       "      <td>44.000000</td>\n",
       "      <td>24.000000</td>\n",
       "      <td>7.000000</td>\n",
       "      <td>14.000000</td>\n",
       "      <td>18.200000</td>\n",
       "      <td>0.078000</td>\n",
       "      <td>21.000000</td>\n",
       "    </tr>\n",
       "    <tr>\n",
       "      <th>25%</th>\n",
       "      <td>1.000000</td>\n",
       "      <td>99.750000</td>\n",
       "      <td>64.000000</td>\n",
       "      <td>25.000000</td>\n",
       "      <td>121.500000</td>\n",
       "      <td>27.500000</td>\n",
       "      <td>0.243750</td>\n",
       "      <td>24.000000</td>\n",
       "    </tr>\n",
       "    <tr>\n",
       "      <th>50%</th>\n",
       "      <td>3.000000</td>\n",
       "      <td>117.000000</td>\n",
       "      <td>72.000000</td>\n",
       "      <td>29.000000</td>\n",
       "      <td>125.000000</td>\n",
       "      <td>32.400000</td>\n",
       "      <td>0.372500</td>\n",
       "      <td>29.000000</td>\n",
       "    </tr>\n",
       "    <tr>\n",
       "      <th>75%</th>\n",
       "      <td>6.000000</td>\n",
       "      <td>140.250000</td>\n",
       "      <td>80.000000</td>\n",
       "      <td>32.000000</td>\n",
       "      <td>127.250000</td>\n",
       "      <td>36.600000</td>\n",
       "      <td>0.626250</td>\n",
       "      <td>41.000000</td>\n",
       "    </tr>\n",
       "    <tr>\n",
       "      <th>max</th>\n",
       "      <td>17.000000</td>\n",
       "      <td>199.000000</td>\n",
       "      <td>122.000000</td>\n",
       "      <td>99.000000</td>\n",
       "      <td>846.000000</td>\n",
       "      <td>67.100000</td>\n",
       "      <td>2.420000</td>\n",
       "      <td>81.000000</td>\n",
       "    </tr>\n",
       "  </tbody>\n",
       "</table>\n",
       "</div>"
      ],
      "text/plain": [
       "       Pregnancies     Glucose  BloodPressure  SkinThickness     Insulin  \\\n",
       "count   768.000000  768.000000     768.000000     768.000000  768.000000   \n",
       "mean      3.845052  121.656250      72.386719      29.108073  140.671875   \n",
       "std       3.369578   30.438286      12.096642       8.791221   86.383060   \n",
       "min       0.000000   44.000000      24.000000       7.000000   14.000000   \n",
       "25%       1.000000   99.750000      64.000000      25.000000  121.500000   \n",
       "50%       3.000000  117.000000      72.000000      29.000000  125.000000   \n",
       "75%       6.000000  140.250000      80.000000      32.000000  127.250000   \n",
       "max      17.000000  199.000000     122.000000      99.000000  846.000000   \n",
       "\n",
       "              BMI  DiabetesPedigreeFunction         Age  \n",
       "count  768.000000                768.000000  768.000000  \n",
       "mean    32.457464                  0.471876   33.240885  \n",
       "std      6.875151                  0.331329   11.760232  \n",
       "min     18.200000                  0.078000   21.000000  \n",
       "25%     27.500000                  0.243750   24.000000  \n",
       "50%     32.400000                  0.372500   29.000000  \n",
       "75%     36.600000                  0.626250   41.000000  \n",
       "max     67.100000                  2.420000   81.000000  "
      ]
     },
     "execution_count": 26,
     "metadata": {},
     "output_type": "execute_result"
    }
   ],
   "source": [
    "X.describe()"
   ]
  },
  {
   "cell_type": "code",
   "execution_count": 27,
   "metadata": {},
   "outputs": [
    {
     "data": {
      "text/html": [
       "<div>\n",
       "<style scoped>\n",
       "    .dataframe tbody tr th:only-of-type {\n",
       "        vertical-align: middle;\n",
       "    }\n",
       "\n",
       "    .dataframe tbody tr th {\n",
       "        vertical-align: top;\n",
       "    }\n",
       "\n",
       "    .dataframe thead th {\n",
       "        text-align: right;\n",
       "    }\n",
       "</style>\n",
       "<table border=\"1\" class=\"dataframe\">\n",
       "  <thead>\n",
       "    <tr style=\"text-align: right;\">\n",
       "      <th></th>\n",
       "      <th>Pregnancies</th>\n",
       "      <th>Glucose</th>\n",
       "      <th>BloodPressure</th>\n",
       "      <th>SkinThickness</th>\n",
       "      <th>Insulin</th>\n",
       "      <th>BMI</th>\n",
       "      <th>DiabetesPedigreeFunction</th>\n",
       "      <th>Age</th>\n",
       "    </tr>\n",
       "  </thead>\n",
       "  <tbody>\n",
       "    <tr>\n",
       "      <th>0</th>\n",
       "      <td>6</td>\n",
       "      <td>148.0</td>\n",
       "      <td>72.0</td>\n",
       "      <td>35.0</td>\n",
       "      <td>125.0</td>\n",
       "      <td>33.6</td>\n",
       "      <td>0.627</td>\n",
       "      <td>50</td>\n",
       "    </tr>\n",
       "    <tr>\n",
       "      <th>1</th>\n",
       "      <td>1</td>\n",
       "      <td>85.0</td>\n",
       "      <td>66.0</td>\n",
       "      <td>29.0</td>\n",
       "      <td>125.0</td>\n",
       "      <td>26.6</td>\n",
       "      <td>0.351</td>\n",
       "      <td>31</td>\n",
       "    </tr>\n",
       "    <tr>\n",
       "      <th>2</th>\n",
       "      <td>8</td>\n",
       "      <td>183.0</td>\n",
       "      <td>64.0</td>\n",
       "      <td>29.0</td>\n",
       "      <td>125.0</td>\n",
       "      <td>23.3</td>\n",
       "      <td>0.672</td>\n",
       "      <td>32</td>\n",
       "    </tr>\n",
       "    <tr>\n",
       "      <th>3</th>\n",
       "      <td>1</td>\n",
       "      <td>89.0</td>\n",
       "      <td>66.0</td>\n",
       "      <td>23.0</td>\n",
       "      <td>94.0</td>\n",
       "      <td>28.1</td>\n",
       "      <td>0.167</td>\n",
       "      <td>21</td>\n",
       "    </tr>\n",
       "    <tr>\n",
       "      <th>4</th>\n",
       "      <td>0</td>\n",
       "      <td>137.0</td>\n",
       "      <td>40.0</td>\n",
       "      <td>35.0</td>\n",
       "      <td>168.0</td>\n",
       "      <td>43.1</td>\n",
       "      <td>2.288</td>\n",
       "      <td>33</td>\n",
       "    </tr>\n",
       "    <tr>\n",
       "      <th>...</th>\n",
       "      <td>...</td>\n",
       "      <td>...</td>\n",
       "      <td>...</td>\n",
       "      <td>...</td>\n",
       "      <td>...</td>\n",
       "      <td>...</td>\n",
       "      <td>...</td>\n",
       "      <td>...</td>\n",
       "    </tr>\n",
       "    <tr>\n",
       "      <th>763</th>\n",
       "      <td>10</td>\n",
       "      <td>101.0</td>\n",
       "      <td>76.0</td>\n",
       "      <td>48.0</td>\n",
       "      <td>180.0</td>\n",
       "      <td>32.9</td>\n",
       "      <td>0.171</td>\n",
       "      <td>63</td>\n",
       "    </tr>\n",
       "    <tr>\n",
       "      <th>764</th>\n",
       "      <td>2</td>\n",
       "      <td>122.0</td>\n",
       "      <td>70.0</td>\n",
       "      <td>27.0</td>\n",
       "      <td>125.0</td>\n",
       "      <td>36.8</td>\n",
       "      <td>0.340</td>\n",
       "      <td>27</td>\n",
       "    </tr>\n",
       "    <tr>\n",
       "      <th>765</th>\n",
       "      <td>5</td>\n",
       "      <td>121.0</td>\n",
       "      <td>72.0</td>\n",
       "      <td>23.0</td>\n",
       "      <td>112.0</td>\n",
       "      <td>26.2</td>\n",
       "      <td>0.245</td>\n",
       "      <td>30</td>\n",
       "    </tr>\n",
       "    <tr>\n",
       "      <th>766</th>\n",
       "      <td>1</td>\n",
       "      <td>126.0</td>\n",
       "      <td>60.0</td>\n",
       "      <td>29.0</td>\n",
       "      <td>125.0</td>\n",
       "      <td>30.1</td>\n",
       "      <td>0.349</td>\n",
       "      <td>47</td>\n",
       "    </tr>\n",
       "    <tr>\n",
       "      <th>767</th>\n",
       "      <td>1</td>\n",
       "      <td>93.0</td>\n",
       "      <td>70.0</td>\n",
       "      <td>31.0</td>\n",
       "      <td>125.0</td>\n",
       "      <td>30.4</td>\n",
       "      <td>0.315</td>\n",
       "      <td>23</td>\n",
       "    </tr>\n",
       "  </tbody>\n",
       "</table>\n",
       "<p>768 rows × 8 columns</p>\n",
       "</div>"
      ],
      "text/plain": [
       "     Pregnancies  Glucose  BloodPressure  SkinThickness  Insulin   BMI  \\\n",
       "0              6    148.0           72.0           35.0    125.0  33.6   \n",
       "1              1     85.0           66.0           29.0    125.0  26.6   \n",
       "2              8    183.0           64.0           29.0    125.0  23.3   \n",
       "3              1     89.0           66.0           23.0     94.0  28.1   \n",
       "4              0    137.0           40.0           35.0    168.0  43.1   \n",
       "..           ...      ...            ...            ...      ...   ...   \n",
       "763           10    101.0           76.0           48.0    180.0  32.9   \n",
       "764            2    122.0           70.0           27.0    125.0  36.8   \n",
       "765            5    121.0           72.0           23.0    112.0  26.2   \n",
       "766            1    126.0           60.0           29.0    125.0  30.1   \n",
       "767            1     93.0           70.0           31.0    125.0  30.4   \n",
       "\n",
       "     DiabetesPedigreeFunction  Age  \n",
       "0                       0.627   50  \n",
       "1                       0.351   31  \n",
       "2                       0.672   32  \n",
       "3                       0.167   21  \n",
       "4                       2.288   33  \n",
       "..                        ...  ...  \n",
       "763                     0.171   63  \n",
       "764                     0.340   27  \n",
       "765                     0.245   30  \n",
       "766                     0.349   47  \n",
       "767                     0.315   23  \n",
       "\n",
       "[768 rows x 8 columns]"
      ]
     },
     "execution_count": 27,
     "metadata": {},
     "output_type": "execute_result"
    }
   ],
   "source": [
    "X"
   ]
  },
  {
   "cell_type": "code",
   "execution_count": 28,
   "metadata": {},
   "outputs": [],
   "source": [
    "Y=df['Outcome']"
   ]
  },
  {
   "cell_type": "code",
   "execution_count": 29,
   "metadata": {},
   "outputs": [
    {
     "data": {
      "text/plain": [
       "0      1\n",
       "1      0\n",
       "2      1\n",
       "3      0\n",
       "4      1\n",
       "      ..\n",
       "763    0\n",
       "764    0\n",
       "765    0\n",
       "766    1\n",
       "767    0\n",
       "Name: Outcome, Length: 768, dtype: int64"
      ]
     },
     "execution_count": 29,
     "metadata": {},
     "output_type": "execute_result"
    }
   ],
   "source": [
    "Y"
   ]
  },
  {
   "cell_type": "code",
   "execution_count": 30,
   "metadata": {},
   "outputs": [],
   "source": [
    "from sklearn.model_selection import train_test_split"
   ]
  },
  {
   "cell_type": "code",
   "execution_count": 31,
   "metadata": {},
   "outputs": [],
   "source": [
    "X_train , X_test , Y_train , Y_test = train_test_split(X,Y,test_size=0.20,random_state=9,shuffle=True)"
   ]
  },
  {
   "cell_type": "code",
   "execution_count": 32,
   "metadata": {},
   "outputs": [
    {
     "data": {
      "text/html": [
       "<div>\n",
       "<style scoped>\n",
       "    .dataframe tbody tr th:only-of-type {\n",
       "        vertical-align: middle;\n",
       "    }\n",
       "\n",
       "    .dataframe tbody tr th {\n",
       "        vertical-align: top;\n",
       "    }\n",
       "\n",
       "    .dataframe thead th {\n",
       "        text-align: right;\n",
       "    }\n",
       "</style>\n",
       "<table border=\"1\" class=\"dataframe\">\n",
       "  <thead>\n",
       "    <tr style=\"text-align: right;\">\n",
       "      <th></th>\n",
       "      <th>Pregnancies</th>\n",
       "      <th>Glucose</th>\n",
       "      <th>BloodPressure</th>\n",
       "      <th>SkinThickness</th>\n",
       "      <th>Insulin</th>\n",
       "      <th>BMI</th>\n",
       "      <th>DiabetesPedigreeFunction</th>\n",
       "      <th>Age</th>\n",
       "    </tr>\n",
       "  </thead>\n",
       "  <tbody>\n",
       "    <tr>\n",
       "      <th>476</th>\n",
       "      <td>2</td>\n",
       "      <td>105.0</td>\n",
       "      <td>80.0</td>\n",
       "      <td>45.0</td>\n",
       "      <td>191.0</td>\n",
       "      <td>33.7</td>\n",
       "      <td>0.711</td>\n",
       "      <td>29</td>\n",
       "    </tr>\n",
       "    <tr>\n",
       "      <th>448</th>\n",
       "      <td>0</td>\n",
       "      <td>104.0</td>\n",
       "      <td>64.0</td>\n",
       "      <td>37.0</td>\n",
       "      <td>64.0</td>\n",
       "      <td>33.6</td>\n",
       "      <td>0.510</td>\n",
       "      <td>22</td>\n",
       "    </tr>\n",
       "    <tr>\n",
       "      <th>518</th>\n",
       "      <td>13</td>\n",
       "      <td>76.0</td>\n",
       "      <td>60.0</td>\n",
       "      <td>29.0</td>\n",
       "      <td>125.0</td>\n",
       "      <td>32.8</td>\n",
       "      <td>0.180</td>\n",
       "      <td>41</td>\n",
       "    </tr>\n",
       "    <tr>\n",
       "      <th>221</th>\n",
       "      <td>2</td>\n",
       "      <td>158.0</td>\n",
       "      <td>90.0</td>\n",
       "      <td>29.0</td>\n",
       "      <td>125.0</td>\n",
       "      <td>31.6</td>\n",
       "      <td>0.805</td>\n",
       "      <td>66</td>\n",
       "    </tr>\n",
       "    <tr>\n",
       "      <th>453</th>\n",
       "      <td>2</td>\n",
       "      <td>119.0</td>\n",
       "      <td>72.0</td>\n",
       "      <td>29.0</td>\n",
       "      <td>125.0</td>\n",
       "      <td>19.6</td>\n",
       "      <td>0.832</td>\n",
       "      <td>72</td>\n",
       "    </tr>\n",
       "    <tr>\n",
       "      <th>...</th>\n",
       "      <td>...</td>\n",
       "      <td>...</td>\n",
       "      <td>...</td>\n",
       "      <td>...</td>\n",
       "      <td>...</td>\n",
       "      <td>...</td>\n",
       "      <td>...</td>\n",
       "      <td>...</td>\n",
       "    </tr>\n",
       "    <tr>\n",
       "      <th>56</th>\n",
       "      <td>7</td>\n",
       "      <td>187.0</td>\n",
       "      <td>68.0</td>\n",
       "      <td>39.0</td>\n",
       "      <td>304.0</td>\n",
       "      <td>37.7</td>\n",
       "      <td>0.254</td>\n",
       "      <td>41</td>\n",
       "    </tr>\n",
       "    <tr>\n",
       "      <th>501</th>\n",
       "      <td>3</td>\n",
       "      <td>84.0</td>\n",
       "      <td>72.0</td>\n",
       "      <td>32.0</td>\n",
       "      <td>125.0</td>\n",
       "      <td>37.2</td>\n",
       "      <td>0.267</td>\n",
       "      <td>28</td>\n",
       "    </tr>\n",
       "    <tr>\n",
       "      <th>638</th>\n",
       "      <td>7</td>\n",
       "      <td>97.0</td>\n",
       "      <td>76.0</td>\n",
       "      <td>32.0</td>\n",
       "      <td>91.0</td>\n",
       "      <td>40.9</td>\n",
       "      <td>0.871</td>\n",
       "      <td>32</td>\n",
       "    </tr>\n",
       "    <tr>\n",
       "      <th>348</th>\n",
       "      <td>3</td>\n",
       "      <td>99.0</td>\n",
       "      <td>62.0</td>\n",
       "      <td>19.0</td>\n",
       "      <td>74.0</td>\n",
       "      <td>21.8</td>\n",
       "      <td>0.279</td>\n",
       "      <td>26</td>\n",
       "    </tr>\n",
       "    <tr>\n",
       "      <th>382</th>\n",
       "      <td>1</td>\n",
       "      <td>109.0</td>\n",
       "      <td>60.0</td>\n",
       "      <td>8.0</td>\n",
       "      <td>182.0</td>\n",
       "      <td>25.4</td>\n",
       "      <td>0.947</td>\n",
       "      <td>21</td>\n",
       "    </tr>\n",
       "  </tbody>\n",
       "</table>\n",
       "<p>614 rows × 8 columns</p>\n",
       "</div>"
      ],
      "text/plain": [
       "     Pregnancies  Glucose  BloodPressure  SkinThickness  Insulin   BMI  \\\n",
       "476            2    105.0           80.0           45.0    191.0  33.7   \n",
       "448            0    104.0           64.0           37.0     64.0  33.6   \n",
       "518           13     76.0           60.0           29.0    125.0  32.8   \n",
       "221            2    158.0           90.0           29.0    125.0  31.6   \n",
       "453            2    119.0           72.0           29.0    125.0  19.6   \n",
       "..           ...      ...            ...            ...      ...   ...   \n",
       "56             7    187.0           68.0           39.0    304.0  37.7   \n",
       "501            3     84.0           72.0           32.0    125.0  37.2   \n",
       "638            7     97.0           76.0           32.0     91.0  40.9   \n",
       "348            3     99.0           62.0           19.0     74.0  21.8   \n",
       "382            1    109.0           60.0            8.0    182.0  25.4   \n",
       "\n",
       "     DiabetesPedigreeFunction  Age  \n",
       "476                     0.711   29  \n",
       "448                     0.510   22  \n",
       "518                     0.180   41  \n",
       "221                     0.805   66  \n",
       "453                     0.832   72  \n",
       "..                        ...  ...  \n",
       "56                      0.254   41  \n",
       "501                     0.267   28  \n",
       "638                     0.871   32  \n",
       "348                     0.279   26  \n",
       "382                     0.947   21  \n",
       "\n",
       "[614 rows x 8 columns]"
      ]
     },
     "execution_count": 32,
     "metadata": {},
     "output_type": "execute_result"
    }
   ],
   "source": [
    "X_train"
   ]
  },
  {
   "cell_type": "code",
   "execution_count": 33,
   "metadata": {},
   "outputs": [
    {
     "data": {
      "text/plain": [
       "476    1\n",
       "448    1\n",
       "518    0\n",
       "221    1\n",
       "453    0\n",
       "      ..\n",
       "56     1\n",
       "501    0\n",
       "638    1\n",
       "348    0\n",
       "382    0\n",
       "Name: Outcome, Length: 614, dtype: int64"
      ]
     },
     "execution_count": 33,
     "metadata": {},
     "output_type": "execute_result"
    }
   ],
   "source": [
    "Y_train"
   ]
  },
  {
   "cell_type": "markdown",
   "metadata": {},
   "source": [
    "# Min Max Scalar"
   ]
  },
  {
   "cell_type": "code",
   "execution_count": 34,
   "metadata": {},
   "outputs": [],
   "source": [
    "#from sklearn.preprocessing import StandardScaler\n",
    "#std=StandardScaler()"
   ]
  },
  {
   "cell_type": "code",
   "execution_count": 35,
   "metadata": {},
   "outputs": [],
   "source": [
    "#X_train=std.fit_transform(X_train)\n",
    "#X_test=std.transform(X_test)"
   ]
  },
  {
   "cell_type": "code",
   "execution_count": 36,
   "metadata": {},
   "outputs": [],
   "source": [
    "#X_train"
   ]
  },
  {
   "cell_type": "code",
   "execution_count": 37,
   "metadata": {},
   "outputs": [],
   "source": [
    "from sklearn.preprocessing import MinMaxScaler\n",
    "scaler = MinMaxScaler()\n",
    "X_train= scaler.fit_transform(X_train)\n",
    "X_test = scaler.transform(X_test)"
   ]
  },
  {
   "cell_type": "markdown",
   "metadata": {},
   "source": [
    "# Train our Model"
   ]
  },
  {
   "cell_type": "markdown",
   "metadata": {},
   "source": [
    "# Logistic Regression"
   ]
  },
  {
   "cell_type": "code",
   "execution_count": 38,
   "metadata": {},
   "outputs": [],
   "source": [
    "from sklearn.linear_model import LogisticRegression\n",
    "lr=LogisticRegression()"
   ]
  },
  {
   "cell_type": "code",
   "execution_count": 39,
   "metadata": {},
   "outputs": [
    {
     "data": {
      "text/plain": [
       "LogisticRegression()"
      ]
     },
     "execution_count": 39,
     "metadata": {},
     "output_type": "execute_result"
    }
   ],
   "source": [
    "lr.fit(X_train,Y_train)"
   ]
  },
  {
   "cell_type": "code",
   "execution_count": 40,
   "metadata": {},
   "outputs": [],
   "source": [
    "Y_pred=lr.predict(X_test)"
   ]
  },
  {
   "cell_type": "code",
   "execution_count": 41,
   "metadata": {},
   "outputs": [
    {
     "data": {
      "text/plain": [
       "array([0, 1, 0, 0, 1, 0, 0, 0, 0, 0, 0, 0, 0, 0, 0, 0, 1, 1, 0, 0, 0, 0,\n",
       "       0, 0, 0, 0, 1, 1, 0, 0, 0, 0, 0, 0, 0, 0, 1, 0, 0, 1, 1, 0, 1, 0,\n",
       "       0, 1, 0, 0, 0, 0, 0, 0, 1, 1, 0, 1, 0, 1, 1, 0, 1, 0, 0, 0, 0, 0,\n",
       "       0, 0, 1, 1, 0, 1, 0, 0, 0, 0, 0, 1, 1, 1, 0, 0, 1, 0, 0, 0, 0, 1,\n",
       "       0, 0, 0, 0, 1, 0, 0, 0, 0, 0, 1, 1, 0, 0, 0, 1, 1, 1, 0, 0, 1, 1,\n",
       "       1, 0, 0, 0, 1, 1, 1, 1, 0, 0, 0, 0, 0, 1, 0, 0, 1, 0, 0, 0, 0, 0,\n",
       "       0, 0, 0, 1, 1, 0, 0, 0, 0, 0, 0, 0, 0, 0, 0, 0, 0, 0, 1, 0, 1, 0],\n",
       "      dtype=int64)"
      ]
     },
     "execution_count": 41,
     "metadata": {},
     "output_type": "execute_result"
    }
   ],
   "source": [
    "Y_pred"
   ]
  },
  {
   "cell_type": "code",
   "execution_count": 42,
   "metadata": {},
   "outputs": [
    {
     "data": {
      "text/plain": [
       "456    0\n",
       "260    0\n",
       "651    0\n",
       "143    1\n",
       "666    1\n",
       "      ..\n",
       "583    0\n",
       "586    1\n",
       "478    0\n",
       "655    1\n",
       "32     0\n",
       "Name: Outcome, Length: 154, dtype: int64"
      ]
     },
     "execution_count": 42,
     "metadata": {},
     "output_type": "execute_result"
    }
   ],
   "source": [
    "Y_test"
   ]
  },
  {
   "cell_type": "code",
   "execution_count": 43,
   "metadata": {},
   "outputs": [],
   "source": [
    "from sklearn.metrics import accuracy_score"
   ]
  },
  {
   "cell_type": "code",
   "execution_count": 44,
   "metadata": {},
   "outputs": [
    {
     "data": {
      "text/plain": [
       "75.32467532467533"
      ]
     },
     "execution_count": 44,
     "metadata": {},
     "output_type": "execute_result"
    }
   ],
   "source": [
    "accuracy_score(Y_test,Y_pred) * 100"
   ]
  },
  {
   "cell_type": "code",
   "execution_count": 45,
   "metadata": {},
   "outputs": [
    {
     "name": "stdout",
     "output_type": "stream",
     "text": [
      "0.24675324675324675\n"
     ]
    }
   ],
   "source": [
    "from sklearn.metrics import mean_squared_error\n",
    "print(mean_squared_error(Y_test, Y_pred))"
   ]
  },
  {
   "cell_type": "markdown",
   "metadata": {},
   "source": [
    "# Decision Tree"
   ]
  },
  {
   "cell_type": "code",
   "execution_count": 46,
   "metadata": {},
   "outputs": [],
   "source": [
    "from sklearn.tree import DecisionTreeClassifier\n",
    "dt=DecisionTreeClassifier()"
   ]
  },
  {
   "cell_type": "code",
   "execution_count": 47,
   "metadata": {},
   "outputs": [
    {
     "data": {
      "text/plain": [
       "DecisionTreeClassifier()"
      ]
     },
     "execution_count": 47,
     "metadata": {},
     "output_type": "execute_result"
    }
   ],
   "source": [
    "dt.fit(X_train,Y_train)"
   ]
  },
  {
   "cell_type": "code",
   "execution_count": 48,
   "metadata": {},
   "outputs": [],
   "source": [
    "Y_pred=dt.predict(X_test)"
   ]
  },
  {
   "cell_type": "code",
   "execution_count": 49,
   "metadata": {},
   "outputs": [
    {
     "data": {
      "text/plain": [
       "array([1, 1, 0, 1, 0, 0, 0, 0, 0, 0, 0, 0, 0, 0, 0, 0, 0, 1, 1, 0, 1, 0,\n",
       "       0, 1, 0, 0, 1, 1, 0, 0, 0, 1, 1, 0, 1, 0, 1, 0, 0, 1, 0, 1, 1, 0,\n",
       "       0, 1, 0, 0, 0, 0, 0, 0, 1, 0, 0, 1, 0, 1, 1, 1, 1, 0, 1, 0, 0, 0,\n",
       "       0, 0, 1, 1, 0, 0, 0, 0, 0, 0, 1, 1, 1, 1, 0, 1, 1, 0, 0, 0, 0, 0,\n",
       "       0, 0, 0, 0, 1, 0, 0, 0, 0, 0, 1, 1, 1, 0, 0, 1, 1, 1, 0, 0, 1, 1,\n",
       "       1, 0, 1, 0, 0, 1, 1, 1, 0, 0, 0, 0, 0, 1, 0, 1, 0, 0, 0, 0, 0, 0,\n",
       "       0, 1, 0, 1, 1, 0, 0, 0, 1, 0, 1, 0, 0, 0, 0, 0, 0, 0, 1, 0, 0, 0],\n",
       "      dtype=int64)"
      ]
     },
     "execution_count": 49,
     "metadata": {},
     "output_type": "execute_result"
    }
   ],
   "source": [
    "Y_pred"
   ]
  },
  {
   "cell_type": "code",
   "execution_count": 50,
   "metadata": {},
   "outputs": [
    {
     "data": {
      "text/plain": [
       "456    0\n",
       "260    0\n",
       "651    0\n",
       "143    1\n",
       "666    1\n",
       "      ..\n",
       "583    0\n",
       "586    1\n",
       "478    0\n",
       "655    1\n",
       "32     0\n",
       "Name: Outcome, Length: 154, dtype: int64"
      ]
     },
     "execution_count": 50,
     "metadata": {},
     "output_type": "execute_result"
    }
   ],
   "source": [
    "Y_test"
   ]
  },
  {
   "cell_type": "code",
   "execution_count": 51,
   "metadata": {},
   "outputs": [
    {
     "data": {
      "text/plain": [
       "0.7012987012987013"
      ]
     },
     "execution_count": 51,
     "metadata": {},
     "output_type": "execute_result"
    }
   ],
   "source": [
    "accuracy_score(Y_test,Y_pred)"
   ]
  },
  {
   "cell_type": "code",
   "execution_count": 52,
   "metadata": {},
   "outputs": [
    {
     "name": "stdout",
     "output_type": "stream",
     "text": [
      "0.2987012987012987\n"
     ]
    }
   ],
   "source": [
    "print(mean_squared_error(Y_test, Y_pred))"
   ]
  },
  {
   "cell_type": "markdown",
   "metadata": {},
   "source": [
    "# Deep learning"
   ]
  },
  {
   "cell_type": "code",
   "execution_count": 53,
   "metadata": {},
   "outputs": [],
   "source": [
    "from sklearn.neural_network import MLPClassifier\n",
    "mlp=MLPClassifier(hidden_layer_sizes=(8,8))"
   ]
  },
  {
   "cell_type": "code",
   "execution_count": 54,
   "metadata": {},
   "outputs": [
    {
     "name": "stderr",
     "output_type": "stream",
     "text": [
      "C:\\Users\\Rahul Airan\\anaconda3\\lib\\site-packages\\sklearn\\neural_network\\_multilayer_perceptron.py:582: ConvergenceWarning: Stochastic Optimizer: Maximum iterations (200) reached and the optimization hasn't converged yet.\n",
      "  warnings.warn(\n"
     ]
    },
    {
     "data": {
      "text/plain": [
       "MLPClassifier(hidden_layer_sizes=(8, 8))"
      ]
     },
     "execution_count": 54,
     "metadata": {},
     "output_type": "execute_result"
    }
   ],
   "source": [
    "mlp.fit(X_train,Y_train)"
   ]
  },
  {
   "cell_type": "code",
   "execution_count": 55,
   "metadata": {},
   "outputs": [],
   "source": [
    "Y_pred=mlp.predict(X_test)"
   ]
  },
  {
   "cell_type": "code",
   "execution_count": 56,
   "metadata": {},
   "outputs": [
    {
     "data": {
      "text/plain": [
       "0.7467532467532467"
      ]
     },
     "execution_count": 56,
     "metadata": {},
     "output_type": "execute_result"
    }
   ],
   "source": [
    "accuracy_score(Y_test,Y_pred)"
   ]
  },
  {
   "cell_type": "code",
   "execution_count": 57,
   "metadata": {},
   "outputs": [
    {
     "name": "stdout",
     "output_type": "stream",
     "text": [
      "0.2532467532467532\n"
     ]
    }
   ],
   "source": [
    "print(mean_squared_error(Y_test, Y_pred))"
   ]
  },
  {
   "cell_type": "markdown",
   "metadata": {},
   "source": [
    "# Artificial Neural Network"
   ]
  },
  {
   "cell_type": "code",
   "execution_count": 58,
   "metadata": {},
   "outputs": [],
   "source": [
    "import tensorflow as tf\n",
    "import tensorflow.keras as keras\n",
    "from tensorflow.keras.models import Sequential\n",
    "from tensorflow.keras.layers import Dense,Dropout"
   ]
  },
  {
   "cell_type": "code",
   "execution_count": 59,
   "metadata": {},
   "outputs": [],
   "source": [
    "from tensorflow.keras import metrics\n",
    "model = Sequential()\n",
    "\n",
    "# https://stats.stackexchange.com/questions/181/how-to-choose-the-number-of-hidden-layers-and-nodes-in-a-feedforward-neural-netw\n",
    "\n",
    "model.add(Dense(units=7,activation='relu'))\n",
    "\n",
    "model.add(Dense(units=7,activation='relu'))\n",
    "model.add(Dense(units=7,activation='relu'))\n",
    "model.add(Dense(units=7,activation='relu'))\n",
    "model.add(Dense(1))\n",
    "\n",
    "model.compile(optimizer='adam',loss='mse',metrics=[metrics.mae, metrics.categorical_accuracy])\n",
    "\n",
    "from tensorflow.keras.callbacks import EarlyStopping\n",
    "\n",
    "early_stop=EarlyStopping(monitor='val_loss',verbose=1,patience=25)\n",
    "\n"
   ]
  },
  {
   "cell_type": "code",
   "execution_count": 60,
   "metadata": {},
   "outputs": [
    {
     "name": "stdout",
     "output_type": "stream",
     "text": [
      "Epoch 1/600\n",
      "20/20 [==============================] - 3s 59ms/step - loss: 0.2508 - mean_absolute_error: 0.3713 - categorical_accuracy: 1.0000 - val_loss: 0.2311 - val_mean_absolute_error: 0.4054 - val_categorical_accuracy: 1.0000\n",
      "Epoch 2/600\n",
      "20/20 [==============================] - 0s 6ms/step - loss: 0.2220 - mean_absolute_error: 0.4133 - categorical_accuracy: 1.0000 - val_loss: 0.2129 - val_mean_absolute_error: 0.4318 - val_categorical_accuracy: 1.0000\n",
      "Epoch 3/600\n",
      "20/20 [==============================] - 0s 5ms/step - loss: 0.2133 - mean_absolute_error: 0.4379 - categorical_accuracy: 1.0000 - val_loss: 0.2114 - val_mean_absolute_error: 0.4384 - val_categorical_accuracy: 1.0000\n",
      "Epoch 4/600\n",
      "20/20 [==============================] - 0s 4ms/step - loss: 0.2074 - mean_absolute_error: 0.4349 - categorical_accuracy: 1.0000 - val_loss: 0.2103 - val_mean_absolute_error: 0.4318 - val_categorical_accuracy: 1.0000\n",
      "Epoch 5/600\n",
      "20/20 [==============================] - 0s 4ms/step - loss: 0.2107 - mean_absolute_error: 0.4356 - categorical_accuracy: 1.0000 - val_loss: 0.2087 - val_mean_absolute_error: 0.4335 - val_categorical_accuracy: 1.0000\n",
      "Epoch 6/600\n",
      "20/20 [==============================] - 0s 5ms/step - loss: 0.2061 - mean_absolute_error: 0.4324 - categorical_accuracy: 1.0000 - val_loss: 0.2071 - val_mean_absolute_error: 0.4287 - val_categorical_accuracy: 1.0000\n",
      "Epoch 7/600\n",
      "20/20 [==============================] - 0s 6ms/step - loss: 0.2081 - mean_absolute_error: 0.4338 - categorical_accuracy: 1.0000 - val_loss: 0.2053 - val_mean_absolute_error: 0.4270 - val_categorical_accuracy: 1.0000\n",
      "Epoch 8/600\n",
      "20/20 [==============================] - 0s 6ms/step - loss: 0.2158 - mean_absolute_error: 0.4422 - categorical_accuracy: 1.0000 - val_loss: 0.2036 - val_mean_absolute_error: 0.4244 - val_categorical_accuracy: 1.0000\n",
      "Epoch 9/600\n",
      "20/20 [==============================] - 0s 6ms/step - loss: 0.1989 - mean_absolute_error: 0.4217 - categorical_accuracy: 1.0000 - val_loss: 0.2024 - val_mean_absolute_error: 0.4178 - val_categorical_accuracy: 1.0000\n",
      "Epoch 10/600\n",
      "20/20 [==============================] - 0s 5ms/step - loss: 0.1935 - mean_absolute_error: 0.4123 - categorical_accuracy: 1.0000 - val_loss: 0.2002 - val_mean_absolute_error: 0.4207 - val_categorical_accuracy: 1.0000\n",
      "Epoch 11/600\n",
      "20/20 [==============================] - 0s 5ms/step - loss: 0.1931 - mean_absolute_error: 0.4156 - categorical_accuracy: 1.0000 - val_loss: 0.1986 - val_mean_absolute_error: 0.4154 - val_categorical_accuracy: 1.0000\n",
      "Epoch 12/600\n",
      "20/20 [==============================] - 0s 5ms/step - loss: 0.1966 - mean_absolute_error: 0.4172 - categorical_accuracy: 1.0000 - val_loss: 0.1969 - val_mean_absolute_error: 0.4129 - val_categorical_accuracy: 1.0000\n",
      "Epoch 13/600\n",
      "20/20 [==============================] - 0s 7ms/step - loss: 0.1990 - mean_absolute_error: 0.4184 - categorical_accuracy: 1.0000 - val_loss: 0.1957 - val_mean_absolute_error: 0.4073 - val_categorical_accuracy: 1.0000\n",
      "Epoch 14/600\n",
      "20/20 [==============================] - 0s 7ms/step - loss: 0.1834 - mean_absolute_error: 0.3959 - categorical_accuracy: 1.0000 - val_loss: 0.1936 - val_mean_absolute_error: 0.4069 - val_categorical_accuracy: 1.0000\n",
      "Epoch 15/600\n",
      "20/20 [==============================] - 0s 6ms/step - loss: 0.1880 - mean_absolute_error: 0.4082 - categorical_accuracy: 1.0000 - val_loss: 0.1920 - val_mean_absolute_error: 0.4078 - val_categorical_accuracy: 1.0000\n",
      "Epoch 16/600\n",
      "20/20 [==============================] - 0s 5ms/step - loss: 0.1895 - mean_absolute_error: 0.4087 - categorical_accuracy: 1.0000 - val_loss: 0.1903 - val_mean_absolute_error: 0.3993 - val_categorical_accuracy: 1.0000\n",
      "Epoch 17/600\n",
      "20/20 [==============================] - 0s 7ms/step - loss: 0.1881 - mean_absolute_error: 0.4011 - categorical_accuracy: 1.0000 - val_loss: 0.1886 - val_mean_absolute_error: 0.3969 - val_categorical_accuracy: 1.0000\n",
      "Epoch 18/600\n",
      "20/20 [==============================] - 0s 7ms/step - loss: 0.1812 - mean_absolute_error: 0.3992 - categorical_accuracy: 1.0000 - val_loss: 0.1869 - val_mean_absolute_error: 0.3942 - val_categorical_accuracy: 1.0000\n",
      "Epoch 19/600\n",
      "20/20 [==============================] - 0s 6ms/step - loss: 0.1832 - mean_absolute_error: 0.3935 - categorical_accuracy: 1.0000 - val_loss: 0.1856 - val_mean_absolute_error: 0.3870 - val_categorical_accuracy: 1.0000\n",
      "Epoch 20/600\n",
      "20/20 [==============================] - 0s 5ms/step - loss: 0.1695 - mean_absolute_error: 0.3791 - categorical_accuracy: 1.0000 - val_loss: 0.1837 - val_mean_absolute_error: 0.3856 - val_categorical_accuracy: 1.0000\n",
      "Epoch 21/600\n",
      "20/20 [==============================] - 0s 6ms/step - loss: 0.1771 - mean_absolute_error: 0.3895 - categorical_accuracy: 1.0000 - val_loss: 0.1822 - val_mean_absolute_error: 0.3810 - val_categorical_accuracy: 1.0000\n",
      "Epoch 22/600\n",
      "20/20 [==============================] - 0s 6ms/step - loss: 0.1687 - mean_absolute_error: 0.3709 - categorical_accuracy: 1.0000 - val_loss: 0.1810 - val_mean_absolute_error: 0.3762 - val_categorical_accuracy: 1.0000\n",
      "Epoch 23/600\n",
      "20/20 [==============================] - 0s 6ms/step - loss: 0.1659 - mean_absolute_error: 0.3696 - categorical_accuracy: 1.0000 - val_loss: 0.1796 - val_mean_absolute_error: 0.3721 - val_categorical_accuracy: 1.0000\n",
      "Epoch 24/600\n",
      "20/20 [==============================] - 0s 5ms/step - loss: 0.1715 - mean_absolute_error: 0.3724 - categorical_accuracy: 1.0000 - val_loss: 0.1786 - val_mean_absolute_error: 0.3663 - val_categorical_accuracy: 1.0000\n",
      "Epoch 25/600\n",
      "20/20 [==============================] - 0s 4ms/step - loss: 0.1731 - mean_absolute_error: 0.3748 - categorical_accuracy: 1.0000 - val_loss: 0.1772 - val_mean_absolute_error: 0.3660 - val_categorical_accuracy: 1.0000\n",
      "Epoch 26/600\n",
      "20/20 [==============================] - 0s 4ms/step - loss: 0.1573 - mean_absolute_error: 0.3522 - categorical_accuracy: 1.0000 - val_loss: 0.1765 - val_mean_absolute_error: 0.3612 - val_categorical_accuracy: 1.0000\n",
      "Epoch 27/600\n",
      "20/20 [==============================] - 0s 5ms/step - loss: 0.1548 - mean_absolute_error: 0.3460 - categorical_accuracy: 1.0000 - val_loss: 0.1756 - val_mean_absolute_error: 0.3552 - val_categorical_accuracy: 1.0000\n",
      "Epoch 28/600\n",
      "20/20 [==============================] - 0s 4ms/step - loss: 0.1680 - mean_absolute_error: 0.3577 - categorical_accuracy: 1.0000 - val_loss: 0.1748 - val_mean_absolute_error: 0.3535 - val_categorical_accuracy: 1.0000\n",
      "Epoch 29/600\n",
      "20/20 [==============================] - 0s 4ms/step - loss: 0.1562 - mean_absolute_error: 0.3427 - categorical_accuracy: 1.0000 - val_loss: 0.1742 - val_mean_absolute_error: 0.3500 - val_categorical_accuracy: 1.0000\n",
      "Epoch 30/600\n",
      "20/20 [==============================] - 0s 5ms/step - loss: 0.1646 - mean_absolute_error: 0.3539 - categorical_accuracy: 1.0000 - val_loss: 0.1736 - val_mean_absolute_error: 0.3473 - val_categorical_accuracy: 1.0000\n",
      "Epoch 31/600\n",
      "20/20 [==============================] - 0s 7ms/step - loss: 0.1531 - mean_absolute_error: 0.3352 - categorical_accuracy: 1.0000 - val_loss: 0.1736 - val_mean_absolute_error: 0.3428 - val_categorical_accuracy: 1.0000\n",
      "Epoch 32/600\n",
      "20/20 [==============================] - 0s 7ms/step - loss: 0.1564 - mean_absolute_error: 0.3318 - categorical_accuracy: 1.0000 - val_loss: 0.1732 - val_mean_absolute_error: 0.3417 - val_categorical_accuracy: 1.0000\n",
      "Epoch 33/600\n",
      "20/20 [==============================] - 0s 6ms/step - loss: 0.1558 - mean_absolute_error: 0.3335 - categorical_accuracy: 1.0000 - val_loss: 0.1730 - val_mean_absolute_error: 0.3391 - val_categorical_accuracy: 1.0000\n",
      "Epoch 34/600\n",
      "20/20 [==============================] - 0s 5ms/step - loss: 0.1606 - mean_absolute_error: 0.3340 - categorical_accuracy: 1.0000 - val_loss: 0.1732 - val_mean_absolute_error: 0.3360 - val_categorical_accuracy: 1.0000\n",
      "Epoch 35/600\n",
      "20/20 [==============================] - 0s 4ms/step - loss: 0.1556 - mean_absolute_error: 0.3276 - categorical_accuracy: 1.0000 - val_loss: 0.1730 - val_mean_absolute_error: 0.3366 - val_categorical_accuracy: 1.0000\n",
      "Epoch 36/600\n",
      "20/20 [==============================] - 0s 4ms/step - loss: 0.1591 - mean_absolute_error: 0.3285 - categorical_accuracy: 1.0000 - val_loss: 0.1729 - val_mean_absolute_error: 0.3341 - val_categorical_accuracy: 1.0000\n"
     ]
    },
    {
     "name": "stdout",
     "output_type": "stream",
     "text": [
      "Epoch 37/600\n",
      "20/20 [==============================] - 0s 4ms/step - loss: 0.1415 - mean_absolute_error: 0.3086 - categorical_accuracy: 1.0000 - val_loss: 0.1732 - val_mean_absolute_error: 0.3330 - val_categorical_accuracy: 1.0000\n",
      "Epoch 38/600\n",
      "20/20 [==============================] - 0s 6ms/step - loss: 0.1623 - mean_absolute_error: 0.3354 - categorical_accuracy: 1.0000 - val_loss: 0.1732 - val_mean_absolute_error: 0.3312 - val_categorical_accuracy: 1.0000\n",
      "Epoch 39/600\n",
      "20/20 [==============================] - 0s 4ms/step - loss: 0.1488 - mean_absolute_error: 0.3162 - categorical_accuracy: 1.0000 - val_loss: 0.1736 - val_mean_absolute_error: 0.3305 - val_categorical_accuracy: 1.0000\n",
      "Epoch 40/600\n",
      "20/20 [==============================] - 0s 4ms/step - loss: 0.1409 - mean_absolute_error: 0.3024 - categorical_accuracy: 1.0000 - val_loss: 0.1738 - val_mean_absolute_error: 0.3293 - val_categorical_accuracy: 1.0000\n",
      "Epoch 41/600\n",
      "20/20 [==============================] - 0s 5ms/step - loss: 0.1494 - mean_absolute_error: 0.3148 - categorical_accuracy: 1.0000 - val_loss: 0.1737 - val_mean_absolute_error: 0.3276 - val_categorical_accuracy: 1.0000\n",
      "Epoch 42/600\n",
      "20/20 [==============================] - 0s 4ms/step - loss: 0.1414 - mean_absolute_error: 0.3011 - categorical_accuracy: 1.0000 - val_loss: 0.1742 - val_mean_absolute_error: 0.3273 - val_categorical_accuracy: 1.0000\n",
      "Epoch 43/600\n",
      "20/20 [==============================] - 0s 6ms/step - loss: 0.1466 - mean_absolute_error: 0.3115 - categorical_accuracy: 1.0000 - val_loss: 0.1744 - val_mean_absolute_error: 0.3272 - val_categorical_accuracy: 1.0000\n",
      "Epoch 44/600\n",
      "20/20 [==============================] - 0s 5ms/step - loss: 0.1543 - mean_absolute_error: 0.3202 - categorical_accuracy: 1.0000 - val_loss: 0.1746 - val_mean_absolute_error: 0.3258 - val_categorical_accuracy: 1.0000\n",
      "Epoch 45/600\n",
      "20/20 [==============================] - 0s 5ms/step - loss: 0.1623 - mean_absolute_error: 0.3277 - categorical_accuracy: 1.0000 - val_loss: 0.1747 - val_mean_absolute_error: 0.3236 - val_categorical_accuracy: 1.0000\n",
      "Epoch 46/600\n",
      "20/20 [==============================] - 0s 4ms/step - loss: 0.1400 - mean_absolute_error: 0.3004 - categorical_accuracy: 1.0000 - val_loss: 0.1749 - val_mean_absolute_error: 0.3224 - val_categorical_accuracy: 1.0000\n",
      "Epoch 47/600\n",
      "20/20 [==============================] - 0s 5ms/step - loss: 0.1528 - mean_absolute_error: 0.3155 - categorical_accuracy: 1.0000 - val_loss: 0.1750 - val_mean_absolute_error: 0.3222 - val_categorical_accuracy: 1.0000\n",
      "Epoch 48/600\n",
      "20/20 [==============================] - 0s 4ms/step - loss: 0.1283 - mean_absolute_error: 0.2842 - categorical_accuracy: 1.0000 - val_loss: 0.1748 - val_mean_absolute_error: 0.3192 - val_categorical_accuracy: 1.0000\n",
      "Epoch 49/600\n",
      "20/20 [==============================] - 0s 4ms/step - loss: 0.1544 - mean_absolute_error: 0.3105 - categorical_accuracy: 1.0000 - val_loss: 0.1747 - val_mean_absolute_error: 0.3186 - val_categorical_accuracy: 1.0000\n",
      "Epoch 50/600\n",
      "20/20 [==============================] - 0s 4ms/step - loss: 0.1452 - mean_absolute_error: 0.2997 - categorical_accuracy: 1.0000 - val_loss: 0.1752 - val_mean_absolute_error: 0.3190 - val_categorical_accuracy: 1.0000\n",
      "Epoch 51/600\n",
      "20/20 [==============================] - 0s 4ms/step - loss: 0.1437 - mean_absolute_error: 0.3010 - categorical_accuracy: 1.0000 - val_loss: 0.1751 - val_mean_absolute_error: 0.3198 - val_categorical_accuracy: 1.0000\n",
      "Epoch 52/600\n",
      "20/20 [==============================] - 0s 4ms/step - loss: 0.1448 - mean_absolute_error: 0.3023 - categorical_accuracy: 1.0000 - val_loss: 0.1757 - val_mean_absolute_error: 0.3188 - val_categorical_accuracy: 1.0000\n",
      "Epoch 53/600\n",
      "20/20 [==============================] - 0s 4ms/step - loss: 0.1420 - mean_absolute_error: 0.2985 - categorical_accuracy: 1.0000 - val_loss: 0.1759 - val_mean_absolute_error: 0.3173 - val_categorical_accuracy: 1.0000\n",
      "Epoch 54/600\n",
      "20/20 [==============================] - 0s 6ms/step - loss: 0.1506 - mean_absolute_error: 0.3005 - categorical_accuracy: 1.0000 - val_loss: 0.1757 - val_mean_absolute_error: 0.3168 - val_categorical_accuracy: 1.0000\n",
      "Epoch 55/600\n",
      "20/20 [==============================] - 0s 5ms/step - loss: 0.1489 - mean_absolute_error: 0.3050 - categorical_accuracy: 1.0000 - val_loss: 0.1755 - val_mean_absolute_error: 0.3164 - val_categorical_accuracy: 1.0000\n",
      "Epoch 56/600\n",
      "20/20 [==============================] - 0s 5ms/step - loss: 0.1506 - mean_absolute_error: 0.3080 - categorical_accuracy: 1.0000 - val_loss: 0.1765 - val_mean_absolute_error: 0.3170 - val_categorical_accuracy: 1.0000\n",
      "Epoch 57/600\n",
      "20/20 [==============================] - 0s 5ms/step - loss: 0.1425 - mean_absolute_error: 0.2919 - categorical_accuracy: 1.0000 - val_loss: 0.1768 - val_mean_absolute_error: 0.3163 - val_categorical_accuracy: 1.0000\n",
      "Epoch 58/600\n",
      "20/20 [==============================] - 0s 4ms/step - loss: 0.1378 - mean_absolute_error: 0.2866 - categorical_accuracy: 1.0000 - val_loss: 0.1776 - val_mean_absolute_error: 0.3161 - val_categorical_accuracy: 1.0000\n",
      "Epoch 59/600\n",
      "20/20 [==============================] - 0s 4ms/step - loss: 0.1515 - mean_absolute_error: 0.3068 - categorical_accuracy: 1.0000 - val_loss: 0.1772 - val_mean_absolute_error: 0.3148 - val_categorical_accuracy: 1.0000\n",
      "Epoch 60/600\n",
      "20/20 [==============================] - 0s 4ms/step - loss: 0.1416 - mean_absolute_error: 0.2892 - categorical_accuracy: 1.0000 - val_loss: 0.1774 - val_mean_absolute_error: 0.3152 - val_categorical_accuracy: 1.0000\n",
      "Epoch 61/600\n",
      "20/20 [==============================] - 0s 4ms/step - loss: 0.1536 - mean_absolute_error: 0.3095 - categorical_accuracy: 1.0000 - val_loss: 0.1775 - val_mean_absolute_error: 0.3141 - val_categorical_accuracy: 1.0000\n",
      "Epoch 00061: early stopping\n"
     ]
    },
    {
     "data": {
      "text/plain": [
       "<tensorflow.python.keras.callbacks.History at 0x1ff3e495430>"
      ]
     },
     "execution_count": 60,
     "metadata": {},
     "output_type": "execute_result"
    }
   ],
   "source": [
    "model.fit(x=X_train,y=Y_train,epochs=600,validation_data=(X_test,Y_test),\n",
    "         callbacks=[early_stop])"
   ]
  },
  {
   "cell_type": "code",
   "execution_count": 61,
   "metadata": {},
   "outputs": [],
   "source": [
    "losses=pd.DataFrame(model.history.history)"
   ]
  },
  {
   "cell_type": "code",
   "execution_count": 62,
   "metadata": {},
   "outputs": [
    {
     "data": {
      "text/plain": [
       "<AxesSubplot:>"
      ]
     },
     "execution_count": 62,
     "metadata": {},
     "output_type": "execute_result"
    },
    {
     "data": {
      "image/png": "[encoded data removed]",
      "text/plain": [
       "<Figure size 432x288 with 1 Axes>"
      ]
     },
     "metadata": {
      "needs_background": "light"
     },
     "output_type": "display_data"
    }
   ],
   "source": [
    "losses.plot()"
   ]
  },
  {
   "cell_type": "code",
   "execution_count": 63,
   "metadata": {},
   "outputs": [],
   "source": [
    "from sklearn.metrics import mean_squared_error,mean_absolute_error"
   ]
  },
  {
   "cell_type": "code",
   "execution_count": 64,
   "metadata": {},
   "outputs": [],
   "source": [
    "predictions=model.predict(X_test)"
   ]
  },
  {
   "cell_type": "code",
   "execution_count": 65,
   "metadata": {},
   "outputs": [
    {
     "data": {
      "text/plain": [
       "0.17754313025477278"
      ]
     },
     "execution_count": 65,
     "metadata": {},
     "output_type": "execute_result"
    }
   ],
   "source": [
    "mean_squared_error(Y_test,predictions)"
   ]
  },
  {
   "cell_type": "code",
   "execution_count": 66,
   "metadata": {},
   "outputs": [
    {
     "data": {
      "text/plain": [
       "0.31414861672303895"
      ]
     },
     "execution_count": 66,
     "metadata": {},
     "output_type": "execute_result"
    }
   ],
   "source": [
    "mean_absolute_error(Y_test,predictions)"
   ]
  },
  {
   "cell_type": "code",
   "execution_count": 67,
   "metadata": {},
   "outputs": [],
   "source": [
    "model = Sequential()\n",
    "\n",
    "# https://stats.stackexchange.com/questions/181/how-to-choose-the-number-of-hidden-layers-and-nodes-in-a-feedforward-neural-netw\n",
    "\n",
    "model.add(Dense(units=7,activation='relu'))\n",
    "\n",
    "model.add(Dense(units=4,activation='relu'))\n",
    "\n",
    "\n",
    "model.add(Dense(units=1,activation='sigmoid'))\n",
    "\n",
    "model.compile(optimizer='adam',loss='mse',metrics=[metrics.mae, metrics.categorical_accuracy])\n"
   ]
  },
  {
   "cell_type": "code",
   "execution_count": 68,
   "metadata": {},
   "outputs": [],
   "source": [
    "early_stop=EarlyStopping(monitor='val_loss',verbose=1,patience=25)"
   ]
  },
  {
   "cell_type": "code",
   "execution_count": 69,
   "metadata": {},
   "outputs": [
    {
     "name": "stdout",
     "output_type": "stream",
     "text": [
      "Epoch 1/600\n",
      "20/20 [==============================] - 1s 21ms/step - loss: 0.2532 - mean_absolute_error: 0.5017 - categorical_accuracy: 1.0000 - val_loss: 0.2429 - val_mean_absolute_error: 0.4906 - val_categorical_accuracy: 1.0000\n",
      "Epoch 2/600\n",
      "20/20 [==============================] - 0s 5ms/step - loss: 0.2439 - mean_absolute_error: 0.4908 - categorical_accuracy: 1.0000 - val_loss: 0.2366 - val_mean_absolute_error: 0.4815 - val_categorical_accuracy: 1.0000\n",
      "Epoch 3/600\n",
      "20/20 [==============================] - 0s 5ms/step - loss: 0.2379 - mean_absolute_error: 0.4818 - categorical_accuracy: 1.0000 - val_loss: 0.2324 - val_mean_absolute_error: 0.4740 - val_categorical_accuracy: 1.0000\n",
      "Epoch 4/600\n",
      "20/20 [==============================] - 0s 6ms/step - loss: 0.2339 - mean_absolute_error: 0.4743 - categorical_accuracy: 1.0000 - val_loss: 0.2288 - val_mean_absolute_error: 0.4670 - val_categorical_accuracy: 1.0000\n",
      "Epoch 5/600\n",
      "20/20 [==============================] - 0s 6ms/step - loss: 0.2302 - mean_absolute_error: 0.4676 - categorical_accuracy: 1.0000 - val_loss: 0.2263 - val_mean_absolute_error: 0.4621 - val_categorical_accuracy: 1.0000\n",
      "Epoch 6/600\n",
      "20/20 [==============================] - 0s 8ms/step - loss: 0.2305 - mean_absolute_error: 0.4663 - categorical_accuracy: 1.0000 - val_loss: 0.2241 - val_mean_absolute_error: 0.4586 - val_categorical_accuracy: 1.0000\n",
      "Epoch 7/600\n",
      "20/20 [==============================] - 0s 7ms/step - loss: 0.2273 - mean_absolute_error: 0.4618 - categorical_accuracy: 1.0000 - val_loss: 0.2218 - val_mean_absolute_error: 0.4564 - val_categorical_accuracy: 1.0000\n",
      "Epoch 8/600\n",
      "20/20 [==============================] - 0s 6ms/step - loss: 0.2162 - mean_absolute_error: 0.4508 - categorical_accuracy: 1.0000 - val_loss: 0.2197 - val_mean_absolute_error: 0.4545 - val_categorical_accuracy: 1.0000\n",
      "Epoch 9/600\n",
      "20/20 [==============================] - 0s 6ms/step - loss: 0.2202 - mean_absolute_error: 0.4548 - categorical_accuracy: 1.0000 - val_loss: 0.2176 - val_mean_absolute_error: 0.4497 - val_categorical_accuracy: 1.0000\n",
      "Epoch 10/600\n",
      "20/20 [==============================] - 0s 5ms/step - loss: 0.2177 - mean_absolute_error: 0.4492 - categorical_accuracy: 1.0000 - val_loss: 0.2154 - val_mean_absolute_error: 0.4467 - val_categorical_accuracy: 1.0000\n",
      "Epoch 11/600\n",
      "20/20 [==============================] - 0s 6ms/step - loss: 0.2168 - mean_absolute_error: 0.4478 - categorical_accuracy: 1.0000 - val_loss: 0.2132 - val_mean_absolute_error: 0.4445 - val_categorical_accuracy: 1.0000\n",
      "Epoch 12/600\n",
      "20/20 [==============================] - 0s 6ms/step - loss: 0.2167 - mean_absolute_error: 0.4487 - categorical_accuracy: 1.0000 - val_loss: 0.2113 - val_mean_absolute_error: 0.4425 - val_categorical_accuracy: 1.0000\n",
      "Epoch 13/600\n",
      "20/20 [==============================] - 0s 6ms/step - loss: 0.2117 - mean_absolute_error: 0.4424 - categorical_accuracy: 1.0000 - val_loss: 0.2091 - val_mean_absolute_error: 0.4366 - val_categorical_accuracy: 1.0000\n",
      "Epoch 14/600\n",
      "20/20 [==============================] - 0s 6ms/step - loss: 0.2125 - mean_absolute_error: 0.4414 - categorical_accuracy: 1.0000 - val_loss: 0.2072 - val_mean_absolute_error: 0.4351 - val_categorical_accuracy: 1.0000\n",
      "Epoch 15/600\n",
      "20/20 [==============================] - 0s 6ms/step - loss: 0.2088 - mean_absolute_error: 0.4372 - categorical_accuracy: 1.0000 - val_loss: 0.2051 - val_mean_absolute_error: 0.4316 - val_categorical_accuracy: 1.0000\n",
      "Epoch 16/600\n",
      "20/20 [==============================] - 0s 6ms/step - loss: 0.2083 - mean_absolute_error: 0.4355 - categorical_accuracy: 1.0000 - val_loss: 0.2032 - val_mean_absolute_error: 0.4282 - val_categorical_accuracy: 1.0000\n",
      "Epoch 17/600\n",
      "20/20 [==============================] - 0s 6ms/step - loss: 0.2090 - mean_absolute_error: 0.4358 - categorical_accuracy: 1.0000 - val_loss: 0.2015 - val_mean_absolute_error: 0.4246 - val_categorical_accuracy: 1.0000\n",
      "Epoch 18/600\n",
      "20/20 [==============================] - 0s 5ms/step - loss: 0.1999 - mean_absolute_error: 0.4221 - categorical_accuracy: 1.0000 - val_loss: 0.2000 - val_mean_absolute_error: 0.4183 - val_categorical_accuracy: 1.0000\n",
      "Epoch 19/600\n",
      "20/20 [==============================] - 0s 5ms/step - loss: 0.2002 - mean_absolute_error: 0.4203 - categorical_accuracy: 1.0000 - val_loss: 0.1981 - val_mean_absolute_error: 0.4172 - val_categorical_accuracy: 1.0000\n",
      "Epoch 20/600\n",
      "20/20 [==============================] - 0s 3ms/step - loss: 0.1983 - mean_absolute_error: 0.4184 - categorical_accuracy: 1.0000 - val_loss: 0.1965 - val_mean_absolute_error: 0.4145 - val_categorical_accuracy: 1.0000\n",
      "Epoch 21/600\n",
      "20/20 [==============================] - 0s 4ms/step - loss: 0.1920 - mean_absolute_error: 0.4095 - categorical_accuracy: 1.0000 - val_loss: 0.1952 - val_mean_absolute_error: 0.4093 - val_categorical_accuracy: 1.0000\n",
      "Epoch 22/600\n",
      "20/20 [==============================] - 0s 3ms/step - loss: 0.1983 - mean_absolute_error: 0.4162 - categorical_accuracy: 1.0000 - val_loss: 0.1943 - val_mean_absolute_error: 0.4129 - val_categorical_accuracy: 1.0000\n",
      "Epoch 23/600\n",
      "20/20 [==============================] - 0s 6ms/step - loss: 0.1952 - mean_absolute_error: 0.4155 - categorical_accuracy: 1.0000 - val_loss: 0.1927 - val_mean_absolute_error: 0.4056 - val_categorical_accuracy: 1.0000\n",
      "Epoch 24/600\n",
      "20/20 [==============================] - 0s 5ms/step - loss: 0.1953 - mean_absolute_error: 0.4098 - categorical_accuracy: 1.0000 - val_loss: 0.1916 - val_mean_absolute_error: 0.4011 - val_categorical_accuracy: 1.0000\n",
      "Epoch 25/600\n",
      "20/20 [==============================] - 0s 4ms/step - loss: 0.1959 - mean_absolute_error: 0.4085 - categorical_accuracy: 1.0000 - val_loss: 0.1903 - val_mean_absolute_error: 0.4021 - val_categorical_accuracy: 1.0000\n",
      "Epoch 26/600\n",
      "20/20 [==============================] - 0s 4ms/step - loss: 0.1928 - mean_absolute_error: 0.4060 - categorical_accuracy: 1.0000 - val_loss: 0.1891 - val_mean_absolute_error: 0.3982 - val_categorical_accuracy: 1.0000\n",
      "Epoch 27/600\n",
      "20/20 [==============================] - 0s 5ms/step - loss: 0.1821 - mean_absolute_error: 0.3928 - categorical_accuracy: 1.0000 - val_loss: 0.1881 - val_mean_absolute_error: 0.3967 - val_categorical_accuracy: 1.0000\n",
      "Epoch 28/600\n",
      "20/20 [==============================] - 0s 4ms/step - loss: 0.1855 - mean_absolute_error: 0.3954 - categorical_accuracy: 1.0000 - val_loss: 0.1871 - val_mean_absolute_error: 0.3923 - val_categorical_accuracy: 1.0000\n",
      "Epoch 29/600\n",
      "20/20 [==============================] - 0s 4ms/step - loss: 0.1861 - mean_absolute_error: 0.3953 - categorical_accuracy: 1.0000 - val_loss: 0.1863 - val_mean_absolute_error: 0.3910 - val_categorical_accuracy: 1.0000\n",
      "Epoch 30/600\n",
      "20/20 [==============================] - 0s 5ms/step - loss: 0.1877 - mean_absolute_error: 0.3956 - categorical_accuracy: 1.0000 - val_loss: 0.1855 - val_mean_absolute_error: 0.3907 - val_categorical_accuracy: 1.0000\n",
      "Epoch 31/600\n",
      "20/20 [==============================] - 0s 5ms/step - loss: 0.1823 - mean_absolute_error: 0.3914 - categorical_accuracy: 1.0000 - val_loss: 0.1847 - val_mean_absolute_error: 0.3859 - val_categorical_accuracy: 1.0000\n",
      "Epoch 32/600\n",
      "20/20 [==============================] - 0s 6ms/step - loss: 0.1822 - mean_absolute_error: 0.3893 - categorical_accuracy: 1.0000 - val_loss: 0.1843 - val_mean_absolute_error: 0.3885 - val_categorical_accuracy: 1.0000\n",
      "Epoch 33/600\n",
      "20/20 [==============================] - 0s 5ms/step - loss: 0.1710 - mean_absolute_error: 0.3742 - categorical_accuracy: 1.0000 - val_loss: 0.1835 - val_mean_absolute_error: 0.3845 - val_categorical_accuracy: 1.0000\n",
      "Epoch 34/600\n",
      "20/20 [==============================] - 0s 6ms/step - loss: 0.1822 - mean_absolute_error: 0.3880 - categorical_accuracy: 1.0000 - val_loss: 0.1831 - val_mean_absolute_error: 0.3843 - val_categorical_accuracy: 1.0000\n",
      "Epoch 35/600\n",
      "20/20 [==============================] - 0s 5ms/step - loss: 0.1816 - mean_absolute_error: 0.3883 - categorical_accuracy: 1.0000 - val_loss: 0.1826 - val_mean_absolute_error: 0.3829 - val_categorical_accuracy: 1.0000\n",
      "Epoch 36/600\n",
      "20/20 [==============================] - 0s 4ms/step - loss: 0.1816 - mean_absolute_error: 0.3845 - categorical_accuracy: 1.0000 - val_loss: 0.1820 - val_mean_absolute_error: 0.3811 - val_categorical_accuracy: 1.0000\n"
     ]
    },
    {
     "name": "stdout",
     "output_type": "stream",
     "text": [
      "Epoch 37/600\n",
      "20/20 [==============================] - 0s 4ms/step - loss: 0.1742 - mean_absolute_error: 0.3757 - categorical_accuracy: 1.0000 - val_loss: 0.1815 - val_mean_absolute_error: 0.3797 - val_categorical_accuracy: 1.0000\n",
      "Epoch 38/600\n",
      "20/20 [==============================] - 0s 5ms/step - loss: 0.1848 - mean_absolute_error: 0.3871 - categorical_accuracy: 1.0000 - val_loss: 0.1809 - val_mean_absolute_error: 0.3759 - val_categorical_accuracy: 1.0000\n",
      "Epoch 39/600\n",
      "20/20 [==============================] - 0s 4ms/step - loss: 0.1760 - mean_absolute_error: 0.3741 - categorical_accuracy: 1.0000 - val_loss: 0.1804 - val_mean_absolute_error: 0.3747 - val_categorical_accuracy: 1.0000\n",
      "Epoch 40/600\n",
      "20/20 [==============================] - 0s 5ms/step - loss: 0.1775 - mean_absolute_error: 0.3781 - categorical_accuracy: 1.0000 - val_loss: 0.1799 - val_mean_absolute_error: 0.3751 - val_categorical_accuracy: 1.0000\n",
      "Epoch 41/600\n",
      "20/20 [==============================] - 0s 5ms/step - loss: 0.1742 - mean_absolute_error: 0.3743 - categorical_accuracy: 1.0000 - val_loss: 0.1794 - val_mean_absolute_error: 0.3721 - val_categorical_accuracy: 1.0000\n",
      "Epoch 42/600\n",
      "20/20 [==============================] - 0s 5ms/step - loss: 0.1749 - mean_absolute_error: 0.3725 - categorical_accuracy: 1.0000 - val_loss: 0.1789 - val_mean_absolute_error: 0.3726 - val_categorical_accuracy: 1.0000\n",
      "Epoch 43/600\n",
      "20/20 [==============================] - 0s 4ms/step - loss: 0.1719 - mean_absolute_error: 0.3686 - categorical_accuracy: 1.0000 - val_loss: 0.1785 - val_mean_absolute_error: 0.3700 - val_categorical_accuracy: 1.0000\n",
      "Epoch 44/600\n",
      "20/20 [==============================] - 0s 5ms/step - loss: 0.1677 - mean_absolute_error: 0.3632 - categorical_accuracy: 1.0000 - val_loss: 0.1781 - val_mean_absolute_error: 0.3723 - val_categorical_accuracy: 1.0000\n",
      "Epoch 45/600\n",
      "20/20 [==============================] - 0s 4ms/step - loss: 0.1768 - mean_absolute_error: 0.3767 - categorical_accuracy: 1.0000 - val_loss: 0.1775 - val_mean_absolute_error: 0.3671 - val_categorical_accuracy: 1.0000\n",
      "Epoch 46/600\n",
      "20/20 [==============================] - 0s 5ms/step - loss: 0.1686 - mean_absolute_error: 0.3617 - categorical_accuracy: 1.0000 - val_loss: 0.1771 - val_mean_absolute_error: 0.3661 - val_categorical_accuracy: 1.0000\n",
      "Epoch 47/600\n",
      "20/20 [==============================] - 0s 6ms/step - loss: 0.1699 - mean_absolute_error: 0.3667 - categorical_accuracy: 1.0000 - val_loss: 0.1767 - val_mean_absolute_error: 0.3650 - val_categorical_accuracy: 1.0000\n",
      "Epoch 48/600\n",
      "20/20 [==============================] - 0s 6ms/step - loss: 0.1652 - mean_absolute_error: 0.3576 - categorical_accuracy: 1.0000 - val_loss: 0.1763 - val_mean_absolute_error: 0.3659 - val_categorical_accuracy: 1.0000\n",
      "Epoch 49/600\n",
      "20/20 [==============================] - 0s 6ms/step - loss: 0.1694 - mean_absolute_error: 0.3645 - categorical_accuracy: 1.0000 - val_loss: 0.1759 - val_mean_absolute_error: 0.3650 - val_categorical_accuracy: 1.0000\n",
      "Epoch 50/600\n",
      "20/20 [==============================] - 0s 6ms/step - loss: 0.1640 - mean_absolute_error: 0.3543 - categorical_accuracy: 1.0000 - val_loss: 0.1753 - val_mean_absolute_error: 0.3617 - val_categorical_accuracy: 1.0000\n",
      "Epoch 51/600\n",
      "20/20 [==============================] - 0s 7ms/step - loss: 0.1733 - mean_absolute_error: 0.3641 - categorical_accuracy: 1.0000 - val_loss: 0.1753 - val_mean_absolute_error: 0.3582 - val_categorical_accuracy: 1.0000\n",
      "Epoch 52/600\n",
      "20/20 [==============================] - 0s 5ms/step - loss: 0.1632 - mean_absolute_error: 0.3469 - categorical_accuracy: 1.0000 - val_loss: 0.1745 - val_mean_absolute_error: 0.3593 - val_categorical_accuracy: 1.0000\n",
      "Epoch 53/600\n",
      "20/20 [==============================] - 0s 5ms/step - loss: 0.1683 - mean_absolute_error: 0.3636 - categorical_accuracy: 1.0000 - val_loss: 0.1739 - val_mean_absolute_error: 0.3624 - val_categorical_accuracy: 1.0000\n",
      "Epoch 54/600\n",
      "20/20 [==============================] - 0s 5ms/step - loss: 0.1644 - mean_absolute_error: 0.3570 - categorical_accuracy: 1.0000 - val_loss: 0.1738 - val_mean_absolute_error: 0.3585 - val_categorical_accuracy: 1.0000\n",
      "Epoch 55/600\n",
      "20/20 [==============================] - 0s 5ms/step - loss: 0.1738 - mean_absolute_error: 0.3681 - categorical_accuracy: 1.0000 - val_loss: 0.1736 - val_mean_absolute_error: 0.3569 - val_categorical_accuracy: 1.0000\n",
      "Epoch 56/600\n",
      "20/20 [==============================] - 0s 5ms/step - loss: 0.1712 - mean_absolute_error: 0.3605 - categorical_accuracy: 1.0000 - val_loss: 0.1733 - val_mean_absolute_error: 0.3537 - val_categorical_accuracy: 1.0000\n",
      "Epoch 57/600\n",
      "20/20 [==============================] - 0s 6ms/step - loss: 0.1637 - mean_absolute_error: 0.3504 - categorical_accuracy: 1.0000 - val_loss: 0.1725 - val_mean_absolute_error: 0.3581 - val_categorical_accuracy: 1.0000\n",
      "Epoch 58/600\n",
      "20/20 [==============================] - 0s 5ms/step - loss: 0.1640 - mean_absolute_error: 0.3548 - categorical_accuracy: 1.0000 - val_loss: 0.1727 - val_mean_absolute_error: 0.3530 - val_categorical_accuracy: 1.0000\n",
      "Epoch 59/600\n",
      "20/20 [==============================] - 0s 5ms/step - loss: 0.1560 - mean_absolute_error: 0.3410 - categorical_accuracy: 1.0000 - val_loss: 0.1722 - val_mean_absolute_error: 0.3542 - val_categorical_accuracy: 1.0000\n",
      "Epoch 60/600\n",
      "20/20 [==============================] - 0s 5ms/step - loss: 0.1673 - mean_absolute_error: 0.3583 - categorical_accuracy: 1.0000 - val_loss: 0.1718 - val_mean_absolute_error: 0.3532 - val_categorical_accuracy: 1.0000\n",
      "Epoch 61/600\n",
      "20/20 [==============================] - 0s 4ms/step - loss: 0.1628 - mean_absolute_error: 0.3472 - categorical_accuracy: 1.0000 - val_loss: 0.1720 - val_mean_absolute_error: 0.3499 - val_categorical_accuracy: 1.0000\n",
      "Epoch 62/600\n",
      "20/20 [==============================] - 0s 4ms/step - loss: 0.1551 - mean_absolute_error: 0.3363 - categorical_accuracy: 1.0000 - val_loss: 0.1717 - val_mean_absolute_error: 0.3487 - val_categorical_accuracy: 1.0000\n",
      "Epoch 63/600\n",
      "20/20 [==============================] - 0s 4ms/step - loss: 0.1657 - mean_absolute_error: 0.3525 - categorical_accuracy: 1.0000 - val_loss: 0.1709 - val_mean_absolute_error: 0.3522 - val_categorical_accuracy: 1.0000\n",
      "Epoch 64/600\n",
      "20/20 [==============================] - 0s 4ms/step - loss: 0.1646 - mean_absolute_error: 0.3546 - categorical_accuracy: 1.0000 - val_loss: 0.1705 - val_mean_absolute_error: 0.3511 - val_categorical_accuracy: 1.0000\n",
      "Epoch 65/600\n",
      "20/20 [==============================] - 0s 4ms/step - loss: 0.1604 - mean_absolute_error: 0.3445 - categorical_accuracy: 1.0000 - val_loss: 0.1708 - val_mean_absolute_error: 0.3470 - val_categorical_accuracy: 1.0000\n",
      "Epoch 66/600\n",
      "20/20 [==============================] - 0s 4ms/step - loss: 0.1630 - mean_absolute_error: 0.3484 - categorical_accuracy: 1.0000 - val_loss: 0.1702 - val_mean_absolute_error: 0.3484 - val_categorical_accuracy: 1.0000\n",
      "Epoch 67/600\n",
      "20/20 [==============================] - 0s 4ms/step - loss: 0.1569 - mean_absolute_error: 0.3414 - categorical_accuracy: 1.0000 - val_loss: 0.1699 - val_mean_absolute_error: 0.3477 - val_categorical_accuracy: 1.0000\n",
      "Epoch 68/600\n",
      "20/20 [==============================] - 0s 4ms/step - loss: 0.1603 - mean_absolute_error: 0.3439 - categorical_accuracy: 1.0000 - val_loss: 0.1702 - val_mean_absolute_error: 0.3458 - val_categorical_accuracy: 1.0000\n",
      "Epoch 69/600\n",
      "20/20 [==============================] - 0s 4ms/step - loss: 0.1623 - mean_absolute_error: 0.3475 - categorical_accuracy: 1.0000 - val_loss: 0.1698 - val_mean_absolute_error: 0.3466 - val_categorical_accuracy: 1.0000\n",
      "Epoch 70/600\n",
      "20/20 [==============================] - 0s 4ms/step - loss: 0.1617 - mean_absolute_error: 0.3502 - categorical_accuracy: 1.0000 - val_loss: 0.1694 - val_mean_absolute_error: 0.3469 - val_categorical_accuracy: 1.0000\n",
      "Epoch 71/600\n",
      "20/20 [==============================] - 0s 4ms/step - loss: 0.1642 - mean_absolute_error: 0.3504 - categorical_accuracy: 1.0000 - val_loss: 0.1696 - val_mean_absolute_error: 0.3452 - val_categorical_accuracy: 1.0000\n",
      "Epoch 72/600\n",
      "20/20 [==============================] - 0s 4ms/step - loss: 0.1552 - mean_absolute_error: 0.3366 - categorical_accuracy: 1.0000 - val_loss: 0.1693 - val_mean_absolute_error: 0.3454 - val_categorical_accuracy: 1.0000\n"
     ]
    },
    {
     "name": "stdout",
     "output_type": "stream",
     "text": [
      "Epoch 73/600\n",
      "20/20 [==============================] - 0s 4ms/step - loss: 0.1606 - mean_absolute_error: 0.3467 - categorical_accuracy: 1.0000 - val_loss: 0.1691 - val_mean_absolute_error: 0.3443 - val_categorical_accuracy: 1.0000\n",
      "Epoch 74/600\n",
      "20/20 [==============================] - 0s 4ms/step - loss: 0.1560 - mean_absolute_error: 0.3373 - categorical_accuracy: 1.0000 - val_loss: 0.1686 - val_mean_absolute_error: 0.3440 - val_categorical_accuracy: 1.0000\n",
      "Epoch 75/600\n",
      "20/20 [==============================] - 0s 4ms/step - loss: 0.1607 - mean_absolute_error: 0.3413 - categorical_accuracy: 1.0000 - val_loss: 0.1690 - val_mean_absolute_error: 0.3422 - val_categorical_accuracy: 1.0000\n",
      "Epoch 76/600\n",
      "20/20 [==============================] - 0s 4ms/step - loss: 0.1598 - mean_absolute_error: 0.3414 - categorical_accuracy: 1.0000 - val_loss: 0.1684 - val_mean_absolute_error: 0.3446 - val_categorical_accuracy: 1.0000\n",
      "Epoch 77/600\n",
      "20/20 [==============================] - 0s 4ms/step - loss: 0.1498 - mean_absolute_error: 0.3336 - categorical_accuracy: 1.0000 - val_loss: 0.1678 - val_mean_absolute_error: 0.3448 - val_categorical_accuracy: 1.0000\n",
      "Epoch 78/600\n",
      "20/20 [==============================] - 0s 4ms/step - loss: 0.1637 - mean_absolute_error: 0.3509 - categorical_accuracy: 1.0000 - val_loss: 0.1687 - val_mean_absolute_error: 0.3411 - val_categorical_accuracy: 1.0000\n",
      "Epoch 79/600\n",
      "20/20 [==============================] - 0s 4ms/step - loss: 0.1556 - mean_absolute_error: 0.3338 - categorical_accuracy: 1.0000 - val_loss: 0.1686 - val_mean_absolute_error: 0.3402 - val_categorical_accuracy: 1.0000\n",
      "Epoch 80/600\n",
      "20/20 [==============================] - 0s 4ms/step - loss: 0.1530 - mean_absolute_error: 0.3324 - categorical_accuracy: 1.0000 - val_loss: 0.1680 - val_mean_absolute_error: 0.3399 - val_categorical_accuracy: 1.0000\n",
      "Epoch 81/600\n",
      "20/20 [==============================] - 0s 4ms/step - loss: 0.1457 - mean_absolute_error: 0.3205 - categorical_accuracy: 1.0000 - val_loss: 0.1682 - val_mean_absolute_error: 0.3398 - val_categorical_accuracy: 1.0000\n",
      "Epoch 82/600\n",
      "20/20 [==============================] - 0s 4ms/step - loss: 0.1512 - mean_absolute_error: 0.3315 - categorical_accuracy: 1.0000 - val_loss: 0.1676 - val_mean_absolute_error: 0.3410 - val_categorical_accuracy: 1.0000\n",
      "Epoch 83/600\n",
      "20/20 [==============================] - 0s 4ms/step - loss: 0.1543 - mean_absolute_error: 0.3330 - categorical_accuracy: 1.0000 - val_loss: 0.1675 - val_mean_absolute_error: 0.3404 - val_categorical_accuracy: 1.0000\n",
      "Epoch 84/600\n",
      "20/20 [==============================] - 0s 4ms/step - loss: 0.1528 - mean_absolute_error: 0.3332 - categorical_accuracy: 1.0000 - val_loss: 0.1675 - val_mean_absolute_error: 0.3395 - val_categorical_accuracy: 1.0000\n",
      "Epoch 85/600\n",
      "20/20 [==============================] - 0s 4ms/step - loss: 0.1548 - mean_absolute_error: 0.3371 - categorical_accuracy: 1.0000 - val_loss: 0.1671 - val_mean_absolute_error: 0.3394 - val_categorical_accuracy: 1.0000\n",
      "Epoch 86/600\n",
      "20/20 [==============================] - 0s 4ms/step - loss: 0.1538 - mean_absolute_error: 0.3372 - categorical_accuracy: 1.0000 - val_loss: 0.1677 - val_mean_absolute_error: 0.3367 - val_categorical_accuracy: 1.0000\n",
      "Epoch 87/600\n",
      "20/20 [==============================] - 0s 4ms/step - loss: 0.1471 - mean_absolute_error: 0.3264 - categorical_accuracy: 1.0000 - val_loss: 0.1672 - val_mean_absolute_error: 0.3378 - val_categorical_accuracy: 1.0000\n",
      "Epoch 88/600\n",
      "20/20 [==============================] - 0s 4ms/step - loss: 0.1591 - mean_absolute_error: 0.3358 - categorical_accuracy: 1.0000 - val_loss: 0.1685 - val_mean_absolute_error: 0.3345 - val_categorical_accuracy: 1.0000\n",
      "Epoch 89/600\n",
      "20/20 [==============================] - 0s 4ms/step - loss: 0.1490 - mean_absolute_error: 0.3187 - categorical_accuracy: 1.0000 - val_loss: 0.1678 - val_mean_absolute_error: 0.3361 - val_categorical_accuracy: 1.0000\n",
      "Epoch 90/600\n",
      "20/20 [==============================] - 0s 4ms/step - loss: 0.1586 - mean_absolute_error: 0.3381 - categorical_accuracy: 1.0000 - val_loss: 0.1672 - val_mean_absolute_error: 0.3375 - val_categorical_accuracy: 1.0000\n",
      "Epoch 91/600\n",
      "20/20 [==============================] - 0s 4ms/step - loss: 0.1435 - mean_absolute_error: 0.3183 - categorical_accuracy: 1.0000 - val_loss: 0.1685 - val_mean_absolute_error: 0.3346 - val_categorical_accuracy: 1.0000\n",
      "Epoch 92/600\n",
      "20/20 [==============================] - 0s 4ms/step - loss: 0.1511 - mean_absolute_error: 0.3230 - categorical_accuracy: 1.0000 - val_loss: 0.1671 - val_mean_absolute_error: 0.3386 - val_categorical_accuracy: 1.0000\n",
      "Epoch 93/600\n",
      "20/20 [==============================] - 0s 4ms/step - loss: 0.1550 - mean_absolute_error: 0.3322 - categorical_accuracy: 1.0000 - val_loss: 0.1674 - val_mean_absolute_error: 0.3359 - val_categorical_accuracy: 1.0000\n",
      "Epoch 94/600\n",
      "20/20 [==============================] - 0s 4ms/step - loss: 0.1485 - mean_absolute_error: 0.3195 - categorical_accuracy: 1.0000 - val_loss: 0.1687 - val_mean_absolute_error: 0.3332 - val_categorical_accuracy: 1.0000\n",
      "Epoch 95/600\n",
      "20/20 [==============================] - 0s 4ms/step - loss: 0.1521 - mean_absolute_error: 0.3245 - categorical_accuracy: 1.0000 - val_loss: 0.1681 - val_mean_absolute_error: 0.3330 - val_categorical_accuracy: 1.0000\n",
      "Epoch 96/600\n",
      "20/20 [==============================] - 0s 4ms/step - loss: 0.1479 - mean_absolute_error: 0.3164 - categorical_accuracy: 1.0000 - val_loss: 0.1676 - val_mean_absolute_error: 0.3335 - val_categorical_accuracy: 1.0000\n",
      "Epoch 97/600\n",
      "20/20 [==============================] - 0s 4ms/step - loss: 0.1575 - mean_absolute_error: 0.3334 - categorical_accuracy: 1.0000 - val_loss: 0.1683 - val_mean_absolute_error: 0.3321 - val_categorical_accuracy: 1.0000\n",
      "Epoch 98/600\n",
      "20/20 [==============================] - 0s 6ms/step - loss: 0.1567 - mean_absolute_error: 0.3334 - categorical_accuracy: 1.0000 - val_loss: 0.1673 - val_mean_absolute_error: 0.3341 - val_categorical_accuracy: 1.0000\n",
      "Epoch 99/600\n",
      "20/20 [==============================] - 0s 5ms/step - loss: 0.1388 - mean_absolute_error: 0.3086 - categorical_accuracy: 1.0000 - val_loss: 0.1685 - val_mean_absolute_error: 0.3315 - val_categorical_accuracy: 1.0000\n",
      "Epoch 100/600\n",
      "20/20 [==============================] - 0s 5ms/step - loss: 0.1385 - mean_absolute_error: 0.3034 - categorical_accuracy: 1.0000 - val_loss: 0.1677 - val_mean_absolute_error: 0.3326 - val_categorical_accuracy: 1.0000\n",
      "Epoch 101/600\n",
      "20/20 [==============================] - 0s 5ms/step - loss: 0.1497 - mean_absolute_error: 0.3224 - categorical_accuracy: 1.0000 - val_loss: 0.1680 - val_mean_absolute_error: 0.3322 - val_categorical_accuracy: 1.0000\n",
      "Epoch 102/600\n",
      "20/20 [==============================] - 0s 4ms/step - loss: 0.1509 - mean_absolute_error: 0.3213 - categorical_accuracy: 1.0000 - val_loss: 0.1679 - val_mean_absolute_error: 0.3336 - val_categorical_accuracy: 1.0000\n",
      "Epoch 103/600\n",
      "20/20 [==============================] - 0s 4ms/step - loss: 0.1571 - mean_absolute_error: 0.3330 - categorical_accuracy: 1.0000 - val_loss: 0.1677 - val_mean_absolute_error: 0.3337 - val_categorical_accuracy: 1.0000\n",
      "Epoch 104/600\n",
      "20/20 [==============================] - 0s 4ms/step - loss: 0.1598 - mean_absolute_error: 0.3372 - categorical_accuracy: 1.0000 - val_loss: 0.1678 - val_mean_absolute_error: 0.3327 - val_categorical_accuracy: 1.0000\n",
      "Epoch 105/600\n",
      "20/20 [==============================] - 0s 4ms/step - loss: 0.1517 - mean_absolute_error: 0.3192 - categorical_accuracy: 1.0000 - val_loss: 0.1699 - val_mean_absolute_error: 0.3292 - val_categorical_accuracy: 1.0000\n",
      "Epoch 106/600\n",
      "20/20 [==============================] - 0s 4ms/step - loss: 0.1512 - mean_absolute_error: 0.3273 - categorical_accuracy: 1.0000 - val_loss: 0.1669 - val_mean_absolute_error: 0.3345 - val_categorical_accuracy: 1.0000\n",
      "Epoch 107/600\n",
      "20/20 [==============================] - 0s 4ms/step - loss: 0.1627 - mean_absolute_error: 0.3391 - categorical_accuracy: 1.0000 - val_loss: 0.1682 - val_mean_absolute_error: 0.3303 - val_categorical_accuracy: 1.0000\n",
      "Epoch 108/600\n"
     ]
    },
    {
     "name": "stdout",
     "output_type": "stream",
     "text": [
      "20/20 [==============================] - 0s 3ms/step - loss: 0.1392 - mean_absolute_error: 0.3091 - categorical_accuracy: 1.0000 - val_loss: 0.1672 - val_mean_absolute_error: 0.3318 - val_categorical_accuracy: 1.0000\n",
      "Epoch 109/600\n",
      "20/20 [==============================] - 0s 4ms/step - loss: 0.1472 - mean_absolute_error: 0.3209 - categorical_accuracy: 1.0000 - val_loss: 0.1677 - val_mean_absolute_error: 0.3314 - val_categorical_accuracy: 1.0000\n",
      "Epoch 110/600\n",
      "20/20 [==============================] - 0s 4ms/step - loss: 0.1470 - mean_absolute_error: 0.3178 - categorical_accuracy: 1.0000 - val_loss: 0.1675 - val_mean_absolute_error: 0.3310 - val_categorical_accuracy: 1.0000\n",
      "Epoch 111/600\n",
      "20/20 [==============================] - 0s 4ms/step - loss: 0.1483 - mean_absolute_error: 0.3211 - categorical_accuracy: 1.0000 - val_loss: 0.1681 - val_mean_absolute_error: 0.3296 - val_categorical_accuracy: 1.0000\n",
      "Epoch 112/600\n",
      "20/20 [==============================] - 0s 4ms/step - loss: 0.1510 - mean_absolute_error: 0.3222 - categorical_accuracy: 1.0000 - val_loss: 0.1676 - val_mean_absolute_error: 0.3308 - val_categorical_accuracy: 1.0000\n",
      "Epoch 113/600\n",
      "20/20 [==============================] - 0s 4ms/step - loss: 0.1473 - mean_absolute_error: 0.3155 - categorical_accuracy: 1.0000 - val_loss: 0.1675 - val_mean_absolute_error: 0.3312 - val_categorical_accuracy: 1.0000\n",
      "Epoch 114/600\n",
      "20/20 [==============================] - 0s 4ms/step - loss: 0.1443 - mean_absolute_error: 0.3192 - categorical_accuracy: 1.0000 - val_loss: 0.1667 - val_mean_absolute_error: 0.3340 - val_categorical_accuracy: 1.0000\n",
      "Epoch 115/600\n",
      "20/20 [==============================] - 0s 4ms/step - loss: 0.1466 - mean_absolute_error: 0.3246 - categorical_accuracy: 1.0000 - val_loss: 0.1674 - val_mean_absolute_error: 0.3314 - val_categorical_accuracy: 1.0000\n",
      "Epoch 116/600\n",
      "20/20 [==============================] - 0s 4ms/step - loss: 0.1500 - mean_absolute_error: 0.3232 - categorical_accuracy: 1.0000 - val_loss: 0.1677 - val_mean_absolute_error: 0.3303 - val_categorical_accuracy: 1.0000\n",
      "Epoch 117/600\n",
      "20/20 [==============================] - 0s 4ms/step - loss: 0.1377 - mean_absolute_error: 0.3005 - categorical_accuracy: 1.0000 - val_loss: 0.1690 - val_mean_absolute_error: 0.3287 - val_categorical_accuracy: 1.0000\n",
      "Epoch 118/600\n",
      "20/20 [==============================] - 0s 4ms/step - loss: 0.1462 - mean_absolute_error: 0.3182 - categorical_accuracy: 1.0000 - val_loss: 0.1675 - val_mean_absolute_error: 0.3317 - val_categorical_accuracy: 1.0000\n",
      "Epoch 119/600\n",
      "20/20 [==============================] - 0s 4ms/step - loss: 0.1517 - mean_absolute_error: 0.3273 - categorical_accuracy: 1.0000 - val_loss: 0.1673 - val_mean_absolute_error: 0.3321 - val_categorical_accuracy: 1.0000\n",
      "Epoch 120/600\n",
      "20/20 [==============================] - 0s 4ms/step - loss: 0.1491 - mean_absolute_error: 0.3259 - categorical_accuracy: 1.0000 - val_loss: 0.1682 - val_mean_absolute_error: 0.3307 - val_categorical_accuracy: 1.0000\n",
      "Epoch 121/600\n",
      "20/20 [==============================] - 0s 4ms/step - loss: 0.1483 - mean_absolute_error: 0.3212 - categorical_accuracy: 1.0000 - val_loss: 0.1681 - val_mean_absolute_error: 0.3309 - val_categorical_accuracy: 1.0000\n",
      "Epoch 122/600\n",
      "20/20 [==============================] - 0s 5ms/step - loss: 0.1446 - mean_absolute_error: 0.3152 - categorical_accuracy: 1.0000 - val_loss: 0.1690 - val_mean_absolute_error: 0.3289 - val_categorical_accuracy: 1.0000\n",
      "Epoch 123/600\n",
      "20/20 [==============================] - 0s 6ms/step - loss: 0.1505 - mean_absolute_error: 0.3183 - categorical_accuracy: 1.0000 - val_loss: 0.1683 - val_mean_absolute_error: 0.3309 - val_categorical_accuracy: 1.0000\n",
      "Epoch 124/600\n",
      "20/20 [==============================] - 0s 5ms/step - loss: 0.1412 - mean_absolute_error: 0.3120 - categorical_accuracy: 1.0000 - val_loss: 0.1694 - val_mean_absolute_error: 0.3285 - val_categorical_accuracy: 1.0000\n",
      "Epoch 125/600\n",
      "20/20 [==============================] - 0s 5ms/step - loss: 0.1534 - mean_absolute_error: 0.3253 - categorical_accuracy: 1.0000 - val_loss: 0.1685 - val_mean_absolute_error: 0.3309 - val_categorical_accuracy: 1.0000\n",
      "Epoch 126/600\n",
      "20/20 [==============================] - 0s 4ms/step - loss: 0.1432 - mean_absolute_error: 0.3100 - categorical_accuracy: 1.0000 - val_loss: 0.1689 - val_mean_absolute_error: 0.3296 - val_categorical_accuracy: 1.0000\n",
      "Epoch 127/600\n",
      "20/20 [==============================] - 0s 5ms/step - loss: 0.1418 - mean_absolute_error: 0.3107 - categorical_accuracy: 1.0000 - val_loss: 0.1694 - val_mean_absolute_error: 0.3289 - val_categorical_accuracy: 1.0000\n",
      "Epoch 128/600\n",
      "20/20 [==============================] - 0s 4ms/step - loss: 0.1374 - mean_absolute_error: 0.3051 - categorical_accuracy: 1.0000 - val_loss: 0.1698 - val_mean_absolute_error: 0.3284 - val_categorical_accuracy: 1.0000\n",
      "Epoch 129/600\n",
      "20/20 [==============================] - 0s 4ms/step - loss: 0.1474 - mean_absolute_error: 0.3185 - categorical_accuracy: 1.0000 - val_loss: 0.1687 - val_mean_absolute_error: 0.3305 - val_categorical_accuracy: 1.0000\n",
      "Epoch 130/600\n",
      "20/20 [==============================] - 0s 3ms/step - loss: 0.1462 - mean_absolute_error: 0.3160 - categorical_accuracy: 1.0000 - val_loss: 0.1704 - val_mean_absolute_error: 0.3272 - val_categorical_accuracy: 1.0000\n",
      "Epoch 131/600\n",
      "20/20 [==============================] - 0s 4ms/step - loss: 0.1440 - mean_absolute_error: 0.3082 - categorical_accuracy: 1.0000 - val_loss: 0.1694 - val_mean_absolute_error: 0.3280 - val_categorical_accuracy: 1.0000\n",
      "Epoch 132/600\n",
      "20/20 [==============================] - 0s 4ms/step - loss: 0.1401 - mean_absolute_error: 0.3050 - categorical_accuracy: 1.0000 - val_loss: 0.1695 - val_mean_absolute_error: 0.3279 - val_categorical_accuracy: 1.0000\n",
      "Epoch 133/600\n",
      "20/20 [==============================] - 0s 4ms/step - loss: 0.1487 - mean_absolute_error: 0.3160 - categorical_accuracy: 1.0000 - val_loss: 0.1693 - val_mean_absolute_error: 0.3291 - val_categorical_accuracy: 1.0000\n",
      "Epoch 134/600\n",
      "20/20 [==============================] - 0s 4ms/step - loss: 0.1372 - mean_absolute_error: 0.3009 - categorical_accuracy: 1.0000 - val_loss: 0.1705 - val_mean_absolute_error: 0.3268 - val_categorical_accuracy: 1.0000\n",
      "Epoch 135/600\n",
      "20/20 [==============================] - 0s 4ms/step - loss: 0.1392 - mean_absolute_error: 0.3084 - categorical_accuracy: 1.0000 - val_loss: 0.1688 - val_mean_absolute_error: 0.3292 - val_categorical_accuracy: 1.0000\n",
      "Epoch 136/600\n",
      "20/20 [==============================] - 0s 4ms/step - loss: 0.1374 - mean_absolute_error: 0.3036 - categorical_accuracy: 1.0000 - val_loss: 0.1698 - val_mean_absolute_error: 0.3273 - val_categorical_accuracy: 1.0000\n",
      "Epoch 137/600\n",
      "20/20 [==============================] - 0s 4ms/step - loss: 0.1448 - mean_absolute_error: 0.3156 - categorical_accuracy: 1.0000 - val_loss: 0.1703 - val_mean_absolute_error: 0.3266 - val_categorical_accuracy: 1.0000\n",
      "Epoch 138/600\n",
      "20/20 [==============================] - 0s 4ms/step - loss: 0.1489 - mean_absolute_error: 0.3158 - categorical_accuracy: 1.0000 - val_loss: 0.1705 - val_mean_absolute_error: 0.3266 - val_categorical_accuracy: 1.0000\n",
      "Epoch 139/600\n",
      "20/20 [==============================] - 0s 4ms/step - loss: 0.1440 - mean_absolute_error: 0.3047 - categorical_accuracy: 1.0000 - val_loss: 0.1705 - val_mean_absolute_error: 0.3260 - val_categorical_accuracy: 1.0000\n",
      "Epoch 00139: early stopping\n"
     ]
    },
    {
     "data": {
      "text/plain": [
       "<tensorflow.python.keras.callbacks.History at 0x1ff40c930a0>"
      ]
     },
     "execution_count": 69,
     "metadata": {},
     "output_type": "execute_result"
    }
   ],
   "source": [
    "model.fit(x=X_train,y=Y_train,epochs=600,validation_data=(X_test,Y_test),\n",
    "         callbacks=[early_stop])"
   ]
  },
  {
   "cell_type": "code",
   "execution_count": 70,
   "metadata": {},
   "outputs": [],
   "source": [
    "losses=pd.DataFrame(model.history.history)"
   ]
  },
  {
   "cell_type": "code",
   "execution_count": 71,
   "metadata": {},
   "outputs": [
    {
     "data": {
      "text/plain": [
       "<AxesSubplot:>"
      ]
     },
     "execution_count": 71,
     "metadata": {},
     "output_type": "execute_result"
    },
    {
     "data": {
      "image/png": "[encoded data removed]",
      "text/plain": [
       "<Figure size 432x288 with 1 Axes>"
      ]
     },
     "metadata": {
      "needs_background": "light"
     },
     "output_type": "display_data"
    }
   ],
   "source": [
    "losses.plot()"
   ]
  },
  {
   "cell_type": "code",
   "execution_count": 72,
   "metadata": {},
   "outputs": [
    {
     "name": "stdout",
     "output_type": "stream",
     "text": [
      "0.1705493161188769\n"
     ]
    }
   ],
   "source": [
    "from sklearn.metrics import mean_squared_error\n",
    "predictions=model.predict(X_test)\n",
    "print(mean_squared_error(Y_test,predictions ))"
   ]
  },
  {
   "cell_type": "code",
   "execution_count": null,
   "metadata": {},
   "outputs": [],
   "source": []
  },
  {
   "cell_type": "markdown",
   "metadata": {},
   "source": [
    "# Random Forest Classifier"
   ]
  },
  {
   "cell_type": "code",
   "execution_count": 73,
   "metadata": {},
   "outputs": [
    {
     "data": {
      "text/plain": [
       "RandomForestClassifier(n_estimators=1000)"
      ]
     },
     "execution_count": 73,
     "metadata": {},
     "output_type": "execute_result"
    }
   ],
   "source": [
    "from sklearn.ensemble import RandomForestClassifier\n",
    "model = RandomForestClassifier(n_estimators=1000)\n",
    "model.fit(X_train, Y_train)"
   ]
  },
  {
   "cell_type": "code",
   "execution_count": 74,
   "metadata": {},
   "outputs": [],
   "source": [
    "Y_pred=model.predict(X_test)"
   ]
  },
  {
   "cell_type": "code",
   "execution_count": 75,
   "metadata": {},
   "outputs": [
    {
     "data": {
      "text/plain": [
       "0.7597402597402597"
      ]
     },
     "execution_count": 75,
     "metadata": {},
     "output_type": "execute_result"
    }
   ],
   "source": [
    "accuracy_score(Y_test,Y_pred)"
   ]
  },
  {
   "cell_type": "code",
   "execution_count": 76,
   "metadata": {},
   "outputs": [
    {
     "name": "stdout",
     "output_type": "stream",
     "text": [
      "0.24025974025974026\n"
     ]
    }
   ],
   "source": [
    "print(mean_squared_error(Y_test, Y_pred))"
   ]
  },
  {
   "cell_type": "markdown",
   "metadata": {},
   "source": [
    "# Gradient Boosting Classifier"
   ]
  },
  {
   "cell_type": "code",
   "execution_count": 77,
   "metadata": {},
   "outputs": [
    {
     "data": {
      "text/plain": [
       "0.7727272727272727"
      ]
     },
     "execution_count": 77,
     "metadata": {},
     "output_type": "execute_result"
    }
   ],
   "source": [
    "from sklearn.ensemble import GradientBoostingClassifier\n",
    "\n",
    "model = GradientBoostingClassifier()\n",
    "\n",
    "#fiting the model\n",
    "model.fit(X_train, Y_train)\n",
    "\n",
    "#prediction\n",
    "y_pred = model.predict(X_test)\n",
    "\n",
    "#Accuracy\n",
    "accuracy_score(Y_test,y_pred)"
   ]
  },
  {
   "cell_type": "code",
   "execution_count": 78,
   "metadata": {},
   "outputs": [
    {
     "name": "stdout",
     "output_type": "stream",
     "text": [
      "0.24025974025974026\n"
     ]
    }
   ],
   "source": [
    "print(mean_squared_error(Y_test, Y_pred))"
   ]
  },
  {
   "cell_type": "code",
   "execution_count": null,
   "metadata": {},
   "outputs": [],
   "source": []
  },
  {
   "cell_type": "markdown",
   "metadata": {},
   "source": [
    "# XGBClassifier"
   ]
  },
  {
   "cell_type": "code",
   "execution_count": 79,
   "metadata": {},
   "outputs": [
    {
     "name": "stdout",
     "output_type": "stream",
     "text": [
      "[20:28:02] WARNING: C:/Users/Administrator/workspace/xgboost-win64_release_1.4.0/src/learner.cc:1095: Starting in XGBoost 1.3.0, the default evaluation metric used with the objective 'binary:logistic' was changed from 'error' to 'logloss'. Explicitly set eval_metric if you'd like to restore the old behavior.\n"
     ]
    },
    {
     "name": "stderr",
     "output_type": "stream",
     "text": [
      "C:\\Users\\Rahul Airan\\anaconda3\\lib\\site-packages\\xgboost\\sklearn.py:1146: UserWarning: The use of label encoder in XGBClassifier is deprecated and will be removed in a future release. To remove this warning, do the following: 1) Pass option use_label_encoder=False when constructing XGBClassifier object; and 2) Encode your labels (y) as integers starting with 0, i.e. 0, 1, 2, ..., [num_class - 1].\n",
      "  warnings.warn(label_encoder_deprecation_msg, UserWarning)\n",
      "C:\\Users\\Rahul Airan\\anaconda3\\lib\\site-packages\\xgboost\\data.py:112: UserWarning: Use subset (sliced data) of np.ndarray is not recommended because it will generate extra copies and increase memory consumption\n",
      "  warnings.warn(\n"
     ]
    },
    {
     "data": {
      "text/plain": [
       "0.74026"
      ]
     },
     "execution_count": 79,
     "metadata": {},
     "output_type": "execute_result"
    }
   ],
   "source": [
    "#!pip install xgboost\n",
    "from xgboost import XGBClassifier\n",
    "model = XGBClassifier()\n",
    "model.fit(X_train, Y_train)\n",
    "y_pred = model.predict(X_test)\n",
    "predictions = [round(value) for value in y_pred]\n",
    "accuracy = round(accuracy_score(Y_test, predictions),5)\n",
    "accuracy"
   ]
  },
  {
   "cell_type": "code",
   "execution_count": null,
   "metadata": {},
   "outputs": [],
   "source": []
  },
  {
   "cell_type": "code",
   "execution_count": null,
   "metadata": {},
   "outputs": [],
   "source": []
  },
  {
   "cell_type": "markdown",
   "metadata": {},
   "source": [
    "# KNeighbourClassifier"
   ]
  },
  {
   "cell_type": "code",
   "execution_count": 80,
   "metadata": {},
   "outputs": [
    {
     "name": "stdout",
     "output_type": "stream",
     "text": [
      "Accuracy is 0.7207792207792207\n"
     ]
    }
   ],
   "source": [
    "from sklearn.metrics import accuracy_score\n",
    "from sklearn.neighbors  import KNeighborsClassifier\n",
    "\n",
    "knn = KNeighborsClassifier(n_neighbors=8)\n",
    "clf_ = knn.fit(X_train, Y_train)\n",
    "y_pred = clf_.predict(X_test)\n",
    "print('Accuracy is {}'.format(accuracy_score(Y_test,y_pred )))"
   ]
  },
  {
   "cell_type": "code",
   "execution_count": null,
   "metadata": {},
   "outputs": [],
   "source": []
  },
  {
   "cell_type": "code",
   "execution_count": null,
   "metadata": {},
   "outputs": [],
   "source": []
  },
  {
   "cell_type": "code",
   "execution_count": null,
   "metadata": {},
   "outputs": [],
   "source": []
  },
  {
   "cell_type": "code",
   "execution_count": null,
   "metadata": {},
   "outputs": [],
   "source": []
  }
 ],
 "metadata": {
  "kernelspec": {
   "display_name": "Python 3",
   "language": "python",
   "name": "python3"
  },
  "language_info": {
   "codemirror_mode": {
    "name": "ipython",
    "version": 3
   },
   "file_extension": ".py",
   "mimetype": "text/x-python",
   "name": "python",
   "nbconvert_exporter": "python",
   "pygments_lexer": "ipython3",
   "version": "3.8.5"
  }
 },
 "nbformat": 4,
 "nbformat_minor": 2
}
